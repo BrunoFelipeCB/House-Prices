{
 "cells": [
  {
   "cell_type": "markdown",
   "id": "6c04098b",
   "metadata": {},
   "source": [
    "# Análise Exploratória dos Dados\n",
    "- Vamos começar analisando na base gerada na etapa anterior\n",
    "- Vamos transformar nossos dados de forma que podemos utilizá-los no modelo"
   ]
  },
  {
   "cell_type": "code",
   "execution_count": 2,
   "id": "6480e949",
   "metadata": {},
   "outputs": [],
   "source": [
    "# Importando a base\n",
    "import pandas as pd\n",
    "treino =pd.read_csv('train_cleaning.csv')\n",
    "teste=pd.read_csv('teste_cleaning.csv')"
   ]
  },
  {
   "cell_type": "code",
   "execution_count": 3,
   "id": "78bd7f02",
   "metadata": {},
   "outputs": [
    {
     "data": {
      "text/html": [
       "<div>\n",
       "<style scoped>\n",
       "    .dataframe tbody tr th:only-of-type {\n",
       "        vertical-align: middle;\n",
       "    }\n",
       "\n",
       "    .dataframe tbody tr th {\n",
       "        vertical-align: top;\n",
       "    }\n",
       "\n",
       "    .dataframe thead th {\n",
       "        text-align: right;\n",
       "    }\n",
       "</style>\n",
       "<table border=\"1\" class=\"dataframe\">\n",
       "  <thead>\n",
       "    <tr style=\"text-align: right;\">\n",
       "      <th></th>\n",
       "      <th>Id</th>\n",
       "      <th>MSSubClass</th>\n",
       "      <th>MSZoning</th>\n",
       "      <th>LotFrontage</th>\n",
       "      <th>LotArea</th>\n",
       "      <th>Street</th>\n",
       "      <th>Alley</th>\n",
       "      <th>LotShape</th>\n",
       "      <th>LandContour</th>\n",
       "      <th>Utilities</th>\n",
       "      <th>...</th>\n",
       "      <th>PoolArea</th>\n",
       "      <th>PoolQC</th>\n",
       "      <th>Fence</th>\n",
       "      <th>MiscFeature</th>\n",
       "      <th>MiscVal</th>\n",
       "      <th>MoSold</th>\n",
       "      <th>YrSold</th>\n",
       "      <th>SaleType</th>\n",
       "      <th>SaleCondition</th>\n",
       "      <th>SalePrice</th>\n",
       "    </tr>\n",
       "  </thead>\n",
       "  <tbody>\n",
       "    <tr>\n",
       "      <th>0</th>\n",
       "      <td>1</td>\n",
       "      <td>60</td>\n",
       "      <td>RL</td>\n",
       "      <td>65.0</td>\n",
       "      <td>8450</td>\n",
       "      <td>Pave</td>\n",
       "      <td>-1</td>\n",
       "      <td>Reg</td>\n",
       "      <td>Lvl</td>\n",
       "      <td>AllPub</td>\n",
       "      <td>...</td>\n",
       "      <td>0</td>\n",
       "      <td>-1</td>\n",
       "      <td>-1</td>\n",
       "      <td>-1</td>\n",
       "      <td>0</td>\n",
       "      <td>2</td>\n",
       "      <td>2008</td>\n",
       "      <td>WD</td>\n",
       "      <td>Normal</td>\n",
       "      <td>208500</td>\n",
       "    </tr>\n",
       "    <tr>\n",
       "      <th>1</th>\n",
       "      <td>2</td>\n",
       "      <td>20</td>\n",
       "      <td>RL</td>\n",
       "      <td>80.0</td>\n",
       "      <td>9600</td>\n",
       "      <td>Pave</td>\n",
       "      <td>-1</td>\n",
       "      <td>Reg</td>\n",
       "      <td>Lvl</td>\n",
       "      <td>AllPub</td>\n",
       "      <td>...</td>\n",
       "      <td>0</td>\n",
       "      <td>-1</td>\n",
       "      <td>-1</td>\n",
       "      <td>-1</td>\n",
       "      <td>0</td>\n",
       "      <td>5</td>\n",
       "      <td>2007</td>\n",
       "      <td>WD</td>\n",
       "      <td>Normal</td>\n",
       "      <td>181500</td>\n",
       "    </tr>\n",
       "  </tbody>\n",
       "</table>\n",
       "<p>2 rows × 81 columns</p>\n",
       "</div>"
      ],
      "text/plain": [
       "   Id  MSSubClass MSZoning  LotFrontage  LotArea Street Alley LotShape  \\\n",
       "0   1          60       RL         65.0     8450   Pave    -1      Reg   \n",
       "1   2          20       RL         80.0     9600   Pave    -1      Reg   \n",
       "\n",
       "  LandContour Utilities  ... PoolArea PoolQC Fence MiscFeature MiscVal MoSold  \\\n",
       "0         Lvl    AllPub  ...        0     -1    -1          -1       0      2   \n",
       "1         Lvl    AllPub  ...        0     -1    -1          -1       0      5   \n",
       "\n",
       "  YrSold  SaleType  SaleCondition  SalePrice  \n",
       "0   2008        WD         Normal     208500  \n",
       "1   2007        WD         Normal     181500  \n",
       "\n",
       "[2 rows x 81 columns]"
      ]
     },
     "execution_count": 3,
     "metadata": {},
     "output_type": "execute_result"
    }
   ],
   "source": [
    "# Visualizando o shape das bases\n",
    "treino.head(2)"
   ]
  },
  {
   "cell_type": "code",
   "execution_count": 4,
   "id": "e2db5163",
   "metadata": {},
   "outputs": [
    {
     "data": {
      "text/plain": [
       "(1460, 81)"
      ]
     },
     "execution_count": 4,
     "metadata": {},
     "output_type": "execute_result"
    }
   ],
   "source": [
    "# Podemos verificar novamente as informações dessa base\n",
    "treino.shape"
   ]
  },
  {
   "cell_type": "code",
   "execution_count": 5,
   "id": "8d1583ba",
   "metadata": {
    "scrolled": true
   },
   "outputs": [
    {
     "name": "stdout",
     "output_type": "stream",
     "text": [
      "<class 'pandas.core.frame.DataFrame'>\n",
      "RangeIndex: 1460 entries, 0 to 1459\n",
      "Data columns (total 81 columns):\n",
      " #   Column         Non-Null Count  Dtype  \n",
      "---  ------         --------------  -----  \n",
      " 0   Id             1460 non-null   int64  \n",
      " 1   MSSubClass     1460 non-null   int64  \n",
      " 2   MSZoning       1460 non-null   object \n",
      " 3   LotFrontage    1460 non-null   float64\n",
      " 4   LotArea        1460 non-null   int64  \n",
      " 5   Street         1460 non-null   object \n",
      " 6   Alley          1460 non-null   object \n",
      " 7   LotShape       1460 non-null   object \n",
      " 8   LandContour    1460 non-null   object \n",
      " 9   Utilities      1460 non-null   object \n",
      " 10  LotConfig      1460 non-null   object \n",
      " 11  LandSlope      1460 non-null   object \n",
      " 12  Neighborhood   1460 non-null   object \n",
      " 13  Condition1     1460 non-null   object \n",
      " 14  Condition2     1460 non-null   object \n",
      " 15  BldgType       1460 non-null   object \n",
      " 16  HouseStyle     1460 non-null   object \n",
      " 17  OverallQual    1460 non-null   int64  \n",
      " 18  OverallCond    1460 non-null   int64  \n",
      " 19  YearBuilt      1460 non-null   int64  \n",
      " 20  YearRemodAdd   1460 non-null   int64  \n",
      " 21  RoofStyle      1460 non-null   object \n",
      " 22  RoofMatl       1460 non-null   object \n",
      " 23  Exterior1st    1460 non-null   object \n",
      " 24  Exterior2nd    1460 non-null   object \n",
      " 25  MasVnrType     1460 non-null   object \n",
      " 26  MasVnrArea     1460 non-null   float64\n",
      " 27  ExterQual      1460 non-null   object \n",
      " 28  ExterCond      1460 non-null   object \n",
      " 29  Foundation     1460 non-null   object \n",
      " 30  BsmtQual       1460 non-null   object \n",
      " 31  BsmtCond       1460 non-null   object \n",
      " 32  BsmtExposure   1460 non-null   object \n",
      " 33  BsmtFinType1   1460 non-null   object \n",
      " 34  BsmtFinSF1     1460 non-null   int64  \n",
      " 35  BsmtFinType2   1460 non-null   object \n",
      " 36  BsmtFinSF2     1460 non-null   object \n",
      " 37  BsmtUnfSF      1460 non-null   int64  \n",
      " 38  TotalBsmtSF    1460 non-null   int64  \n",
      " 39  Heating        1460 non-null   object \n",
      " 40  HeatingQC      1460 non-null   object \n",
      " 41  CentralAir     1460 non-null   object \n",
      " 42  Electrical     1460 non-null   object \n",
      " 43  1stFlrSF       1460 non-null   int64  \n",
      " 44  2ndFlrSF       1460 non-null   int64  \n",
      " 45  LowQualFinSF   1460 non-null   int64  \n",
      " 46  GrLivArea      1460 non-null   int64  \n",
      " 47  BsmtFullBath   1460 non-null   int64  \n",
      " 48  BsmtHalfBath   1460 non-null   int64  \n",
      " 49  FullBath       1460 non-null   int64  \n",
      " 50  HalfBath       1460 non-null   int64  \n",
      " 51  BedroomAbvGr   1460 non-null   int64  \n",
      " 52  KitchenAbvGr   1460 non-null   int64  \n",
      " 53  KitchenQual    1460 non-null   object \n",
      " 54  TotRmsAbvGrd   1460 non-null   int64  \n",
      " 55  Functional     1460 non-null   object \n",
      " 56  Fireplaces     1460 non-null   int64  \n",
      " 57  FireplaceQu    1460 non-null   object \n",
      " 58  GarageType     1460 non-null   object \n",
      " 59  GarageYrBlt    1460 non-null   float64\n",
      " 60  GarageFinish   1460 non-null   object \n",
      " 61  GarageCars     1460 non-null   int64  \n",
      " 62  GarageArea     1460 non-null   int64  \n",
      " 63  GarageQual     1460 non-null   object \n",
      " 64  GarageCond     1460 non-null   object \n",
      " 65  PavedDrive     1460 non-null   object \n",
      " 66  WoodDeckSF     1460 non-null   int64  \n",
      " 67  OpenPorchSF    1460 non-null   int64  \n",
      " 68  EnclosedPorch  1460 non-null   int64  \n",
      " 69  3SsnPorch      1460 non-null   int64  \n",
      " 70  ScreenPorch    1460 non-null   int64  \n",
      " 71  PoolArea       1460 non-null   int64  \n",
      " 72  PoolQC         1460 non-null   object \n",
      " 73  Fence          1460 non-null   object \n",
      " 74  MiscFeature    1460 non-null   object \n",
      " 75  MiscVal        1460 non-null   int64  \n",
      " 76  MoSold         1460 non-null   int64  \n",
      " 77  YrSold         1460 non-null   int64  \n",
      " 78  SaleType       1460 non-null   object \n",
      " 79  SaleCondition  1460 non-null   object \n",
      " 80  SalePrice      1460 non-null   int64  \n",
      "dtypes: float64(3), int64(34), object(44)\n",
      "memory usage: 924.0+ KB\n"
     ]
    }
   ],
   "source": [
    "# E também a quantidade de colunas de cada tipo\n",
    "treino.info()"
   ]
  },
  {
   "cell_type": "code",
   "execution_count": 6,
   "id": "27c22620",
   "metadata": {},
   "outputs": [
    {
     "data": {
      "text/plain": [
       "Id             1460\n",
       "LotArea        1073\n",
       "GrLivArea       861\n",
       "BsmtUnfSF       780\n",
       "1stFlrSF        753\n",
       "TotalBsmtSF     721\n",
       "SalePrice       663\n",
       "BsmtFinSF1      637\n",
       "GarageArea      441\n",
       "2ndFlrSF        417\n",
       "dtype: int64"
      ]
     },
     "execution_count": 6,
     "metadata": {},
     "output_type": "execute_result"
    }
   ],
   "source": [
    "# Verificando a cardinalidade dos dados\n",
    "treino.nunique().sort_values(ascending=False).head(10)"
   ]
  },
  {
   "cell_type": "markdown",
   "id": "1cc8128d",
   "metadata": {},
   "source": [
    "- Exceto o ID, nenhum valor tem uma cardinalidade muito alta e não irei eliminar esse valor pois vamos usar esse dado para fazer a submissão do nosso código "
   ]
  },
  {
   "cell_type": "markdown",
   "id": "d40df369",
   "metadata": {},
   "source": [
    "- **Podemos avaliar diretamente a correlação das variáveis numéricas**"
   ]
  },
  {
   "cell_type": "code",
   "execution_count": 7,
   "id": "403a9da1",
   "metadata": {},
   "outputs": [
    {
     "data": {
      "text/plain": [
       "KitchenAbvGr    -0.135907\n",
       "EnclosedPorch   -0.128578\n",
       "MSSubClass      -0.084284\n",
       "OverallCond     -0.077856\n",
       "YrSold          -0.028923\n",
       "LowQualFinSF    -0.025606\n",
       "Id              -0.021917\n",
       "MiscVal         -0.021190\n",
       "BsmtHalfBath    -0.016844\n",
       "3SsnPorch        0.044584\n",
       "MoSold           0.046432\n",
       "PoolArea         0.092404\n",
       "ScreenPorch      0.111447\n",
       "BedroomAbvGr     0.168213\n",
       "BsmtUnfSF        0.214479\n",
       "BsmtFullBath     0.227122\n",
       "GarageYrBlt      0.261354\n",
       "LotArea          0.263843\n",
       "HalfBath         0.284108\n",
       "OpenPorchSF      0.315856\n",
       "2ndFlrSF         0.319334\n",
       "WoodDeckSF       0.324413\n",
       "LotFrontage      0.330222\n",
       "BsmtFinSF1       0.386420\n",
       "Fireplaces       0.466929\n",
       "MasVnrArea       0.472614\n",
       "YearRemodAdd     0.507101\n",
       "YearBuilt        0.522897\n",
       "TotRmsAbvGrd     0.533723\n",
       "FullBath         0.560664\n",
       "1stFlrSF         0.605852\n",
       "TotalBsmtSF      0.613581\n",
       "GarageArea       0.623431\n",
       "GarageCars       0.640409\n",
       "GrLivArea        0.708624\n",
       "OverallQual      0.790982\n",
       "SalePrice        1.000000\n",
       "Name: SalePrice, dtype: float64"
      ]
     },
     "execution_count": 7,
     "metadata": {},
     "output_type": "execute_result"
    }
   ],
   "source": [
    "# Verificando a correlação entre os valores\n",
    "treino.corr()['SalePrice'].sort_values()"
   ]
  },
  {
   "cell_type": "markdown",
   "id": "1446a827",
   "metadata": {},
   "source": [
    "- **Vamos considerar as colunas OverallQual, BsmtHalfBath que possuem correlação positiva e KitchenAbvGr que possui correlação negativa.**"
   ]
  },
  {
   "cell_type": "code",
   "execution_count": 8,
   "id": "76b6ba59",
   "metadata": {},
   "outputs": [
    {
     "data": {
      "image/png": "[encoded data removed]",
      "text/plain": [
       "<Figure size 1600x800 with 3 Axes>"
      ]
     },
     "metadata": {},
     "output_type": "display_data"
    }
   ],
   "source": [
    "# Criando esse gráfico\n",
    "import matplotlib.pyplot as plt\n",
    "import seaborn as sns\n",
    "# plot\n",
    "fig, ax = plt.subplots(ncols=3,figsize=(16,8))\n",
    "\n",
    "sns.regplot(data=treino,x=treino.OverallQual, y=treino.SalePrice,ax=ax[0])\n",
    "sns.regplot(data=treino,x=treino.BsmtHalfBath, y=treino.SalePrice,ax=ax[1])\n",
    "sns.regplot(data=treino,x=treino.KitchenAbvGr, y=treino.SalePrice,ax=ax[2])\n",
    "ax[0].set(ylim=(0, treino.SalePrice.max()))\n",
    "ax[1].set(ylim=(0, treino.SalePrice.max()),yticks=[])\n",
    "ax[2].set(ylim=(0, treino.SalePrice.max()),yticks=[])\n",
    "plt.show()"
   ]
  },
  {
   "cell_type": "markdown",
   "id": "aae351b4",
   "metadata": {},
   "source": [
    "- **E para as variáveis categóricas, podemos analisar se alguma delas possuem valores recorrentes**\n",
    "    - Farei a separação em Casas Caras e Baratas"
   ]
  },
  {
   "cell_type": "code",
   "execution_count": 9,
   "id": "d83ab245",
   "metadata": {},
   "outputs": [
    {
     "data": {
      "text/plain": [
       "Index(['MSZoning', 'Street', 'Alley', 'LotShape', 'LandContour', 'Utilities',\n",
       "       'LotConfig', 'LandSlope', 'Neighborhood', 'Condition1', 'Condition2',\n",
       "       'BldgType', 'HouseStyle', 'RoofStyle', 'RoofMatl', 'Exterior1st',\n",
       "       'Exterior2nd', 'MasVnrType', 'ExterQual', 'ExterCond', 'Foundation',\n",
       "       'BsmtQual', 'BsmtCond', 'BsmtExposure', 'BsmtFinType1', 'BsmtFinType2',\n",
       "       'BsmtFinSF2', 'Heating', 'HeatingQC', 'CentralAir', 'Electrical',\n",
       "       'KitchenQual', 'Functional', 'FireplaceQu', 'GarageType',\n",
       "       'GarageFinish', 'GarageQual', 'GarageCond', 'PavedDrive', 'PoolQC',\n",
       "       'Fence', 'MiscFeature', 'SaleType', 'SaleCondition'],\n",
       "      dtype='object')"
      ]
     },
     "execution_count": 9,
     "metadata": {},
     "output_type": "execute_result"
    }
   ],
   "source": [
    "# Selecionando as colunas de texto\n",
    "obj_cols=treino.columns[treino.dtypes=='object']\n",
    "obj_cols"
   ]
  },
  {
   "cell_type": "code",
   "execution_count": 10,
   "id": "0c4aa9df",
   "metadata": {},
   "outputs": [
    {
     "data": {
      "text/html": [
       "<div>\n",
       "<style scoped>\n",
       "    .dataframe tbody tr th:only-of-type {\n",
       "        vertical-align: middle;\n",
       "    }\n",
       "\n",
       "    .dataframe tbody tr th {\n",
       "        vertical-align: top;\n",
       "    }\n",
       "\n",
       "    .dataframe thead th {\n",
       "        text-align: right;\n",
       "    }\n",
       "</style>\n",
       "<table border=\"1\" class=\"dataframe\">\n",
       "  <thead>\n",
       "    <tr style=\"text-align: right;\">\n",
       "      <th></th>\n",
       "      <th>MSZoning</th>\n",
       "      <th>Street</th>\n",
       "      <th>Alley</th>\n",
       "      <th>LotShape</th>\n",
       "      <th>LandContour</th>\n",
       "      <th>Utilities</th>\n",
       "      <th>LotConfig</th>\n",
       "      <th>LandSlope</th>\n",
       "      <th>Neighborhood</th>\n",
       "      <th>Condition1</th>\n",
       "      <th>...</th>\n",
       "      <th>GarageType</th>\n",
       "      <th>GarageFinish</th>\n",
       "      <th>GarageQual</th>\n",
       "      <th>GarageCond</th>\n",
       "      <th>PavedDrive</th>\n",
       "      <th>PoolQC</th>\n",
       "      <th>Fence</th>\n",
       "      <th>MiscFeature</th>\n",
       "      <th>SaleType</th>\n",
       "      <th>SaleCondition</th>\n",
       "    </tr>\n",
       "  </thead>\n",
       "  <tbody>\n",
       "    <tr>\n",
       "      <th>798</th>\n",
       "      <td>RL</td>\n",
       "      <td>Pave</td>\n",
       "      <td>-1</td>\n",
       "      <td>Reg</td>\n",
       "      <td>Lvl</td>\n",
       "      <td>AllPub</td>\n",
       "      <td>Inside</td>\n",
       "      <td>Gtl</td>\n",
       "      <td>NridgHt</td>\n",
       "      <td>Norm</td>\n",
       "      <td>...</td>\n",
       "      <td>BuiltIn</td>\n",
       "      <td>Fin</td>\n",
       "      <td>TA</td>\n",
       "      <td>TA</td>\n",
       "      <td>Y</td>\n",
       "      <td>-1</td>\n",
       "      <td>-1</td>\n",
       "      <td>-1</td>\n",
       "      <td>New</td>\n",
       "      <td>Partial</td>\n",
       "    </tr>\n",
       "    <tr>\n",
       "      <th>178</th>\n",
       "      <td>RL</td>\n",
       "      <td>Pave</td>\n",
       "      <td>-1</td>\n",
       "      <td>IR1</td>\n",
       "      <td>Lvl</td>\n",
       "      <td>AllPub</td>\n",
       "      <td>CulDSac</td>\n",
       "      <td>Gtl</td>\n",
       "      <td>StoneBr</td>\n",
       "      <td>Norm</td>\n",
       "      <td>...</td>\n",
       "      <td>Attchd</td>\n",
       "      <td>Fin</td>\n",
       "      <td>TA</td>\n",
       "      <td>TA</td>\n",
       "      <td>Y</td>\n",
       "      <td>-1</td>\n",
       "      <td>-1</td>\n",
       "      <td>-1</td>\n",
       "      <td>New</td>\n",
       "      <td>Partial</td>\n",
       "    </tr>\n",
       "  </tbody>\n",
       "</table>\n",
       "<p>2 rows × 44 columns</p>\n",
       "</div>"
      ],
      "text/plain": [
       "    MSZoning Street Alley LotShape LandContour Utilities LotConfig LandSlope  \\\n",
       "798       RL   Pave    -1      Reg         Lvl    AllPub    Inside       Gtl   \n",
       "178       RL   Pave    -1      IR1         Lvl    AllPub   CulDSac       Gtl   \n",
       "\n",
       "    Neighborhood Condition1  ... GarageType GarageFinish GarageQual  \\\n",
       "798      NridgHt       Norm  ...    BuiltIn          Fin         TA   \n",
       "178      StoneBr       Norm  ...     Attchd          Fin         TA   \n",
       "\n",
       "    GarageCond PavedDrive PoolQC Fence MiscFeature SaleType SaleCondition  \n",
       "798         TA          Y     -1    -1          -1      New       Partial  \n",
       "178         TA          Y     -1    -1          -1      New       Partial  \n",
       "\n",
       "[2 rows x 44 columns]"
      ]
     },
     "execution_count": 10,
     "metadata": {},
     "output_type": "execute_result"
    }
   ],
   "source": [
    "# Visualizando as casas mais caras\n",
    "caras=treino.sort_values('SalePrice').tail(10)\n",
    "caras=caras[obj_cols]\n",
    "caras.head(2)"
   ]
  },
  {
   "cell_type": "code",
   "execution_count": 11,
   "id": "f5cf2cdc",
   "metadata": {},
   "outputs": [
    {
     "data": {
      "text/html": [
       "<div>\n",
       "<style scoped>\n",
       "    .dataframe tbody tr th:only-of-type {\n",
       "        vertical-align: middle;\n",
       "    }\n",
       "\n",
       "    .dataframe tbody tr th {\n",
       "        vertical-align: top;\n",
       "    }\n",
       "\n",
       "    .dataframe thead th {\n",
       "        text-align: right;\n",
       "    }\n",
       "</style>\n",
       "<table border=\"1\" class=\"dataframe\">\n",
       "  <thead>\n",
       "    <tr style=\"text-align: right;\">\n",
       "      <th></th>\n",
       "      <th>MSZoning</th>\n",
       "      <th>Street</th>\n",
       "      <th>Alley</th>\n",
       "      <th>LotShape</th>\n",
       "      <th>LandContour</th>\n",
       "      <th>Utilities</th>\n",
       "      <th>LotConfig</th>\n",
       "      <th>LandSlope</th>\n",
       "      <th>Neighborhood</th>\n",
       "      <th>Condition1</th>\n",
       "      <th>...</th>\n",
       "      <th>GarageType</th>\n",
       "      <th>GarageFinish</th>\n",
       "      <th>GarageQual</th>\n",
       "      <th>GarageCond</th>\n",
       "      <th>PavedDrive</th>\n",
       "      <th>PoolQC</th>\n",
       "      <th>Fence</th>\n",
       "      <th>MiscFeature</th>\n",
       "      <th>SaleType</th>\n",
       "      <th>SaleCondition</th>\n",
       "    </tr>\n",
       "  </thead>\n",
       "  <tbody>\n",
       "    <tr>\n",
       "      <th>495</th>\n",
       "      <td>C (all)</td>\n",
       "      <td>Pave</td>\n",
       "      <td>-1</td>\n",
       "      <td>Reg</td>\n",
       "      <td>Lvl</td>\n",
       "      <td>AllPub</td>\n",
       "      <td>Inside</td>\n",
       "      <td>Gtl</td>\n",
       "      <td>IDOTRR</td>\n",
       "      <td>Norm</td>\n",
       "      <td>...</td>\n",
       "      <td>-1</td>\n",
       "      <td>-1</td>\n",
       "      <td>-1</td>\n",
       "      <td>-1</td>\n",
       "      <td>N</td>\n",
       "      <td>-1</td>\n",
       "      <td>GdWo</td>\n",
       "      <td>-1</td>\n",
       "      <td>WD</td>\n",
       "      <td>Abnorml</td>\n",
       "    </tr>\n",
       "    <tr>\n",
       "      <th>916</th>\n",
       "      <td>C (all)</td>\n",
       "      <td>Pave</td>\n",
       "      <td>-1</td>\n",
       "      <td>Reg</td>\n",
       "      <td>Lvl</td>\n",
       "      <td>AllPub</td>\n",
       "      <td>Inside</td>\n",
       "      <td>Gtl</td>\n",
       "      <td>IDOTRR</td>\n",
       "      <td>Norm</td>\n",
       "      <td>...</td>\n",
       "      <td>Detchd</td>\n",
       "      <td>Unf</td>\n",
       "      <td>TA</td>\n",
       "      <td>TA</td>\n",
       "      <td>Y</td>\n",
       "      <td>-1</td>\n",
       "      <td>-1</td>\n",
       "      <td>-1</td>\n",
       "      <td>WD</td>\n",
       "      <td>Abnorml</td>\n",
       "    </tr>\n",
       "  </tbody>\n",
       "</table>\n",
       "<p>2 rows × 44 columns</p>\n",
       "</div>"
      ],
      "text/plain": [
       "    MSZoning Street Alley LotShape LandContour Utilities LotConfig LandSlope  \\\n",
       "495  C (all)   Pave    -1      Reg         Lvl    AllPub    Inside       Gtl   \n",
       "916  C (all)   Pave    -1      Reg         Lvl    AllPub    Inside       Gtl   \n",
       "\n",
       "    Neighborhood Condition1  ... GarageType GarageFinish GarageQual  \\\n",
       "495       IDOTRR       Norm  ...         -1           -1         -1   \n",
       "916       IDOTRR       Norm  ...     Detchd          Unf         TA   \n",
       "\n",
       "    GarageCond PavedDrive PoolQC Fence MiscFeature SaleType SaleCondition  \n",
       "495         -1          N     -1  GdWo          -1       WD       Abnorml  \n",
       "916         TA          Y     -1    -1          -1       WD       Abnorml  \n",
       "\n",
       "[2 rows x 44 columns]"
      ]
     },
     "execution_count": 11,
     "metadata": {},
     "output_type": "execute_result"
    }
   ],
   "source": [
    "#As casas mais baratas\n",
    "baratas=treino.sort_values('SalePrice').head(10)\n",
    "baratas=baratas[obj_cols]\n",
    "baratas.head(2)"
   ]
  },
  {
   "cell_type": "code",
   "execution_count": 12,
   "id": "1c4622b3",
   "metadata": {},
   "outputs": [
    {
     "data": {
      "text/plain": [
       "MSZoning    1\n",
       "Street      1\n",
       "dtype: int64"
      ]
     },
     "execution_count": 12,
     "metadata": {},
     "output_type": "execute_result"
    }
   ],
   "source": [
    "# Verificando, das casas caras, valores que muito se repetem (muitos valores iguais)\n",
    "caras_val=caras.nunique()\n",
    "caras_val.head(2)"
   ]
  },
  {
   "cell_type": "code",
   "execution_count": 13,
   "id": "fec4e8fb",
   "metadata": {},
   "outputs": [
    {
     "data": {
      "text/plain": [
       "MSZoning    3\n",
       "Street      2\n",
       "dtype: int64"
      ]
     },
     "execution_count": 13,
     "metadata": {},
     "output_type": "execute_result"
    }
   ],
   "source": [
    "# Verificando agora para as casas mais baratas\n",
    "baratas_val=baratas.nunique()\n",
    "baratas_val.head(2)"
   ]
  },
  {
   "cell_type": "code",
   "execution_count": 14,
   "id": "05935841",
   "metadata": {},
   "outputs": [
    {
     "data": {
      "text/html": [
       "<div>\n",
       "<style scoped>\n",
       "    .dataframe tbody tr th:only-of-type {\n",
       "        vertical-align: middle;\n",
       "    }\n",
       "\n",
       "    .dataframe tbody tr th {\n",
       "        vertical-align: top;\n",
       "    }\n",
       "\n",
       "    .dataframe thead th {\n",
       "        text-align: right;\n",
       "    }\n",
       "</style>\n",
       "<table border=\"1\" class=\"dataframe\">\n",
       "  <thead>\n",
       "    <tr style=\"text-align: right;\">\n",
       "      <th></th>\n",
       "      <th>0</th>\n",
       "      <th>1</th>\n",
       "    </tr>\n",
       "  </thead>\n",
       "  <tbody>\n",
       "    <tr>\n",
       "      <th>Utilities</th>\n",
       "      <td>1</td>\n",
       "      <td>1</td>\n",
       "    </tr>\n",
       "    <tr>\n",
       "      <th>Condition2</th>\n",
       "      <td>1</td>\n",
       "      <td>1</td>\n",
       "    </tr>\n",
       "    <tr>\n",
       "      <th>Street</th>\n",
       "      <td>1</td>\n",
       "      <td>2</td>\n",
       "    </tr>\n",
       "    <tr>\n",
       "      <th>Condition1</th>\n",
       "      <td>1</td>\n",
       "      <td>2</td>\n",
       "    </tr>\n",
       "    <tr>\n",
       "      <th>BldgType</th>\n",
       "      <td>1</td>\n",
       "      <td>2</td>\n",
       "    </tr>\n",
       "    <tr>\n",
       "      <th>Heating</th>\n",
       "      <td>1</td>\n",
       "      <td>2</td>\n",
       "    </tr>\n",
       "    <tr>\n",
       "      <th>CentralAir</th>\n",
       "      <td>1</td>\n",
       "      <td>2</td>\n",
       "    </tr>\n",
       "    <tr>\n",
       "      <th>GarageQual</th>\n",
       "      <td>1</td>\n",
       "      <td>2</td>\n",
       "    </tr>\n",
       "    <tr>\n",
       "      <th>PavedDrive</th>\n",
       "      <td>1</td>\n",
       "      <td>2</td>\n",
       "    </tr>\n",
       "    <tr>\n",
       "      <th>MSZoning</th>\n",
       "      <td>1</td>\n",
       "      <td>3</td>\n",
       "    </tr>\n",
       "  </tbody>\n",
       "</table>\n",
       "</div>"
      ],
      "text/plain": [
       "            0  1\n",
       "Utilities   1  1\n",
       "Condition2  1  1\n",
       "Street      1  2\n",
       "Condition1  1  2\n",
       "BldgType    1  2\n",
       "Heating     1  2\n",
       "CentralAir  1  2\n",
       "GarageQual  1  2\n",
       "PavedDrive  1  2\n",
       "MSZoning    1  3"
      ]
     },
     "execution_count": 14,
     "metadata": {},
     "output_type": "execute_result"
    }
   ],
   "source": [
    "# Podemos unir esses valores\n",
    "rep=pd.concat([caras_val,baratas_val],axis=1).sort_values([0,1])\n",
    "rep.head(10)"
   ]
  },
  {
   "cell_type": "code",
   "execution_count": 15,
   "id": "913979d5",
   "metadata": {},
   "outputs": [
    {
     "data": {
      "text/html": [
       "<div>\n",
       "<style scoped>\n",
       "    .dataframe tbody tr th:only-of-type {\n",
       "        vertical-align: middle;\n",
       "    }\n",
       "\n",
       "    .dataframe tbody tr th {\n",
       "        vertical-align: top;\n",
       "    }\n",
       "\n",
       "    .dataframe thead th {\n",
       "        text-align: right;\n",
       "    }\n",
       "</style>\n",
       "<table border=\"1\" class=\"dataframe\">\n",
       "  <thead>\n",
       "    <tr style=\"text-align: right;\">\n",
       "      <th></th>\n",
       "      <th>Utilities</th>\n",
       "      <th>Condition2</th>\n",
       "      <th>Street</th>\n",
       "      <th>Condition1</th>\n",
       "      <th>BldgType</th>\n",
       "      <th>Heating</th>\n",
       "      <th>CentralAir</th>\n",
       "      <th>GarageQual</th>\n",
       "      <th>PavedDrive</th>\n",
       "      <th>MSZoning</th>\n",
       "      <th>...</th>\n",
       "      <th>MasVnrType</th>\n",
       "      <th>FireplaceQu</th>\n",
       "      <th>LotShape</th>\n",
       "      <th>LotConfig</th>\n",
       "      <th>Neighborhood</th>\n",
       "      <th>BsmtExposure</th>\n",
       "      <th>SaleCondition</th>\n",
       "      <th>BsmtFinType1</th>\n",
       "      <th>Exterior1st</th>\n",
       "      <th>Exterior2nd</th>\n",
       "    </tr>\n",
       "  </thead>\n",
       "  <tbody>\n",
       "    <tr>\n",
       "      <th>798</th>\n",
       "      <td>AllPub</td>\n",
       "      <td>Norm</td>\n",
       "      <td>Pave</td>\n",
       "      <td>Norm</td>\n",
       "      <td>1Fam</td>\n",
       "      <td>GasA</td>\n",
       "      <td>Y</td>\n",
       "      <td>TA</td>\n",
       "      <td>Y</td>\n",
       "      <td>RL</td>\n",
       "      <td>...</td>\n",
       "      <td>Stone</td>\n",
       "      <td>Gd</td>\n",
       "      <td>Reg</td>\n",
       "      <td>Inside</td>\n",
       "      <td>NridgHt</td>\n",
       "      <td>No</td>\n",
       "      <td>Partial</td>\n",
       "      <td>Unf</td>\n",
       "      <td>VinylSd</td>\n",
       "      <td>VinylSd</td>\n",
       "    </tr>\n",
       "    <tr>\n",
       "      <th>178</th>\n",
       "      <td>AllPub</td>\n",
       "      <td>Norm</td>\n",
       "      <td>Pave</td>\n",
       "      <td>Norm</td>\n",
       "      <td>1Fam</td>\n",
       "      <td>GasA</td>\n",
       "      <td>Y</td>\n",
       "      <td>TA</td>\n",
       "      <td>Y</td>\n",
       "      <td>RL</td>\n",
       "      <td>...</td>\n",
       "      <td>Stone</td>\n",
       "      <td>Gd</td>\n",
       "      <td>IR1</td>\n",
       "      <td>CulDSac</td>\n",
       "      <td>StoneBr</td>\n",
       "      <td>No</td>\n",
       "      <td>Partial</td>\n",
       "      <td>GLQ</td>\n",
       "      <td>VinylSd</td>\n",
       "      <td>VinylSd</td>\n",
       "    </tr>\n",
       "    <tr>\n",
       "      <th>769</th>\n",
       "      <td>AllPub</td>\n",
       "      <td>Norm</td>\n",
       "      <td>Pave</td>\n",
       "      <td>Norm</td>\n",
       "      <td>1Fam</td>\n",
       "      <td>GasA</td>\n",
       "      <td>Y</td>\n",
       "      <td>TA</td>\n",
       "      <td>Y</td>\n",
       "      <td>RL</td>\n",
       "      <td>...</td>\n",
       "      <td>BrkFace</td>\n",
       "      <td>Gd</td>\n",
       "      <td>IR2</td>\n",
       "      <td>CulDSac</td>\n",
       "      <td>StoneBr</td>\n",
       "      <td>Gd</td>\n",
       "      <td>Normal</td>\n",
       "      <td>ALQ</td>\n",
       "      <td>CemntBd</td>\n",
       "      <td>Wd Shng</td>\n",
       "    </tr>\n",
       "    <tr>\n",
       "      <th>440</th>\n",
       "      <td>AllPub</td>\n",
       "      <td>Norm</td>\n",
       "      <td>Pave</td>\n",
       "      <td>Norm</td>\n",
       "      <td>1Fam</td>\n",
       "      <td>GasA</td>\n",
       "      <td>Y</td>\n",
       "      <td>TA</td>\n",
       "      <td>Y</td>\n",
       "      <td>RL</td>\n",
       "      <td>...</td>\n",
       "      <td>Stone</td>\n",
       "      <td>Gd</td>\n",
       "      <td>Reg</td>\n",
       "      <td>Inside</td>\n",
       "      <td>NridgHt</td>\n",
       "      <td>Gd</td>\n",
       "      <td>Normal</td>\n",
       "      <td>GLQ</td>\n",
       "      <td>VinylSd</td>\n",
       "      <td>VinylSd</td>\n",
       "    </tr>\n",
       "    <tr>\n",
       "      <th>1046</th>\n",
       "      <td>AllPub</td>\n",
       "      <td>Norm</td>\n",
       "      <td>Pave</td>\n",
       "      <td>Norm</td>\n",
       "      <td>1Fam</td>\n",
       "      <td>GasA</td>\n",
       "      <td>Y</td>\n",
       "      <td>TA</td>\n",
       "      <td>Y</td>\n",
       "      <td>RL</td>\n",
       "      <td>...</td>\n",
       "      <td>Stone</td>\n",
       "      <td>Gd</td>\n",
       "      <td>IR1</td>\n",
       "      <td>Inside</td>\n",
       "      <td>StoneBr</td>\n",
       "      <td>Av</td>\n",
       "      <td>Partial</td>\n",
       "      <td>GLQ</td>\n",
       "      <td>CemntBd</td>\n",
       "      <td>CmentBd</td>\n",
       "    </tr>\n",
       "    <tr>\n",
       "      <th>803</th>\n",
       "      <td>AllPub</td>\n",
       "      <td>Norm</td>\n",
       "      <td>Pave</td>\n",
       "      <td>Norm</td>\n",
       "      <td>1Fam</td>\n",
       "      <td>GasA</td>\n",
       "      <td>Y</td>\n",
       "      <td>TA</td>\n",
       "      <td>Y</td>\n",
       "      <td>RL</td>\n",
       "      <td>...</td>\n",
       "      <td>Stone</td>\n",
       "      <td>Gd</td>\n",
       "      <td>Reg</td>\n",
       "      <td>Inside</td>\n",
       "      <td>NridgHt</td>\n",
       "      <td>Gd</td>\n",
       "      <td>Partial</td>\n",
       "      <td>Unf</td>\n",
       "      <td>VinylSd</td>\n",
       "      <td>VinylSd</td>\n",
       "    </tr>\n",
       "    <tr>\n",
       "      <th>898</th>\n",
       "      <td>AllPub</td>\n",
       "      <td>Norm</td>\n",
       "      <td>Pave</td>\n",
       "      <td>Norm</td>\n",
       "      <td>1Fam</td>\n",
       "      <td>GasA</td>\n",
       "      <td>Y</td>\n",
       "      <td>TA</td>\n",
       "      <td>Y</td>\n",
       "      <td>RL</td>\n",
       "      <td>...</td>\n",
       "      <td>Stone</td>\n",
       "      <td>Gd</td>\n",
       "      <td>IR1</td>\n",
       "      <td>Inside</td>\n",
       "      <td>NridgHt</td>\n",
       "      <td>Gd</td>\n",
       "      <td>Partial</td>\n",
       "      <td>GLQ</td>\n",
       "      <td>VinylSd</td>\n",
       "      <td>VinylSd</td>\n",
       "    </tr>\n",
       "    <tr>\n",
       "      <th>1169</th>\n",
       "      <td>AllPub</td>\n",
       "      <td>Norm</td>\n",
       "      <td>Pave</td>\n",
       "      <td>Norm</td>\n",
       "      <td>1Fam</td>\n",
       "      <td>GasA</td>\n",
       "      <td>Y</td>\n",
       "      <td>TA</td>\n",
       "      <td>Y</td>\n",
       "      <td>RL</td>\n",
       "      <td>...</td>\n",
       "      <td>BrkFace</td>\n",
       "      <td>TA</td>\n",
       "      <td>IR1</td>\n",
       "      <td>CulDSac</td>\n",
       "      <td>NoRidge</td>\n",
       "      <td>Gd</td>\n",
       "      <td>Normal</td>\n",
       "      <td>GLQ</td>\n",
       "      <td>HdBoard</td>\n",
       "      <td>HdBoard</td>\n",
       "    </tr>\n",
       "    <tr>\n",
       "      <th>1182</th>\n",
       "      <td>AllPub</td>\n",
       "      <td>Norm</td>\n",
       "      <td>Pave</td>\n",
       "      <td>Norm</td>\n",
       "      <td>1Fam</td>\n",
       "      <td>GasA</td>\n",
       "      <td>Y</td>\n",
       "      <td>TA</td>\n",
       "      <td>Y</td>\n",
       "      <td>RL</td>\n",
       "      <td>...</td>\n",
       "      <td>None</td>\n",
       "      <td>TA</td>\n",
       "      <td>IR1</td>\n",
       "      <td>Corner</td>\n",
       "      <td>NoRidge</td>\n",
       "      <td>Av</td>\n",
       "      <td>Abnorml</td>\n",
       "      <td>GLQ</td>\n",
       "      <td>Wd Sdng</td>\n",
       "      <td>ImStucc</td>\n",
       "    </tr>\n",
       "    <tr>\n",
       "      <th>691</th>\n",
       "      <td>AllPub</td>\n",
       "      <td>Norm</td>\n",
       "      <td>Pave</td>\n",
       "      <td>Norm</td>\n",
       "      <td>1Fam</td>\n",
       "      <td>GasA</td>\n",
       "      <td>Y</td>\n",
       "      <td>TA</td>\n",
       "      <td>Y</td>\n",
       "      <td>RL</td>\n",
       "      <td>...</td>\n",
       "      <td>BrkFace</td>\n",
       "      <td>Ex</td>\n",
       "      <td>IR1</td>\n",
       "      <td>Corner</td>\n",
       "      <td>NoRidge</td>\n",
       "      <td>Gd</td>\n",
       "      <td>Normal</td>\n",
       "      <td>GLQ</td>\n",
       "      <td>HdBoard</td>\n",
       "      <td>HdBoard</td>\n",
       "    </tr>\n",
       "  </tbody>\n",
       "</table>\n",
       "<p>10 rows × 44 columns</p>\n",
       "</div>"
      ],
      "text/plain": [
       "     Utilities Condition2 Street Condition1 BldgType Heating CentralAir  \\\n",
       "798     AllPub       Norm   Pave       Norm     1Fam    GasA          Y   \n",
       "178     AllPub       Norm   Pave       Norm     1Fam    GasA          Y   \n",
       "769     AllPub       Norm   Pave       Norm     1Fam    GasA          Y   \n",
       "440     AllPub       Norm   Pave       Norm     1Fam    GasA          Y   \n",
       "1046    AllPub       Norm   Pave       Norm     1Fam    GasA          Y   \n",
       "803     AllPub       Norm   Pave       Norm     1Fam    GasA          Y   \n",
       "898     AllPub       Norm   Pave       Norm     1Fam    GasA          Y   \n",
       "1169    AllPub       Norm   Pave       Norm     1Fam    GasA          Y   \n",
       "1182    AllPub       Norm   Pave       Norm     1Fam    GasA          Y   \n",
       "691     AllPub       Norm   Pave       Norm     1Fam    GasA          Y   \n",
       "\n",
       "     GarageQual PavedDrive MSZoning  ... MasVnrType FireplaceQu LotShape  \\\n",
       "798          TA          Y       RL  ...      Stone          Gd      Reg   \n",
       "178          TA          Y       RL  ...      Stone          Gd      IR1   \n",
       "769          TA          Y       RL  ...    BrkFace          Gd      IR2   \n",
       "440          TA          Y       RL  ...      Stone          Gd      Reg   \n",
       "1046         TA          Y       RL  ...      Stone          Gd      IR1   \n",
       "803          TA          Y       RL  ...      Stone          Gd      Reg   \n",
       "898          TA          Y       RL  ...      Stone          Gd      IR1   \n",
       "1169         TA          Y       RL  ...    BrkFace          TA      IR1   \n",
       "1182         TA          Y       RL  ...       None          TA      IR1   \n",
       "691          TA          Y       RL  ...    BrkFace          Ex      IR1   \n",
       "\n",
       "     LotConfig Neighborhood BsmtExposure SaleCondition BsmtFinType1  \\\n",
       "798     Inside      NridgHt           No       Partial          Unf   \n",
       "178    CulDSac      StoneBr           No       Partial          GLQ   \n",
       "769    CulDSac      StoneBr           Gd        Normal          ALQ   \n",
       "440     Inside      NridgHt           Gd        Normal          GLQ   \n",
       "1046    Inside      StoneBr           Av       Partial          GLQ   \n",
       "803     Inside      NridgHt           Gd       Partial          Unf   \n",
       "898     Inside      NridgHt           Gd       Partial          GLQ   \n",
       "1169   CulDSac      NoRidge           Gd        Normal          GLQ   \n",
       "1182    Corner      NoRidge           Av       Abnorml          GLQ   \n",
       "691     Corner      NoRidge           Gd        Normal          GLQ   \n",
       "\n",
       "     Exterior1st Exterior2nd  \n",
       "798      VinylSd     VinylSd  \n",
       "178      VinylSd     VinylSd  \n",
       "769      CemntBd     Wd Shng  \n",
       "440      VinylSd     VinylSd  \n",
       "1046     CemntBd     CmentBd  \n",
       "803      VinylSd     VinylSd  \n",
       "898      VinylSd     VinylSd  \n",
       "1169     HdBoard     HdBoard  \n",
       "1182     Wd Sdng     ImStucc  \n",
       "691      HdBoard     HdBoard  \n",
       "\n",
       "[10 rows x 44 columns]"
      ]
     },
     "execution_count": 15,
     "metadata": {},
     "output_type": "execute_result"
    }
   ],
   "source": [
    "# Agora visualizando essas colunas que mais se repetem para as casas mais caras\n",
    "caras[rep.index]"
   ]
  },
  {
   "cell_type": "code",
   "execution_count": 16,
   "id": "b51d624e",
   "metadata": {},
   "outputs": [
    {
     "data": {
      "text/html": [
       "<div>\n",
       "<style scoped>\n",
       "    .dataframe tbody tr th:only-of-type {\n",
       "        vertical-align: middle;\n",
       "    }\n",
       "\n",
       "    .dataframe tbody tr th {\n",
       "        vertical-align: top;\n",
       "    }\n",
       "\n",
       "    .dataframe thead th {\n",
       "        text-align: right;\n",
       "    }\n",
       "</style>\n",
       "<table border=\"1\" class=\"dataframe\">\n",
       "  <thead>\n",
       "    <tr style=\"text-align: right;\">\n",
       "      <th></th>\n",
       "      <th>Utilities</th>\n",
       "      <th>Condition2</th>\n",
       "      <th>Street</th>\n",
       "      <th>Condition1</th>\n",
       "      <th>BldgType</th>\n",
       "      <th>Heating</th>\n",
       "      <th>CentralAir</th>\n",
       "      <th>GarageQual</th>\n",
       "      <th>PavedDrive</th>\n",
       "      <th>MSZoning</th>\n",
       "      <th>...</th>\n",
       "      <th>MasVnrType</th>\n",
       "      <th>FireplaceQu</th>\n",
       "      <th>LotShape</th>\n",
       "      <th>LotConfig</th>\n",
       "      <th>Neighborhood</th>\n",
       "      <th>BsmtExposure</th>\n",
       "      <th>SaleCondition</th>\n",
       "      <th>BsmtFinType1</th>\n",
       "      <th>Exterior1st</th>\n",
       "      <th>Exterior2nd</th>\n",
       "    </tr>\n",
       "  </thead>\n",
       "  <tbody>\n",
       "    <tr>\n",
       "      <th>495</th>\n",
       "      <td>AllPub</td>\n",
       "      <td>Norm</td>\n",
       "      <td>Pave</td>\n",
       "      <td>Norm</td>\n",
       "      <td>1Fam</td>\n",
       "      <td>GasA</td>\n",
       "      <td>N</td>\n",
       "      <td>-1</td>\n",
       "      <td>N</td>\n",
       "      <td>C (all)</td>\n",
       "      <td>...</td>\n",
       "      <td>None</td>\n",
       "      <td>-1</td>\n",
       "      <td>Reg</td>\n",
       "      <td>Inside</td>\n",
       "      <td>IDOTRR</td>\n",
       "      <td>No</td>\n",
       "      <td>Abnorml</td>\n",
       "      <td>Rec</td>\n",
       "      <td>Wd Sdng</td>\n",
       "      <td>Wd Sdng</td>\n",
       "    </tr>\n",
       "    <tr>\n",
       "      <th>916</th>\n",
       "      <td>AllPub</td>\n",
       "      <td>Norm</td>\n",
       "      <td>Pave</td>\n",
       "      <td>Norm</td>\n",
       "      <td>1Fam</td>\n",
       "      <td>GasA</td>\n",
       "      <td>N</td>\n",
       "      <td>TA</td>\n",
       "      <td>Y</td>\n",
       "      <td>C (all)</td>\n",
       "      <td>...</td>\n",
       "      <td>None</td>\n",
       "      <td>-1</td>\n",
       "      <td>Reg</td>\n",
       "      <td>Inside</td>\n",
       "      <td>IDOTRR</td>\n",
       "      <td>Av</td>\n",
       "      <td>Abnorml</td>\n",
       "      <td>BLQ</td>\n",
       "      <td>AsbShng</td>\n",
       "      <td>AsbShng</td>\n",
       "    </tr>\n",
       "    <tr>\n",
       "      <th>968</th>\n",
       "      <td>AllPub</td>\n",
       "      <td>Norm</td>\n",
       "      <td>Pave</td>\n",
       "      <td>Norm</td>\n",
       "      <td>1Fam</td>\n",
       "      <td>Grav</td>\n",
       "      <td>N</td>\n",
       "      <td>-1</td>\n",
       "      <td>Y</td>\n",
       "      <td>RM</td>\n",
       "      <td>...</td>\n",
       "      <td>None</td>\n",
       "      <td>-1</td>\n",
       "      <td>Reg</td>\n",
       "      <td>Inside</td>\n",
       "      <td>OldTown</td>\n",
       "      <td>No</td>\n",
       "      <td>Abnorml</td>\n",
       "      <td>Unf</td>\n",
       "      <td>VinylSd</td>\n",
       "      <td>VinylSd</td>\n",
       "    </tr>\n",
       "    <tr>\n",
       "      <th>533</th>\n",
       "      <td>AllPub</td>\n",
       "      <td>Norm</td>\n",
       "      <td>Pave</td>\n",
       "      <td>Norm</td>\n",
       "      <td>1Fam</td>\n",
       "      <td>GasA</td>\n",
       "      <td>N</td>\n",
       "      <td>-1</td>\n",
       "      <td>N</td>\n",
       "      <td>RL</td>\n",
       "      <td>...</td>\n",
       "      <td>None</td>\n",
       "      <td>-1</td>\n",
       "      <td>Reg</td>\n",
       "      <td>Inside</td>\n",
       "      <td>BrkSide</td>\n",
       "      <td>-1</td>\n",
       "      <td>Normal</td>\n",
       "      <td>-1</td>\n",
       "      <td>VinylSd</td>\n",
       "      <td>VinylSd</td>\n",
       "    </tr>\n",
       "    <tr>\n",
       "      <th>30</th>\n",
       "      <td>AllPub</td>\n",
       "      <td>Norm</td>\n",
       "      <td>Pave</td>\n",
       "      <td>Feedr</td>\n",
       "      <td>1Fam</td>\n",
       "      <td>GasA</td>\n",
       "      <td>N</td>\n",
       "      <td>TA</td>\n",
       "      <td>N</td>\n",
       "      <td>C (all)</td>\n",
       "      <td>...</td>\n",
       "      <td>None</td>\n",
       "      <td>-1</td>\n",
       "      <td>Reg</td>\n",
       "      <td>Inside</td>\n",
       "      <td>IDOTRR</td>\n",
       "      <td>No</td>\n",
       "      <td>Normal</td>\n",
       "      <td>Unf</td>\n",
       "      <td>BrkFace</td>\n",
       "      <td>BrkFace</td>\n",
       "    </tr>\n",
       "    <tr>\n",
       "      <th>710</th>\n",
       "      <td>AllPub</td>\n",
       "      <td>Norm</td>\n",
       "      <td>Pave</td>\n",
       "      <td>Norm</td>\n",
       "      <td>1Fam</td>\n",
       "      <td>GasA</td>\n",
       "      <td>Y</td>\n",
       "      <td>-1</td>\n",
       "      <td>N</td>\n",
       "      <td>RL</td>\n",
       "      <td>...</td>\n",
       "      <td>None</td>\n",
       "      <td>-1</td>\n",
       "      <td>IR1</td>\n",
       "      <td>Inside</td>\n",
       "      <td>BrkSide</td>\n",
       "      <td>No</td>\n",
       "      <td>Normal</td>\n",
       "      <td>Unf</td>\n",
       "      <td>VinylSd</td>\n",
       "      <td>VinylSd</td>\n",
       "    </tr>\n",
       "    <tr>\n",
       "      <th>1337</th>\n",
       "      <td>AllPub</td>\n",
       "      <td>Norm</td>\n",
       "      <td>Pave</td>\n",
       "      <td>Feedr</td>\n",
       "      <td>1Fam</td>\n",
       "      <td>Grav</td>\n",
       "      <td>N</td>\n",
       "      <td>-1</td>\n",
       "      <td>N</td>\n",
       "      <td>RM</td>\n",
       "      <td>...</td>\n",
       "      <td>None</td>\n",
       "      <td>-1</td>\n",
       "      <td>IR1</td>\n",
       "      <td>Corner</td>\n",
       "      <td>OldTown</td>\n",
       "      <td>No</td>\n",
       "      <td>Normal</td>\n",
       "      <td>Unf</td>\n",
       "      <td>Wd Sdng</td>\n",
       "      <td>Wd Sdng</td>\n",
       "    </tr>\n",
       "    <tr>\n",
       "      <th>705</th>\n",
       "      <td>AllPub</td>\n",
       "      <td>Norm</td>\n",
       "      <td>Pave</td>\n",
       "      <td>Norm</td>\n",
       "      <td>2fmCon</td>\n",
       "      <td>GasA</td>\n",
       "      <td>N</td>\n",
       "      <td>-1</td>\n",
       "      <td>N</td>\n",
       "      <td>RM</td>\n",
       "      <td>...</td>\n",
       "      <td>None</td>\n",
       "      <td>-1</td>\n",
       "      <td>Reg</td>\n",
       "      <td>Inside</td>\n",
       "      <td>IDOTRR</td>\n",
       "      <td>-1</td>\n",
       "      <td>Normal</td>\n",
       "      <td>-1</td>\n",
       "      <td>VinylSd</td>\n",
       "      <td>Wd Shng</td>\n",
       "    </tr>\n",
       "    <tr>\n",
       "      <th>1325</th>\n",
       "      <td>AllPub</td>\n",
       "      <td>Norm</td>\n",
       "      <td>Pave</td>\n",
       "      <td>Norm</td>\n",
       "      <td>1Fam</td>\n",
       "      <td>GasA</td>\n",
       "      <td>N</td>\n",
       "      <td>-1</td>\n",
       "      <td>N</td>\n",
       "      <td>RM</td>\n",
       "      <td>...</td>\n",
       "      <td>None</td>\n",
       "      <td>-1</td>\n",
       "      <td>Reg</td>\n",
       "      <td>Inside</td>\n",
       "      <td>IDOTRR</td>\n",
       "      <td>No</td>\n",
       "      <td>Normal</td>\n",
       "      <td>Unf</td>\n",
       "      <td>AsbShng</td>\n",
       "      <td>AsbShng</td>\n",
       "    </tr>\n",
       "    <tr>\n",
       "      <th>812</th>\n",
       "      <td>AllPub</td>\n",
       "      <td>Norm</td>\n",
       "      <td>Grvl</td>\n",
       "      <td>Norm</td>\n",
       "      <td>1Fam</td>\n",
       "      <td>GasA</td>\n",
       "      <td>N</td>\n",
       "      <td>TA</td>\n",
       "      <td>N</td>\n",
       "      <td>C (all)</td>\n",
       "      <td>...</td>\n",
       "      <td>None</td>\n",
       "      <td>-1</td>\n",
       "      <td>Reg</td>\n",
       "      <td>Inside</td>\n",
       "      <td>IDOTRR</td>\n",
       "      <td>Av</td>\n",
       "      <td>Alloca</td>\n",
       "      <td>Unf</td>\n",
       "      <td>Wd Sdng</td>\n",
       "      <td>Wd Sdng</td>\n",
       "    </tr>\n",
       "  </tbody>\n",
       "</table>\n",
       "<p>10 rows × 44 columns</p>\n",
       "</div>"
      ],
      "text/plain": [
       "     Utilities Condition2 Street Condition1 BldgType Heating CentralAir  \\\n",
       "495     AllPub       Norm   Pave       Norm     1Fam    GasA          N   \n",
       "916     AllPub       Norm   Pave       Norm     1Fam    GasA          N   \n",
       "968     AllPub       Norm   Pave       Norm     1Fam    Grav          N   \n",
       "533     AllPub       Norm   Pave       Norm     1Fam    GasA          N   \n",
       "30      AllPub       Norm   Pave      Feedr     1Fam    GasA          N   \n",
       "710     AllPub       Norm   Pave       Norm     1Fam    GasA          Y   \n",
       "1337    AllPub       Norm   Pave      Feedr     1Fam    Grav          N   \n",
       "705     AllPub       Norm   Pave       Norm   2fmCon    GasA          N   \n",
       "1325    AllPub       Norm   Pave       Norm     1Fam    GasA          N   \n",
       "812     AllPub       Norm   Grvl       Norm     1Fam    GasA          N   \n",
       "\n",
       "     GarageQual PavedDrive MSZoning  ... MasVnrType FireplaceQu LotShape  \\\n",
       "495          -1          N  C (all)  ...       None          -1      Reg   \n",
       "916          TA          Y  C (all)  ...       None          -1      Reg   \n",
       "968          -1          Y       RM  ...       None          -1      Reg   \n",
       "533          -1          N       RL  ...       None          -1      Reg   \n",
       "30           TA          N  C (all)  ...       None          -1      Reg   \n",
       "710          -1          N       RL  ...       None          -1      IR1   \n",
       "1337         -1          N       RM  ...       None          -1      IR1   \n",
       "705          -1          N       RM  ...       None          -1      Reg   \n",
       "1325         -1          N       RM  ...       None          -1      Reg   \n",
       "812          TA          N  C (all)  ...       None          -1      Reg   \n",
       "\n",
       "     LotConfig Neighborhood BsmtExposure SaleCondition BsmtFinType1  \\\n",
       "495     Inside       IDOTRR           No       Abnorml          Rec   \n",
       "916     Inside       IDOTRR           Av       Abnorml          BLQ   \n",
       "968     Inside      OldTown           No       Abnorml          Unf   \n",
       "533     Inside      BrkSide           -1        Normal           -1   \n",
       "30      Inside       IDOTRR           No        Normal          Unf   \n",
       "710     Inside      BrkSide           No        Normal          Unf   \n",
       "1337    Corner      OldTown           No        Normal          Unf   \n",
       "705     Inside       IDOTRR           -1        Normal           -1   \n",
       "1325    Inside       IDOTRR           No        Normal          Unf   \n",
       "812     Inside       IDOTRR           Av        Alloca          Unf   \n",
       "\n",
       "     Exterior1st Exterior2nd  \n",
       "495      Wd Sdng     Wd Sdng  \n",
       "916      AsbShng     AsbShng  \n",
       "968      VinylSd     VinylSd  \n",
       "533      VinylSd     VinylSd  \n",
       "30       BrkFace     BrkFace  \n",
       "710      VinylSd     VinylSd  \n",
       "1337     Wd Sdng     Wd Sdng  \n",
       "705      VinylSd     Wd Shng  \n",
       "1325     AsbShng     AsbShng  \n",
       "812      Wd Sdng     Wd Sdng  \n",
       "\n",
       "[10 rows x 44 columns]"
      ]
     },
     "execution_count": 16,
     "metadata": {},
     "output_type": "execute_result"
    }
   ],
   "source": [
    "# E para as mais baratas\n",
    "baratas[rep.index]"
   ]
  },
  {
   "cell_type": "markdown",
   "id": "0753f660",
   "metadata": {},
   "source": [
    "## Agora podemos investigar melhor essas principais colunas\n",
    "- As columas que mais chamaram atenção foram:\n",
    "    - [Utilities](#Utilities)\n",
    "    - [CentralAir](#CentralAir)\n",
    "    - [PavedDrive](#PavedDrive)\n",
    "    - [MSZoning](#MSZoning)\n",
    "    - [GarageQual](#GarageQual)\n",
    "- Irei analisar caso a caso."
   ]
  },
  {
   "cell_type": "markdown",
   "id": "0e53c809",
   "metadata": {},
   "source": [
    "<a id=\"Utilities\"></a>\n",
    "- <font color=\"blue\">**Começando primeiramente analisando a coluna \"Utilities\"**</font>"
   ]
  },
  {
   "cell_type": "code",
   "execution_count": 17,
   "id": "034948b6",
   "metadata": {},
   "outputs": [
    {
     "data": {
      "text/plain": [
       "AllPub    1459\n",
       "NoSeWa       1\n",
       "Name: Utilities, dtype: int64"
      ]
     },
     "execution_count": 17,
     "metadata": {},
     "output_type": "execute_result"
    }
   ],
   "source": [
    "# Verificando os valores nessa coluna para a base de treino\n",
    "treino.Utilities.value_counts()"
   ]
  },
  {
   "cell_type": "code",
   "execution_count": 18,
   "id": "dd8f08e7",
   "metadata": {},
   "outputs": [
    {
     "data": {
      "text/plain": [
       "AllPub    1459\n",
       "Name: Utilities, dtype: int64"
      ]
     },
     "execution_count": 18,
     "metadata": {},
     "output_type": "execute_result"
    }
   ],
   "source": [
    "# E para a base de teste\n",
    "teste.Utilities.value_counts()"
   ]
  },
  {
   "cell_type": "markdown",
   "id": "ee82680a",
   "metadata": {},
   "source": [
    "- Como observado acima, verificamos que essa coluna não trará nenhuma melhora na nossa base."
   ]
  },
  {
   "cell_type": "code",
   "execution_count": 19,
   "id": "22ed7ba2",
   "metadata": {},
   "outputs": [],
   "source": [
    "# Eliminando essa coluna nas 2 bases\n",
    "treino=treino.drop('Utilities',axis=1)\n",
    "teste=teste.drop('Utilities',axis=1)"
   ]
  },
  {
   "cell_type": "markdown",
   "id": "8a1950cf",
   "metadata": {},
   "source": [
    "<p style='text-align: right;'><a href=\"#colunas\">Voltar</a></p>"
   ]
  },
  {
   "cell_type": "markdown",
   "id": "dba4f4f4",
   "metadata": {},
   "source": [
    "<a id=\"CentralAir\"></a>\n",
    "- <font color=\"blue\">**Analisando a coluna \"CentralAir\"**</font>\n",
    "- Na visualização das colunas caras e baratas, verificamos que as 10 casas mais caras possuem ar condicionado e das 10 casas mais baratam, 9 não possuem ar condicionado."
   ]
  },
  {
   "cell_type": "code",
   "execution_count": 20,
   "id": "9bce8176",
   "metadata": {},
   "outputs": [
    {
     "data": {
      "text/plain": [
       "Y    1365\n",
       "N      95\n",
       "Name: CentralAir, dtype: int64"
      ]
     },
     "execution_count": 20,
     "metadata": {},
     "output_type": "execute_result"
    }
   ],
   "source": [
    "# Verificando os valores nessa coluna\n",
    "treino.CentralAir.value_counts()"
   ]
  },
  {
   "cell_type": "code",
   "execution_count": 21,
   "id": "fa84a41e",
   "metadata": {
    "scrolled": true
   },
   "outputs": [
    {
     "data": {
      "image/png": "[encoded data removed]",
      "text/plain": [
       "<Figure size 1500x600 with 2 Axes>"
      ]
     },
     "metadata": {},
     "output_type": "display_data"
    }
   ],
   "source": [
    "# Visualizando se a hipótese graficamente\n",
    "# plot\n",
    "fig, ax = plt.subplots(ncols=2,figsize=(15,6))\n",
    "sns.boxplot(data=treino,x=treino.CentralAir, y=treino.SalePrice,ax=ax[0])\n",
    "sns.kdeplot(x=treino.SalePrice,hue=treino.CentralAir,ax=ax[1])\n",
    "plt.show()"
   ]
  },
  {
   "cell_type": "markdown",
   "id": "cfec96a5",
   "metadata": {},
   "source": [
    "- O valor \"N\", apesar de aparecer na maioria das casas de menor valor, não é um valor tão frequente"
   ]
  },
  {
   "cell_type": "markdown",
   "id": "58d6c784",
   "metadata": {},
   "source": [
    "- **Podemos transformar essa coluna simplesmente colocando tudo que for Y como 1 e N como 0**"
   ]
  },
  {
   "cell_type": "code",
   "execution_count": 22,
   "id": "49aa4fa3",
   "metadata": {},
   "outputs": [],
   "source": [
    "# Substituindo os valores na base de treino e teste\n",
    "treino['CentralAir']=treino.CentralAir.apply(lambda x:1 if x==\"Y\" else 0)\n",
    "teste['CentralAir']=teste.CentralAir.apply(lambda x:1 if x==\"Y\" else 0)"
   ]
  },
  {
   "cell_type": "markdown",
   "id": "02ea3c2c",
   "metadata": {},
   "source": [
    "<a id=\"PavedDrive\"></a>\n",
    "- <font color=\"blue\">**E também analisar a coluna \"PavedDrive\"** (calçada pavimentada)</font>\n",
    "    - Y: Paved \n",
    "    - P: Partial Pavement\n",
    "    - N: Dirt/Gravel"
   ]
  },
  {
   "cell_type": "code",
   "execution_count": 23,
   "id": "5344dc95",
   "metadata": {},
   "outputs": [
    {
     "data": {
      "text/plain": [
       "Y    1340\n",
       "N      90\n",
       "P      30\n",
       "Name: PavedDrive, dtype: int64"
      ]
     },
     "execution_count": 23,
     "metadata": {},
     "output_type": "execute_result"
    }
   ],
   "source": [
    "# Verificando os valores nessa coluna\n",
    "treino.PavedDrive.value_counts()"
   ]
  },
  {
   "cell_type": "code",
   "execution_count": 24,
   "id": "4d0ff6c1",
   "metadata": {},
   "outputs": [
    {
     "data": {
      "image/png": "[encoded data removed]",
      "text/plain": [
       "<Figure size 1500x600 with 2 Axes>"
      ]
     },
     "metadata": {},
     "output_type": "display_data"
    }
   ],
   "source": [
    "# Verificando a relação desses valores com o preço da casa\n",
    "coluna='PavedDrive'\n",
    "# plot\n",
    "fig, ax = plt.subplots(ncols=2,figsize=(15,6))\n",
    "sns.boxplot(data=treino,x=treino[coluna], y=treino.SalePrice,ax=ax[0])\n",
    "sns.kdeplot(x=treino.SalePrice,hue=treino[coluna],ax=ax[1])\n",
    "\n",
    "plt.show()"
   ]
  },
  {
   "cell_type": "markdown",
   "id": "988c34fd",
   "metadata": {},
   "source": [
    "- **Criando uma função capaz de transformar esses valores de texto em números**"
   ]
  },
  {
   "cell_type": "code",
   "execution_count": 25,
   "id": "d9f50927",
   "metadata": {},
   "outputs": [],
   "source": [
    "# Criando a função\n",
    "def DefinePD(x):\n",
    "    if x =='Y':\n",
    "        return 1\n",
    "    elif x =='N':\n",
    "        return 0\n",
    "    elif x=='P':\n",
    "        return 0.5\n",
    "    else:\n",
    "        return -1"
   ]
  },
  {
   "cell_type": "code",
   "execution_count": 26,
   "id": "f3dc9897",
   "metadata": {},
   "outputs": [],
   "source": [
    "# Aplicando essa função na base de treino e teste\n",
    "treino['PavedDrive']=treino.PavedDrive.apply(DefinePD)\n",
    "teste['PavedDrive']=teste.PavedDrive.apply(DefinePD)"
   ]
  },
  {
   "cell_type": "markdown",
   "id": "018bf7ae",
   "metadata": {},
   "source": [
    "<p style='text-align: right;'><a href=\"#colunas\">Voltar</a></p>"
   ]
  },
  {
   "cell_type": "markdown",
   "id": "14041f84",
   "metadata": {},
   "source": [
    "<a id=\"MSZoning\"></a>\n",
    "- <font color=\"blue\">**Agora podemos entender a relação do \"MSZoning\" com o preço**</font>"
   ]
  },
  {
   "cell_type": "code",
   "execution_count": 27,
   "id": "6fc15136",
   "metadata": {},
   "outputs": [
    {
     "data": {
      "text/plain": [
       "MSZoning\n",
       "C (all)     74528.000000\n",
       "FV         214014.061538\n",
       "RH         131558.375000\n",
       "RL         191004.994787\n",
       "RM         126316.830275\n",
       "Name: SalePrice, dtype: float64"
      ]
     },
     "execution_count": 27,
     "metadata": {},
     "output_type": "execute_result"
    }
   ],
   "source": [
    "# Fazendo um groupby desses dados para ver a média\n",
    "treino.groupby('MSZoning')['SalePrice'].mean()"
   ]
  },
  {
   "cell_type": "code",
   "execution_count": 28,
   "id": "0a33001a",
   "metadata": {},
   "outputs": [
    {
     "data": {
      "text/html": [
       "<div>\n",
       "<style scoped>\n",
       "    .dataframe tbody tr th:only-of-type {\n",
       "        vertical-align: middle;\n",
       "    }\n",
       "\n",
       "    .dataframe tbody tr th {\n",
       "        vertical-align: top;\n",
       "    }\n",
       "\n",
       "    .dataframe thead th {\n",
       "        text-align: right;\n",
       "    }\n",
       "</style>\n",
       "<table border=\"1\" class=\"dataframe\">\n",
       "  <thead>\n",
       "    <tr style=\"text-align: right;\">\n",
       "      <th></th>\n",
       "      <th>count</th>\n",
       "      <th>mean</th>\n",
       "      <th>std</th>\n",
       "      <th>min</th>\n",
       "      <th>25%</th>\n",
       "      <th>50%</th>\n",
       "      <th>75%</th>\n",
       "      <th>max</th>\n",
       "    </tr>\n",
       "    <tr>\n",
       "      <th>MSZoning</th>\n",
       "      <th></th>\n",
       "      <th></th>\n",
       "      <th></th>\n",
       "      <th></th>\n",
       "      <th></th>\n",
       "      <th></th>\n",
       "      <th></th>\n",
       "      <th></th>\n",
       "    </tr>\n",
       "  </thead>\n",
       "  <tbody>\n",
       "    <tr>\n",
       "      <th>C (all)</th>\n",
       "      <td>10.0</td>\n",
       "      <td>74528.000000</td>\n",
       "      <td>33791.092031</td>\n",
       "      <td>34900.0</td>\n",
       "      <td>43998.25</td>\n",
       "      <td>74700.0</td>\n",
       "      <td>98332.0</td>\n",
       "      <td>133900.0</td>\n",
       "    </tr>\n",
       "    <tr>\n",
       "      <th>FV</th>\n",
       "      <td>65.0</td>\n",
       "      <td>214014.061538</td>\n",
       "      <td>52369.662067</td>\n",
       "      <td>144152.0</td>\n",
       "      <td>174000.00</td>\n",
       "      <td>205950.0</td>\n",
       "      <td>250000.0</td>\n",
       "      <td>370878.0</td>\n",
       "    </tr>\n",
       "    <tr>\n",
       "      <th>RH</th>\n",
       "      <td>16.0</td>\n",
       "      <td>131558.375000</td>\n",
       "      <td>35714.118435</td>\n",
       "      <td>76000.0</td>\n",
       "      <td>106150.00</td>\n",
       "      <td>136500.0</td>\n",
       "      <td>148608.5</td>\n",
       "      <td>200000.0</td>\n",
       "    </tr>\n",
       "    <tr>\n",
       "      <th>RL</th>\n",
       "      <td>1151.0</td>\n",
       "      <td>191004.994787</td>\n",
       "      <td>80766.341319</td>\n",
       "      <td>39300.0</td>\n",
       "      <td>137700.00</td>\n",
       "      <td>174000.0</td>\n",
       "      <td>224700.0</td>\n",
       "      <td>755000.0</td>\n",
       "    </tr>\n",
       "    <tr>\n",
       "      <th>RM</th>\n",
       "      <td>218.0</td>\n",
       "      <td>126316.830275</td>\n",
       "      <td>48521.689833</td>\n",
       "      <td>37900.0</td>\n",
       "      <td>100000.00</td>\n",
       "      <td>120500.0</td>\n",
       "      <td>140000.0</td>\n",
       "      <td>475000.0</td>\n",
       "    </tr>\n",
       "  </tbody>\n",
       "</table>\n",
       "</div>"
      ],
      "text/plain": [
       "           count           mean           std       min        25%       50%  \\\n",
       "MSZoning                                                                       \n",
       "C (all)     10.0   74528.000000  33791.092031   34900.0   43998.25   74700.0   \n",
       "FV          65.0  214014.061538  52369.662067  144152.0  174000.00  205950.0   \n",
       "RH          16.0  131558.375000  35714.118435   76000.0  106150.00  136500.0   \n",
       "RL        1151.0  191004.994787  80766.341319   39300.0  137700.00  174000.0   \n",
       "RM         218.0  126316.830275  48521.689833   37900.0  100000.00  120500.0   \n",
       "\n",
       "               75%       max  \n",
       "MSZoning                      \n",
       "C (all)    98332.0  133900.0  \n",
       "FV        250000.0  370878.0  \n",
       "RH        148608.5  200000.0  \n",
       "RL        224700.0  755000.0  \n",
       "RM        140000.0  475000.0  "
      ]
     },
     "execution_count": 28,
     "metadata": {},
     "output_type": "execute_result"
    }
   ],
   "source": [
    "# Visualizando também mínimo, máximo e contagem\n",
    "treino.groupby('MSZoning')['SalePrice'].describe()"
   ]
  },
  {
   "cell_type": "code",
   "execution_count": 29,
   "id": "db7fdd81",
   "metadata": {},
   "outputs": [
    {
     "data": {
      "image/png": "[encoded data removed]",
      "text/plain": [
       "<Figure size 1500x600 with 2 Axes>"
      ]
     },
     "metadata": {},
     "output_type": "display_data"
    }
   ],
   "source": [
    "# Podemos inclusive visualizar a distribuição desses valores\n",
    "coluna='MSZoning'\n",
    "# plot\n",
    "fig, ax = plt.subplots(ncols=2,figsize=(15,6))\n",
    "sns.boxplot(data=treino,x=treino[coluna], y=treino.SalePrice,ax=ax[0])\n",
    "sns.kdeplot(x=treino.SalePrice,hue=treino[coluna],ax=ax[1])\n",
    "\n",
    "plt.show()"
   ]
  },
  {
   "cell_type": "markdown",
   "id": "35c3addb",
   "metadata": {},
   "source": [
    "- **Para resolver o problema de variáveis textuais, podemos utilizar agora o OneHotEncoder e transformar cada um desses valores em uma nova coluna**\n",
    "    - https://scikit-learn.org/stable/modules/generated/sklearn.preprocessing.OneHotEncoder.html"
   ]
  },
  {
   "cell_type": "code",
   "execution_count": 30,
   "id": "f0810cfe",
   "metadata": {},
   "outputs": [],
   "source": [
    "# Importando, criando o encoder para essa coluna e fazendo o fit\n",
    "from sklearn.preprocessing import OneHotEncoder\n",
    "ohe_MSZoning = OneHotEncoder(handle_unknown='ignore').fit(treino[['MSZoning']])"
   ]
  },
  {
   "cell_type": "code",
   "execution_count": 31,
   "id": "7683d227",
   "metadata": {},
   "outputs": [
    {
     "data": {
      "text/plain": [
       "array([[0., 0., 0., 1., 0.],\n",
       "       [0., 0., 0., 1., 0.],\n",
       "       [0., 0., 0., 1., 0.],\n",
       "       ...,\n",
       "       [0., 0., 0., 1., 0.],\n",
       "       [0., 0., 0., 1., 0.],\n",
       "       [0., 0., 0., 1., 0.]])"
      ]
     },
     "execution_count": 31,
     "metadata": {},
     "output_type": "execute_result"
    }
   ],
   "source": [
    "# Transformando os dados\n",
    "ohe_MSZoning.transform(treino[['MSZoning']]).toarray()"
   ]
  },
  {
   "cell_type": "code",
   "execution_count": 32,
   "id": "fb6c0645",
   "metadata": {},
   "outputs": [
    {
     "data": {
      "text/html": [
       "<div>\n",
       "<style scoped>\n",
       "    .dataframe tbody tr th:only-of-type {\n",
       "        vertical-align: middle;\n",
       "    }\n",
       "\n",
       "    .dataframe tbody tr th {\n",
       "        vertical-align: top;\n",
       "    }\n",
       "\n",
       "    .dataframe thead th {\n",
       "        text-align: right;\n",
       "    }\n",
       "</style>\n",
       "<table border=\"1\" class=\"dataframe\">\n",
       "  <thead>\n",
       "    <tr style=\"text-align: right;\">\n",
       "      <th></th>\n",
       "      <th>MSZoning_C (all)</th>\n",
       "      <th>MSZoning_FV</th>\n",
       "      <th>MSZoning_RH</th>\n",
       "      <th>MSZoning_RL</th>\n",
       "      <th>MSZoning_RM</th>\n",
       "    </tr>\n",
       "  </thead>\n",
       "  <tbody>\n",
       "    <tr>\n",
       "      <th>0</th>\n",
       "      <td>0.0</td>\n",
       "      <td>0.0</td>\n",
       "      <td>0.0</td>\n",
       "      <td>1.0</td>\n",
       "      <td>0.0</td>\n",
       "    </tr>\n",
       "    <tr>\n",
       "      <th>1</th>\n",
       "      <td>0.0</td>\n",
       "      <td>0.0</td>\n",
       "      <td>0.0</td>\n",
       "      <td>1.0</td>\n",
       "      <td>0.0</td>\n",
       "    </tr>\n",
       "  </tbody>\n",
       "</table>\n",
       "</div>"
      ],
      "text/plain": [
       "   MSZoning_C (all)  MSZoning_FV  MSZoning_RH  MSZoning_RL  MSZoning_RM\n",
       "0               0.0          0.0          0.0          1.0          0.0\n",
       "1               0.0          0.0          0.0          1.0          0.0"
      ]
     },
     "execution_count": 32,
     "metadata": {},
     "output_type": "execute_result"
    }
   ],
   "source": [
    "# Podemos transformar isso em um DataFrame do pandas\n",
    "ohe_MSZoning_df = pd.DataFrame(ohe_MSZoning.transform(treino[['MSZoning']]).toarray(),\n",
    "                              columns=ohe_MSZoning.get_feature_names_out())\n",
    "ohe_MSZoning_df.head(2)"
   ]
  },
  {
   "cell_type": "code",
   "execution_count": 33,
   "id": "db4a2095",
   "metadata": {},
   "outputs": [],
   "source": [
    "# Unindo essa coluna com a base\n",
    "treino = pd.concat([treino,ohe_MSZoning_df],axis=1)"
   ]
  },
  {
   "cell_type": "code",
   "execution_count": 34,
   "id": "1693b47b",
   "metadata": {},
   "outputs": [],
   "source": [
    "# Eliminando a coluna \"MSZoning\"\n",
    "treino = treino.drop('MSZoning',axis=1)"
   ]
  },
  {
   "cell_type": "markdown",
   "id": "a1a0a924",
   "metadata": {},
   "source": [
    "- Agora utilizando o mesmo encoder para a **<font color='blue'>base de teste</font>**"
   ]
  },
  {
   "cell_type": "code",
   "execution_count": 35,
   "id": "50387a16",
   "metadata": {},
   "outputs": [
    {
     "data": {
      "text/plain": [
       "array([[0., 0., 1., 0., 0.],\n",
       "       [0., 0., 0., 1., 0.],\n",
       "       [0., 0., 0., 1., 0.],\n",
       "       ...,\n",
       "       [0., 0., 0., 1., 0.],\n",
       "       [0., 0., 0., 1., 0.],\n",
       "       [0., 0., 0., 1., 0.]])"
      ]
     },
     "execution_count": 35,
     "metadata": {},
     "output_type": "execute_result"
    }
   ],
   "source": [
    "# Fazendo a transformação\n",
    "ohe_MSZoning.transform(teste[['MSZoning']]).toarray()"
   ]
  },
  {
   "cell_type": "code",
   "execution_count": 36,
   "id": "cacd4fa6",
   "metadata": {},
   "outputs": [],
   "source": [
    "# Transformando em um DataFrame (podemos sobrescrever essa variável)\n",
    "ohe_MSZoning_df = pd.DataFrame(ohe_MSZoning.transform(teste[['MSZoning']]).toarray(),\n",
    "                              columns=ohe_MSZoning.get_feature_names_out())"
   ]
  },
  {
   "cell_type": "code",
   "execution_count": 37,
   "id": "3bd4bff9",
   "metadata": {},
   "outputs": [],
   "source": [
    "# Unindo essa coluna com a base de teste\n",
    "teste = pd.concat([teste,ohe_MSZoning_df],axis=1)"
   ]
  },
  {
   "cell_type": "code",
   "execution_count": 38,
   "id": "987e1a77",
   "metadata": {},
   "outputs": [],
   "source": [
    "# Eliminando a coluna \"MSZoning\"\n",
    "teste = teste.drop('MSZoning',axis=1)"
   ]
  },
  {
   "cell_type": "markdown",
   "id": "6ef891b2",
   "metadata": {},
   "source": [
    "<p style='text-align: right;'><a href=\"#colunas\">Voltar</a></p>"
   ]
  },
  {
   "cell_type": "markdown",
   "id": "e55265f6",
   "metadata": {},
   "source": [
    "<a id=\"GarageQual\"></a>\n",
    "- <font color=\"blue\">**Analisando as informações sobre garagem, começando pela \"GarageQual\"**</font>\n",
    "    - Ex: Excellent\n",
    "    - Gd: Good\n",
    "    - TA: Typical/Average\n",
    "    - Fa: Fair\n",
    "    - Po: Poor\n",
    "    - NA: No Garage -> lembrando que já substituimos esse valor por -1"
   ]
  },
  {
   "cell_type": "code",
   "execution_count": 39,
   "id": "d3e5aa8d",
   "metadata": {},
   "outputs": [
    {
     "data": {
      "text/plain": [
       "TA    1311\n",
       "-1      81\n",
       "Fa      48\n",
       "Gd      14\n",
       "Ex       3\n",
       "Po       3\n",
       "Name: GarageQual, dtype: int64"
      ]
     },
     "execution_count": 39,
     "metadata": {},
     "output_type": "execute_result"
    }
   ],
   "source": [
    "# Verificando os valores nessa coluna\n",
    "treino.GarageQual.value_counts()"
   ]
  },
  {
   "cell_type": "code",
   "execution_count": 40,
   "id": "86a36eab",
   "metadata": {},
   "outputs": [
    {
     "data": {
      "image/png": "[encoded data removed]",
      "text/plain": [
       "<Figure size 1500x500 with 2 Axes>"
      ]
     },
     "metadata": {},
     "output_type": "display_data"
    }
   ],
   "source": [
    "# Visualizando graficamente\n",
    "coluna = 'GarageQual'\n",
    "\n",
    "fig, ax = plt.subplots(ncols=2,figsize=(15,5))\n",
    "\n",
    "sns.boxplot(x=treino[coluna],y=treino.SalePrice,ax=ax[0])\n",
    "sns.kdeplot(x=treino.SalePrice,hue=treino[coluna],ax=ax[1])\n",
    "\n",
    "plt.show()"
   ]
  },
  {
   "cell_type": "markdown",
   "id": "735b489f",
   "metadata": {},
   "source": [
    "- Existem muitas colunas separadas, Irei verificar se não faz sentido fazer uma análise só para todas as colunas."
   ]
  },
  {
   "cell_type": "code",
   "execution_count": 41,
   "id": "a55487a9",
   "metadata": {},
   "outputs": [
    {
     "data": {
      "text/plain": [
       "Index(['GarageType', 'GarageYrBlt', 'GarageFinish', 'GarageCars', 'GarageArea',\n",
       "       'GarageQual', 'GarageCond'],\n",
       "      dtype='object')"
      ]
     },
     "execution_count": 41,
     "metadata": {},
     "output_type": "execute_result"
    }
   ],
   "source": [
    "# Verificando as colunas que possuem garagem no nome\n",
    "cols_garagem = treino.columns[treino.columns.str.contains('Garage')]\n",
    "cols_garagem"
   ]
  },
  {
   "cell_type": "markdown",
   "id": "f7a0a039",
   "metadata": {},
   "source": [
    "- Verificando se não existem overfitting das informações nas colunas 'GarageQual' e 'GarageCond'"
   ]
  },
  {
   "cell_type": "code",
   "execution_count": 42,
   "id": "cb744769",
   "metadata": {},
   "outputs": [
    {
     "data": {
      "text/plain": [
       "0.9595890410958904"
      ]
     },
     "execution_count": 42,
     "metadata": {},
     "output_type": "execute_result"
    }
   ],
   "source": [
    "#Verificando a % de dados iguais entre as duas colunas\n",
    "treino[treino.GarageQual == treino.GarageCond].shape[0]/treino.shape[0]"
   ]
  },
  {
   "cell_type": "markdown",
   "id": "4cc56a9e",
   "metadata": {},
   "source": [
    "- **Podemos apagar a coluna \"GarageCond\" pois a informação nessa coluna diz basicamente a mesma coisa que a coluna \"GarageQual\"** "
   ]
  },
  {
   "cell_type": "code",
   "execution_count": 43,
   "id": "441a3b8a",
   "metadata": {},
   "outputs": [],
   "source": [
    "# Apagando a coluna GarageCond\n",
    "treino = treino.drop('GarageCond',axis=1)"
   ]
  },
  {
   "cell_type": "markdown",
   "id": "2a0b5557",
   "metadata": {},
   "source": [
    "- **Da mesma forma, também podemos analisar a relação entre \"GarageCars\" e \"GarageArea\"**"
   ]
  },
  {
   "cell_type": "code",
   "execution_count": 44,
   "id": "f38bd74f",
   "metadata": {},
   "outputs": [
    {
     "data": {
      "text/html": [
       "<div>\n",
       "<style scoped>\n",
       "    .dataframe tbody tr th:only-of-type {\n",
       "        vertical-align: middle;\n",
       "    }\n",
       "\n",
       "    .dataframe tbody tr th {\n",
       "        vertical-align: top;\n",
       "    }\n",
       "\n",
       "    .dataframe thead th {\n",
       "        text-align: right;\n",
       "    }\n",
       "</style>\n",
       "<table border=\"1\" class=\"dataframe\">\n",
       "  <thead>\n",
       "    <tr style=\"text-align: right;\">\n",
       "      <th></th>\n",
       "      <th>GarageCars</th>\n",
       "      <th>GarageArea</th>\n",
       "      <th>SalePrice</th>\n",
       "    </tr>\n",
       "  </thead>\n",
       "  <tbody>\n",
       "    <tr>\n",
       "      <th>GarageCars</th>\n",
       "      <td>1.000000</td>\n",
       "      <td>0.882475</td>\n",
       "      <td>0.640409</td>\n",
       "    </tr>\n",
       "    <tr>\n",
       "      <th>GarageArea</th>\n",
       "      <td>0.882475</td>\n",
       "      <td>1.000000</td>\n",
       "      <td>0.623431</td>\n",
       "    </tr>\n",
       "    <tr>\n",
       "      <th>SalePrice</th>\n",
       "      <td>0.640409</td>\n",
       "      <td>0.623431</td>\n",
       "      <td>1.000000</td>\n",
       "    </tr>\n",
       "  </tbody>\n",
       "</table>\n",
       "</div>"
      ],
      "text/plain": [
       "            GarageCars  GarageArea  SalePrice\n",
       "GarageCars    1.000000    0.882475   0.640409\n",
       "GarageArea    0.882475    1.000000   0.623431\n",
       "SalePrice     0.640409    0.623431   1.000000"
      ]
     },
     "execution_count": 44,
     "metadata": {},
     "output_type": "execute_result"
    }
   ],
   "source": [
    "# Analisando a correlação entre as duas colunas e o preço\n",
    "treino[['GarageCars','GarageArea','SalePrice']].corr()"
   ]
  },
  {
   "cell_type": "code",
   "execution_count": 45,
   "id": "97475b06",
   "metadata": {},
   "outputs": [],
   "source": [
    "# Eliminando a coluna GarageArea\n",
    "treino = treino.drop('GarageArea',axis=1)"
   ]
  },
  {
   "cell_type": "markdown",
   "id": "3c764815",
   "metadata": {},
   "source": [
    "- **Podemos continuar tratando as colunas de garagem, mas relacionando com outras informações da base como \"YearBuilt\" e \"YearRemodAdd\"**"
   ]
  },
  {
   "cell_type": "code",
   "execution_count": 46,
   "id": "eb5e8b3c",
   "metadata": {},
   "outputs": [
    {
     "data": {
      "text/html": [
       "<div>\n",
       "<style scoped>\n",
       "    .dataframe tbody tr th:only-of-type {\n",
       "        vertical-align: middle;\n",
       "    }\n",
       "\n",
       "    .dataframe tbody tr th {\n",
       "        vertical-align: top;\n",
       "    }\n",
       "\n",
       "    .dataframe thead th {\n",
       "        text-align: right;\n",
       "    }\n",
       "</style>\n",
       "<table border=\"1\" class=\"dataframe\">\n",
       "  <thead>\n",
       "    <tr style=\"text-align: right;\">\n",
       "      <th></th>\n",
       "      <th>GarageYrBlt</th>\n",
       "      <th>YearBuilt</th>\n",
       "      <th>YearRemodAdd</th>\n",
       "      <th>SalePrice</th>\n",
       "    </tr>\n",
       "  </thead>\n",
       "  <tbody>\n",
       "    <tr>\n",
       "      <th>GarageYrBlt</th>\n",
       "      <td>1.000000</td>\n",
       "      <td>0.825667</td>\n",
       "      <td>0.642277</td>\n",
       "      <td>0.486362</td>\n",
       "    </tr>\n",
       "    <tr>\n",
       "      <th>YearBuilt</th>\n",
       "      <td>0.825667</td>\n",
       "      <td>1.000000</td>\n",
       "      <td>0.618058</td>\n",
       "      <td>0.507584</td>\n",
       "    </tr>\n",
       "    <tr>\n",
       "      <th>YearRemodAdd</th>\n",
       "      <td>0.642277</td>\n",
       "      <td>0.618058</td>\n",
       "      <td>1.000000</td>\n",
       "      <td>0.505434</td>\n",
       "    </tr>\n",
       "    <tr>\n",
       "      <th>SalePrice</th>\n",
       "      <td>0.486362</td>\n",
       "      <td>0.507584</td>\n",
       "      <td>0.505434</td>\n",
       "      <td>1.000000</td>\n",
       "    </tr>\n",
       "  </tbody>\n",
       "</table>\n",
       "</div>"
      ],
      "text/plain": [
       "              GarageYrBlt  YearBuilt  YearRemodAdd  SalePrice\n",
       "GarageYrBlt      1.000000   0.825667      0.642277   0.486362\n",
       "YearBuilt        0.825667   1.000000      0.618058   0.507584\n",
       "YearRemodAdd     0.642277   0.618058      1.000000   0.505434\n",
       "SalePrice        0.486362   0.507584      0.505434   1.000000"
      ]
     },
     "execution_count": 46,
     "metadata": {},
     "output_type": "execute_result"
    }
   ],
   "source": [
    "# Analisando a correlação entre as datas de construção\n",
    "treino.loc[treino.GarageYrBlt != -1,['GarageYrBlt','YearBuilt','YearRemodAdd','SalePrice']].corr()"
   ]
  },
  {
   "cell_type": "code",
   "execution_count": 47,
   "id": "ea3d25cd",
   "metadata": {},
   "outputs": [],
   "source": [
    "# Por existir uma correlação, também podemos eliminar essa coluna de GarageYrBlt\n",
    "treino = treino.drop('GarageYrBlt',axis=1)"
   ]
  },
  {
   "cell_type": "markdown",
   "id": "532ae8c4",
   "metadata": {},
   "source": [
    "- **Por fim, podemos continuar tratando as colunas de garagem ou apenas transformar o restante das colunas de texto**\n",
    "    - Utilizando o OneHotEncoder para a coluna \"GarageType\"\n",
    "        - https://scikit-learn.org/stable/modules/generated/sklearn.preprocessing.OneHotEncoder.html\n",
    "    - E o OrdinalEncoder para as colunas \"GarageFinish\" e \"GarageQual\"\n",
    "        - https://scikit-learn.org/stable/modules/generated/sklearn.preprocessing.OrdinalEncoder.html"
   ]
  },
  {
   "cell_type": "code",
   "execution_count": 48,
   "id": "4b6e05f5",
   "metadata": {},
   "outputs": [
    {
     "data": {
      "text/plain": [
       "Attchd     870\n",
       "Detchd     387\n",
       "BuiltIn     88\n",
       "-1          81\n",
       "Basment     19\n",
       "CarPort      9\n",
       "2Types       6\n",
       "Name: GarageType, dtype: int64"
      ]
     },
     "execution_count": 48,
     "metadata": {},
     "output_type": "execute_result"
    }
   ],
   "source": [
    "# Visualizando os valores em \"GarageType\"\n",
    "treino.GarageType.value_counts()"
   ]
  },
  {
   "cell_type": "code",
   "execution_count": 49,
   "id": "9f5f9c32",
   "metadata": {},
   "outputs": [],
   "source": [
    "# Criando um encoder para GarageType e fazendo o Fit\n",
    "ohe_GarageType = OneHotEncoder(handle_unknown='ignore',\n",
    "                              min_frequency=25).fit(treino[['GarageType']])"
   ]
  },
  {
   "cell_type": "code",
   "execution_count": 50,
   "id": "776e0671",
   "metadata": {},
   "outputs": [],
   "source": [
    "# Fazendo o transform já em um DataFrame\n",
    "ohe_GarageType_df = pd.DataFrame(ohe_GarageType.transform(treino[['GarageType']]).toarray(),\n",
    "                              columns=ohe_GarageType.get_feature_names_out())"
   ]
  },
  {
   "cell_type": "code",
   "execution_count": 51,
   "id": "b9a8a4cd",
   "metadata": {},
   "outputs": [],
   "source": [
    "# Unindo essa coluna com a base e eliminando a coluna \"GarageType\"\n",
    "treino = pd.concat([treino,ohe_GarageType_df],axis=1)\n",
    "treino = treino.drop('GarageType',axis=1)"
   ]
  },
  {
   "cell_type": "markdown",
   "id": "47b51dee",
   "metadata": {},
   "source": [
    "- Fazendo o OrdinalEncoder para as outras 2 colunas, incialmente fazendo uma lista para os valores de acordo com o data_description.txt\n",
    " "
   ]
  },
  {
   "cell_type": "code",
   "execution_count": 52,
   "id": "5e46b170",
   "metadata": {},
   "outputs": [],
   "source": [
    "# Criando a lista de ordem dos valores\n",
    "GarageFinish_oe = ['Unf','RFn','Fin']\n",
    "GarageQual_oe = ['Po','Fa','TA','Gd','Ex']"
   ]
  },
  {
   "cell_type": "code",
   "execution_count": 53,
   "id": "3c09047b",
   "metadata": {},
   "outputs": [],
   "source": [
    "# Importando o OrdinalEncoder\n",
    "from sklearn.preprocessing import OrdinalEncoder\n",
    "oe_garagem = OrdinalEncoder(categories=[GarageFinish_oe,GarageQual_oe],\n",
    "                   handle_unknown='use_encoded_value',\n",
    "                   unknown_value=-1, dtype='int64').fit(treino[['GarageFinish','GarageQual']])"
   ]
  },
  {
   "cell_type": "code",
   "execution_count": 54,
   "id": "6977393b",
   "metadata": {},
   "outputs": [
    {
     "data": {
      "text/plain": [
       "array([[1, 2],\n",
       "       [1, 2],\n",
       "       [1, 2],\n",
       "       ...,\n",
       "       [1, 2],\n",
       "       [0, 2],\n",
       "       [2, 2]], dtype=int64)"
      ]
     },
     "execution_count": 54,
     "metadata": {},
     "output_type": "execute_result"
    }
   ],
   "source": [
    "# Transformando\n",
    "oe_garagem.transform(treino[['GarageFinish','GarageQual']])"
   ]
  },
  {
   "cell_type": "code",
   "execution_count": 55,
   "id": "a7e79e79",
   "metadata": {},
   "outputs": [],
   "source": [
    "# Substituindo na base de treino\n",
    "treino[['GarageFinish','GarageQual']] = oe_garagem.transform(treino[['GarageFinish','GarageQual']])"
   ]
  },
  {
   "cell_type": "markdown",
   "id": "e02dbcf0",
   "metadata": {},
   "source": [
    "- Fazendo todos os tratamentos para a **<font color='blue'>base de teste</font>**"
   ]
  },
  {
   "cell_type": "code",
   "execution_count": 56,
   "id": "7f1741d8",
   "metadata": {},
   "outputs": [],
   "source": [
    "# Apagando as coluna \"GarageCond\", \"GarageArea\", \"GarageYrBlt\"\n",
    "teste = teste.drop('GarageCond',axis=1)\n",
    "teste = teste.drop('GarageArea',axis=1)\n",
    "teste = teste.drop('GarageYrBlt',axis=1)"
   ]
  },
  {
   "cell_type": "code",
   "execution_count": 57,
   "id": "ed3ff716",
   "metadata": {},
   "outputs": [],
   "source": [
    "# Utilizando o encoder do 'GarageType'\n",
    "ohe_GarageType_df = pd.DataFrame(ohe_GarageType.transform(teste[['GarageType']]).toarray(),\n",
    "                              columns=ohe_GarageType.get_feature_names_out())\n",
    "\n",
    "teste = pd.concat([teste,ohe_GarageType_df],axis=1)\n",
    "\n",
    "teste = teste.drop('GarageType',axis=1)"
   ]
  },
  {
   "cell_type": "code",
   "execution_count": 58,
   "id": "f8fb0fb7",
   "metadata": {},
   "outputs": [],
   "source": [
    "# Utilizando o OrdinalEncoder para as colunas 'GarageFinish' e 'GarageQual'\n",
    "teste[['GarageFinish','GarageQual']] = oe_garagem.transform(teste[['GarageFinish','GarageQual']])"
   ]
  },
  {
   "cell_type": "code",
   "execution_count": 59,
   "id": "4e4f7047",
   "metadata": {},
   "outputs": [],
   "source": [
    "# Exportando a base até esse momento\n",
    "treino.to_csv('train_3_1.csv',index=False)\n",
    "teste.to_csv('test_3_1.csv',index=False)"
   ]
  }
 ],
 "metadata": {
  "kernelspec": {
   "display_name": "Python 3 (ipykernel)",
   "language": "python",
   "name": "python3"
  },
  "language_info": {
   "codemirror_mode": {
    "name": "ipython",
    "version": 3
   },
   "file_extension": ".py",
   "mimetype": "text/x-python",
   "name": "python",
   "nbconvert_exporter": "python",
   "pygments_lexer": "ipython3",
   "version": "3.10.4"
  }
 },
 "nbformat": 4,
 "nbformat_minor": 5
}
