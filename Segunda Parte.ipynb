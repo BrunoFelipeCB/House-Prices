{
 "cells": [
  {
   "cell_type": "markdown",
   "id": "9ab1f7a6",
   "metadata": {},
   "source": [
    "# House Prices - Advanced Regression Techniques\n",
    "(Preços de casas - Técnicas Avançadas de Regressão)\n",
    "\n",
    "<img src=\"https://storage.googleapis.com/kaggle-competitions/kaggle/5407/media/housesbanner.png\" width=800>\n",
    "\n",
    "\n",
    "- Vamos utilizar o [dataset disponível no Kaggle](https://www.kaggle.com/competitions/house-prices-advanced-regression-techniques/overview)\n",
    "    - É um dataset de **competição**\n",
    "    - Temos uma base com a **descrição de cada uma das colunas (data_description.txt)**"
   ]
  },
  {
   "cell_type": "code",
   "execution_count": 260,
   "id": "0233c934",
   "metadata": {},
   "outputs": [],
   "source": [
    "# Importando o pandas e Importando os datasets\n",
    "import pandas as pd\n",
    "treino=pd.read_csv('train.csv')\n",
    "teste=pd.read_csv('test.csv')"
   ]
  },
  {
   "cell_type": "code",
   "execution_count": 261,
   "id": "bfd24d0c",
   "metadata": {},
   "outputs": [
    {
     "data": {
      "text/html": [
       "<div>\n",
       "<style scoped>\n",
       "    .dataframe tbody tr th:only-of-type {\n",
       "        vertical-align: middle;\n",
       "    }\n",
       "\n",
       "    .dataframe tbody tr th {\n",
       "        vertical-align: top;\n",
       "    }\n",
       "\n",
       "    .dataframe thead th {\n",
       "        text-align: right;\n",
       "    }\n",
       "</style>\n",
       "<table border=\"1\" class=\"dataframe\">\n",
       "  <thead>\n",
       "    <tr style=\"text-align: right;\">\n",
       "      <th></th>\n",
       "      <th>Id</th>\n",
       "      <th>MSSubClass</th>\n",
       "      <th>MSZoning</th>\n",
       "      <th>LotFrontage</th>\n",
       "      <th>LotArea</th>\n",
       "      <th>Street</th>\n",
       "      <th>Alley</th>\n",
       "      <th>LotShape</th>\n",
       "      <th>LandContour</th>\n",
       "      <th>Utilities</th>\n",
       "      <th>...</th>\n",
       "      <th>PoolArea</th>\n",
       "      <th>PoolQC</th>\n",
       "      <th>Fence</th>\n",
       "      <th>MiscFeature</th>\n",
       "      <th>MiscVal</th>\n",
       "      <th>MoSold</th>\n",
       "      <th>YrSold</th>\n",
       "      <th>SaleType</th>\n",
       "      <th>SaleCondition</th>\n",
       "      <th>SalePrice</th>\n",
       "    </tr>\n",
       "  </thead>\n",
       "  <tbody>\n",
       "    <tr>\n",
       "      <th>0</th>\n",
       "      <td>1</td>\n",
       "      <td>60</td>\n",
       "      <td>RL</td>\n",
       "      <td>65.0</td>\n",
       "      <td>8450</td>\n",
       "      <td>Pave</td>\n",
       "      <td>NaN</td>\n",
       "      <td>Reg</td>\n",
       "      <td>Lvl</td>\n",
       "      <td>AllPub</td>\n",
       "      <td>...</td>\n",
       "      <td>0</td>\n",
       "      <td>NaN</td>\n",
       "      <td>NaN</td>\n",
       "      <td>NaN</td>\n",
       "      <td>0</td>\n",
       "      <td>2</td>\n",
       "      <td>2008</td>\n",
       "      <td>WD</td>\n",
       "      <td>Normal</td>\n",
       "      <td>208500</td>\n",
       "    </tr>\n",
       "    <tr>\n",
       "      <th>1</th>\n",
       "      <td>2</td>\n",
       "      <td>20</td>\n",
       "      <td>RL</td>\n",
       "      <td>80.0</td>\n",
       "      <td>9600</td>\n",
       "      <td>Pave</td>\n",
       "      <td>NaN</td>\n",
       "      <td>Reg</td>\n",
       "      <td>Lvl</td>\n",
       "      <td>AllPub</td>\n",
       "      <td>...</td>\n",
       "      <td>0</td>\n",
       "      <td>NaN</td>\n",
       "      <td>NaN</td>\n",
       "      <td>NaN</td>\n",
       "      <td>0</td>\n",
       "      <td>5</td>\n",
       "      <td>2007</td>\n",
       "      <td>WD</td>\n",
       "      <td>Normal</td>\n",
       "      <td>181500</td>\n",
       "    </tr>\n",
       "  </tbody>\n",
       "</table>\n",
       "<p>2 rows × 81 columns</p>\n",
       "</div>"
      ],
      "text/plain": [
       "   Id  MSSubClass MSZoning  LotFrontage  LotArea Street Alley LotShape  \\\n",
       "0   1          60       RL         65.0     8450   Pave   NaN      Reg   \n",
       "1   2          20       RL         80.0     9600   Pave   NaN      Reg   \n",
       "\n",
       "  LandContour Utilities  ... PoolArea PoolQC Fence MiscFeature MiscVal MoSold  \\\n",
       "0         Lvl    AllPub  ...        0    NaN   NaN         NaN       0      2   \n",
       "1         Lvl    AllPub  ...        0    NaN   NaN         NaN       0      5   \n",
       "\n",
       "  YrSold  SaleType  SaleCondition  SalePrice  \n",
       "0   2008        WD         Normal     208500  \n",
       "1   2007        WD         Normal     181500  \n",
       "\n",
       "[2 rows x 81 columns]"
      ]
     },
     "execution_count": 261,
     "metadata": {},
     "output_type": "execute_result"
    }
   ],
   "source": [
    "# Visualizando essa base\n",
    "treino.head(2)"
   ]
  },
  {
   "cell_type": "markdown",
   "id": "2db0cfd3",
   "metadata": {},
   "source": [
    "<a id=\"index\"></a>\n",
    "## Explorando os dados\n",
    "- Analisando as colunas com maior quantidade de valores nulos."
   ]
  },
  {
   "cell_type": "code",
   "execution_count": 262,
   "id": "b6528772",
   "metadata": {},
   "outputs": [
    {
     "data": {
      "text/plain": [
       "PoolQC          1453\n",
       "MiscFeature     1406\n",
       "Alley           1369\n",
       "Fence           1179\n",
       "FireplaceQu      690\n",
       "LotFrontage      259\n",
       "GarageYrBlt       81\n",
       "GarageCond        81\n",
       "GarageType        81\n",
       "GarageFinish      81\n",
       "dtype: int64"
      ]
     },
     "execution_count": 262,
     "metadata": {},
     "output_type": "execute_result"
    }
   ],
   "source": [
    "# Visualizando quantidade de valores vazios\n",
    "(treino.isnull().sum()).sort_values(ascending=False).head(10)"
   ]
  },
  {
   "cell_type": "markdown",
   "id": "3ce76c6c",
   "metadata": {},
   "source": [
    "<a id='4top'></a>\n",
    "- **As 4 primeiras colunas tem mais de 80% dos valores vazios na base de treino**\n",
    "        - **PoolQC**: **Qualidade** da piscina\n",
    "            - NA: No Pool\n",
    "        - **MiscFeature**: Qualquer recurso não considerado nas outras categorias\n",
    "            - NA: None\n",
    "        - **Alley**: Tipo de beco / ruela para acesso a propriedade\n",
    "            - NA: No alley access\n",
    "        - **Fence**: **Qualidade** da cerca\n",
    "            - NA: No Fence\n",
    "\n",
    "\n",
    "- Nesses casos **o NA não é ausência de informação, <font color='red'>ele é uma informação</font>**\n",
    "\n",
    "\n",
    "- Podemos entender melhor os dados nessas colunas e principalmente sua **relação com o preço de venda**"
   ]
  },
  {
   "cell_type": "code",
   "execution_count": 263,
   "id": "2dd91a03",
   "metadata": {},
   "outputs": [],
   "source": [
    "# Podemos substituir os valores vazios na primeira coluna por -1\n",
    "treino[['PoolQC','MiscFeature','Alley','Fence']]=treino[['PoolQC','MiscFeature','Alley','Fence']].fillna(-1)"
   ]
  },
  {
   "cell_type": "code",
   "execution_count": 264,
   "id": "e5f020ce",
   "metadata": {},
   "outputs": [
    {
     "data": {
      "image/png": "[encoded data removed]",
      "text/plain": [
       "<Figure size 1000x600 with 4 Axes>"
      ]
     },
     "metadata": {},
     "output_type": "display_data"
    }
   ],
   "source": [
    "# Visualizando a relação com o preço\n",
    "import matplotlib.pyplot as plt\n",
    "import seaborn as sns\n",
    "# plot\n",
    "fig, ax = plt.subplots(ncols=2,nrows=2,figsize=(10,6))\n",
    "sns.boxplot(x=treino.PoolQC, y=treino.SalePrice/100000,\n",
    "            ax=ax[0,0])\n",
    "ax[0,0].set_ylabel('SalePrice (x100.000)')\n",
    "ax[0,0].set_title('SalePrice x PoolQC')\n",
    "\n",
    "sns.boxplot(x=treino.MiscFeature, y=treino.SalePrice/100000,\n",
    "            ax=ax[0,1])\n",
    "ax[1,0].set_ylabel('SalePrice (x100.000)')\n",
    "ax[0,1].set_title('SalePrice x MiscFeature')\n",
    "sns.boxplot(x=treino.Alley, y=treino.SalePrice/100000,\n",
    "            ax=ax[1,0])\n",
    "ax[0,1].set_ylabel('SalePrice (x100.000)')\n",
    "ax[0,1].set_title('SalePrice x Alley')\n",
    "sns.boxplot(x=treino.Fence, y=treino.SalePrice/100000,\n",
    "            ax=ax[1,1])\n",
    "ax[1,1].set_ylabel('SalePrice (x100.000)')\n",
    "ax[1,1].set_title('SalePrice x Fence')\n",
    "\n",
    "plt.subplots_adjust(hspace=0.5)\n",
    "plt.show()"
   ]
  },
  {
   "cell_type": "markdown",
   "id": "14df8566",
   "metadata": {},
   "source": [
    "- **Vamos começar a já fazer os mesmos tratamentos para a <font color='blue'>base de teste</font>** \n",
    "    - (depois vamos automatizar esse processo, mas por enquanto vamos fazer o passo a passo de cada etapa)"
   ]
  },
  {
   "cell_type": "code",
   "execution_count": 265,
   "id": "d84ff741",
   "metadata": {},
   "outputs": [],
   "source": [
    "# Ajustando também para a base de teste\n",
    "teste[['PoolQC','MiscFeature','Alley','Fence']]=teste[['PoolQC','MiscFeature','Alley','Fence']].fillna(-1)"
   ]
  },
  {
   "cell_type": "code",
   "execution_count": 266,
   "id": "936dd4eb",
   "metadata": {},
   "outputs": [
    {
     "data": {
      "text/plain": [
       "(1459, 80)"
      ]
     },
     "execution_count": 266,
     "metadata": {},
     "output_type": "execute_result"
    }
   ],
   "source": [
    "# Verificando o shape da base de teste\n",
    "teste.shape"
   ]
  },
  {
   "cell_type": "markdown",
   "id": "5fef14bd",
   "metadata": {},
   "source": [
    "<p style='text-align: right;'><a href=\"#index\">Voltar</a></p>"
   ]
  },
  {
   "cell_type": "markdown",
   "id": "3ebd9ba9",
   "metadata": {},
   "source": [
    "<a id=FireplaceQu></a>\n",
    "- **Agora analisando a coluna <font color='blue'>FireplaceQu</font>**\n",
    "- Temos 2 colunas relacionadas a lareiras:\n",
    "    - **Fireplaces**: Number of fireplaces\n",
    "    - **FireplaceQu**: Fireplace quality"
   ]
  },
  {
   "cell_type": "code",
   "execution_count": 267,
   "id": "8ba4d421",
   "metadata": {},
   "outputs": [
    {
     "data": {
      "text/plain": [
       "Fireplaces  FireplaceQu\n",
       "0           NaN            730\n",
       "1           Gd             303\n",
       "            TA             236\n",
       "2           Gd              58\n",
       "            TA              39\n",
       "1           Fa              35\n",
       "            Po              26\n",
       "            Ex              18\n",
       "2           Fa               6\n",
       "3           Gd               3\n",
       "            TA               3\n",
       "2           Ex               1\n",
       "4           TA               1\n",
       "dtype: int64"
      ]
     },
     "execution_count": 267,
     "metadata": {},
     "output_type": "execute_result"
    }
   ],
   "source": [
    "# Visualizando a quantidade de registros em cada rótulo\n",
    "teste[['Fireplaces','FireplaceQu']].value_counts(dropna=False)"
   ]
  },
  {
   "cell_type": "markdown",
   "id": "6ae40d37",
   "metadata": {},
   "source": [
    "- Esse NaN também é uma informação, dizendo que **não existe lareira**"
   ]
  },
  {
   "cell_type": "code",
   "execution_count": 268,
   "id": "9ac35831",
   "metadata": {},
   "outputs": [],
   "source": [
    "# Ajustando essa coluna\n",
    "treino[['Fireplaces','FireplaceQu']]=treino[['Fireplaces','FireplaceQu']].fillna(-1)\n",
    "teste[['Fireplaces','FireplaceQu']]=teste[['Fireplaces','FireplaceQu']].fillna(-1)"
   ]
  },
  {
   "cell_type": "markdown",
   "id": "4991d40e",
   "metadata": {},
   "source": [
    "- Novamente fazendo o mesmo para a **<font color='blue'>base de teste</font>**"
   ]
  },
  {
   "cell_type": "markdown",
   "id": "daadaf44",
   "metadata": {},
   "source": [
    "- **Visualizando novamente as informações de valores vazios**"
   ]
  },
  {
   "cell_type": "code",
   "execution_count": 269,
   "id": "21b8ccaf",
   "metadata": {
    "scrolled": true
   },
   "outputs": [
    {
     "data": {
      "text/plain": [
       "LotFrontage     0.177397\n",
       "GarageFinish    0.055479\n",
       "GarageCond      0.055479\n",
       "GarageYrBlt     0.055479\n",
       "GarageQual      0.055479\n",
       "GarageType      0.055479\n",
       "BsmtFinType2    0.026027\n",
       "BsmtExposure    0.026027\n",
       "BsmtCond        0.025342\n",
       "BsmtFinType1    0.025342\n",
       "dtype: float64"
      ]
     },
     "execution_count": 269,
     "metadata": {},
     "output_type": "execute_result"
    }
   ],
   "source": [
    "# Calculando % a quantidade de valores vazios\n",
    "(treino.isnull().sum()/treino.shape[0]).sort_values(ascending=False).head(10)"
   ]
  },
  {
   "cell_type": "markdown",
   "id": "e06901b6",
   "metadata": {},
   "source": [
    "<a id=LotFrontage></a>\n",
    "- **<font color='blue'>LotFrontage</font>: Pés lineares (medida de distância) de rua conectados à propriedade**"
   ]
  },
  {
   "cell_type": "code",
   "execution_count": 270,
   "id": "c7d5b036",
   "metadata": {},
   "outputs": [
    {
     "data": {
      "text/plain": [
       "Inside     134\n",
       "Corner      62\n",
       "CulDSac     49\n",
       "FR2         14\n",
       "Name: LotConfig, dtype: int64"
      ]
     },
     "execution_count": 270,
     "metadata": {},
     "output_type": "execute_result"
    }
   ],
   "source": [
    "# Entendendo os tipos de propriedades que possuem valor nulo\n",
    "treino.loc[treino.LotFrontage.isnull(),'LotConfig'].value_counts(dropna=False)"
   ]
  },
  {
   "cell_type": "code",
   "execution_count": 271,
   "id": "0b5d6a42",
   "metadata": {},
   "outputs": [
    {
     "data": {
      "text/plain": [
       "LotConfig\n",
       "Corner     84.039801\n",
       "CulDSac    59.911111\n",
       "FR2        63.515152\n",
       "FR3        70.750000\n",
       "Inside     67.715686\n",
       "Name: LotFrontage, dtype: float64"
      ]
     },
     "execution_count": 271,
     "metadata": {},
     "output_type": "execute_result"
    }
   ],
   "source": [
    "# Verificando a média por tipo de propriedade\n",
    "treino.groupby('LotConfig')['LotFrontage'].mean()"
   ]
  },
  {
   "cell_type": "markdown",
   "id": "83655058",
   "metadata": {},
   "source": [
    "- Nesse caso o valor vazio **parece um erro da base**, em minha análise acredito que substituir pela média faça sentido."
   ]
  },
  {
   "cell_type": "code",
   "execution_count": 272,
   "id": "02a77ec6",
   "metadata": {},
   "outputs": [],
   "source": [
    "# Substituindo os valores vazios pela média em relação ao LotConfig\n",
    "treino['LotFrontage']=treino['LotFrontage'].fillna(treino.groupby('LotConfig')['LotFrontage'].transform('mean'))\n",
    "teste['LotFrontage']=teste['LotFrontage'].fillna(teste.groupby('LotConfig')['LotFrontage'].transform('mean'))"
   ]
  },
  {
   "cell_type": "markdown",
   "id": "8e5ff266",
   "metadata": {},
   "source": [
    "<a id=\"garagem\"></a>\n",
    "- **Avaliando as <font color='blue'>colunas de garagem</font>**\n",
    "    - **GarageType**: Garage location\n",
    "        - **NA: No Garage**\n",
    "    - **GarageYrBlt**: Year garage was built\n",
    "\t- **GarageFinish**: Interior finish of the garage\n",
    "        - **NA: No Garage**\t\t\n",
    "    - **GarageCars**: Size of garage in car capacity\n",
    "\t- **GarageArea**: Size of garage in square feet\n",
    "\t- **GarageQual**: Garage quality\n",
    "        - **NA: No Garage**\t\t\n",
    "\t- **GarageCond**: Garage condition\n",
    "        - **NA: No Garage**\t\t"
   ]
  },
  {
   "cell_type": "code",
   "execution_count": 273,
   "id": "c20403b2",
   "metadata": {},
   "outputs": [
    {
     "data": {
      "text/plain": [
       "Index(['GarageType', 'GarageYrBlt', 'GarageFinish', 'GarageCars', 'GarageArea',\n",
       "       'GarageQual', 'GarageCond'],\n",
       "      dtype='object')"
      ]
     },
     "execution_count": 273,
     "metadata": {},
     "output_type": "execute_result"
    }
   ],
   "source": [
    "# Verificando as colunas que possuem garagem no nome\n",
    "col_garagem=treino.columns[treino.columns.str.contains('Garage')]\n",
    "col_garagem"
   ]
  },
  {
   "cell_type": "code",
   "execution_count": 274,
   "id": "e3076fa9",
   "metadata": {},
   "outputs": [
    {
     "data": {
      "text/plain": [
       "GarageType  GarageYrBlt  GarageFinish  GarageCars  GarageArea  GarageQual  GarageCond\n",
       "NaN         NaN          NaN           0           0           NaN         NaN           81\n",
       "dtype: int64"
      ]
     },
     "execution_count": 274,
     "metadata": {},
     "output_type": "execute_result"
    }
   ],
   "source": [
    "# Filtrando a base\n",
    "treino.loc[treino.GarageType.isnull(),col_garagem].value_counts(dropna=False)"
   ]
  },
  {
   "cell_type": "markdown",
   "id": "78deb42a",
   "metadata": {},
   "source": [
    "- **O NaN em todas essas colunas é que não existe garagem**"
   ]
  },
  {
   "cell_type": "code",
   "execution_count": 275,
   "id": "eea18ff7",
   "metadata": {},
   "outputs": [
    {
     "data": {
      "text/html": [
       "<div>\n",
       "<style scoped>\n",
       "    .dataframe tbody tr th:only-of-type {\n",
       "        vertical-align: middle;\n",
       "    }\n",
       "\n",
       "    .dataframe tbody tr th {\n",
       "        vertical-align: top;\n",
       "    }\n",
       "\n",
       "    .dataframe thead th {\n",
       "        text-align: right;\n",
       "    }\n",
       "</style>\n",
       "<table border=\"1\" class=\"dataframe\">\n",
       "  <thead>\n",
       "    <tr style=\"text-align: right;\">\n",
       "      <th></th>\n",
       "      <th>GarageType</th>\n",
       "      <th>GarageYrBlt</th>\n",
       "      <th>GarageFinish</th>\n",
       "      <th>GarageQual</th>\n",
       "      <th>GarageCond</th>\n",
       "    </tr>\n",
       "  </thead>\n",
       "  <tbody>\n",
       "    <tr>\n",
       "      <th>39</th>\n",
       "      <td>NaN</td>\n",
       "      <td>NaN</td>\n",
       "      <td>NaN</td>\n",
       "      <td>NaN</td>\n",
       "      <td>NaN</td>\n",
       "    </tr>\n",
       "    <tr>\n",
       "      <th>48</th>\n",
       "      <td>NaN</td>\n",
       "      <td>NaN</td>\n",
       "      <td>NaN</td>\n",
       "      <td>NaN</td>\n",
       "      <td>NaN</td>\n",
       "    </tr>\n",
       "    <tr>\n",
       "      <th>78</th>\n",
       "      <td>NaN</td>\n",
       "      <td>NaN</td>\n",
       "      <td>NaN</td>\n",
       "      <td>NaN</td>\n",
       "      <td>NaN</td>\n",
       "    </tr>\n",
       "  </tbody>\n",
       "</table>\n",
       "</div>"
      ],
      "text/plain": [
       "   GarageType  GarageYrBlt GarageFinish GarageQual GarageCond\n",
       "39        NaN          NaN          NaN        NaN        NaN\n",
       "48        NaN          NaN          NaN        NaN        NaN\n",
       "78        NaN          NaN          NaN        NaN        NaN"
      ]
     },
     "execution_count": 275,
     "metadata": {},
     "output_type": "execute_result"
    }
   ],
   "source": [
    "# Podemos selecionar apenas as colunas vazias (não numericas)\n",
    "treino.loc[treino.GarageType.isnull(),col_garagem[[0,1,2,5,6]]].head(3)"
   ]
  },
  {
   "cell_type": "code",
   "execution_count": 276,
   "id": "3561f167",
   "metadata": {},
   "outputs": [
    {
     "data": {
      "text/plain": [
       "GarageType  GarageYrBlt  GarageFinish  GarageQual  GarageCond\n",
       "NaN         NaN          NaN           NaN         NaN           81\n",
       "dtype: int64"
      ]
     },
     "execution_count": 276,
     "metadata": {},
     "output_type": "execute_result"
    }
   ],
   "source": [
    "# Verificando os valores\n",
    "treino.loc[treino.GarageType.isnull(),col_garagem[[0,1,2,5,6]]].value_counts(dropna=False)"
   ]
  },
  {
   "cell_type": "code",
   "execution_count": 277,
   "id": "ed7e39bd",
   "metadata": {},
   "outputs": [],
   "source": [
    "# E substituir esses valores por -1\n",
    "treino.loc[treino.GarageType.isnull(),col_garagem[[0,1,2,5,6]]] = -1"
   ]
  },
  {
   "cell_type": "code",
   "execution_count": 278,
   "id": "d36e146c",
   "metadata": {},
   "outputs": [
    {
     "data": {
      "text/plain": [
       "GarageType  GarageYrBlt  GarageFinish  GarageCars  GarageArea  GarageQual  GarageCond\n",
       "-1          -1.0         -1            0           0           -1          -1            81\n",
       "dtype: int64"
      ]
     },
     "execution_count": 278,
     "metadata": {},
     "output_type": "execute_result"
    }
   ],
   "source": [
    "# Verificando novamente quando a quantidade de carros é igual a 0\n",
    "treino.loc[treino.GarageCars == 0,col_garagem].value_counts(dropna=False)"
   ]
  },
  {
   "cell_type": "code",
   "execution_count": 279,
   "id": "7358f05a",
   "metadata": {},
   "outputs": [
    {
     "data": {
      "text/plain": [
       "BsmtExposure    38\n",
       "BsmtFinType2    38\n",
       "BsmtFinType1    37\n",
       "BsmtQual        37\n",
       "BsmtCond        37\n",
       "MasVnrType       8\n",
       "MasVnrArea       8\n",
       "Electrical       1\n",
       "FireplaceQu      0\n",
       "dtype: int64"
      ]
     },
     "execution_count": 279,
     "metadata": {},
     "output_type": "execute_result"
    }
   ],
   "source": [
    "# Resumindo os valores vazios da base de treino\n",
    "treino.isnull().sum().sort_values(ascending=False).head(9)"
   ]
  },
  {
   "cell_type": "markdown",
   "id": "d51d543d",
   "metadata": {},
   "source": [
    "- Para a **<font color='blue'>base de teste</font>**"
   ]
  },
  {
   "cell_type": "code",
   "execution_count": 280,
   "id": "3dafd005",
   "metadata": {},
   "outputs": [
    {
     "data": {
      "text/plain": [
       "GarageType  GarageYrBlt  GarageFinish  GarageCars  GarageArea  GarageQual  GarageCond\n",
       "NaN         NaN          NaN           0.0         0.0         NaN         NaN           76\n",
       "Detchd      NaN          NaN           1.0         360.0       NaN         NaN            1\n",
       "                                       NaN         NaN         NaN         NaN            1\n",
       "dtype: int64"
      ]
     },
     "execution_count": 280,
     "metadata": {},
     "output_type": "execute_result"
    }
   ],
   "source": [
    "# Verificando os valores\n",
    "teste.loc[teste.GarageCond.isnull(),col_garagem].value_counts(dropna=False)"
   ]
  },
  {
   "cell_type": "markdown",
   "id": "f769ad2f",
   "metadata": {},
   "source": [
    "- Para a base de testes, além de valores vazios, temos 2 valores com 'Detchd'.\n",
    "- Começando a tratar as linhas onde GarageCars é zero e tudo é vazio"
   ]
  },
  {
   "cell_type": "code",
   "execution_count": 281,
   "id": "10984890",
   "metadata": {},
   "outputs": [
    {
     "data": {
      "text/html": [
       "<div>\n",
       "<style scoped>\n",
       "    .dataframe tbody tr th:only-of-type {\n",
       "        vertical-align: middle;\n",
       "    }\n",
       "\n",
       "    .dataframe tbody tr th {\n",
       "        vertical-align: top;\n",
       "    }\n",
       "\n",
       "    .dataframe thead th {\n",
       "        text-align: right;\n",
       "    }\n",
       "</style>\n",
       "<table border=\"1\" class=\"dataframe\">\n",
       "  <thead>\n",
       "    <tr style=\"text-align: right;\">\n",
       "      <th></th>\n",
       "      <th>GarageType</th>\n",
       "      <th>GarageYrBlt</th>\n",
       "      <th>GarageFinish</th>\n",
       "      <th>GarageQual</th>\n",
       "      <th>GarageCond</th>\n",
       "    </tr>\n",
       "  </thead>\n",
       "  <tbody>\n",
       "    <tr>\n",
       "      <th>53</th>\n",
       "      <td>NaN</td>\n",
       "      <td>NaN</td>\n",
       "      <td>NaN</td>\n",
       "      <td>NaN</td>\n",
       "      <td>NaN</td>\n",
       "    </tr>\n",
       "    <tr>\n",
       "      <th>71</th>\n",
       "      <td>NaN</td>\n",
       "      <td>NaN</td>\n",
       "      <td>NaN</td>\n",
       "      <td>NaN</td>\n",
       "      <td>NaN</td>\n",
       "    </tr>\n",
       "    <tr>\n",
       "      <th>79</th>\n",
       "      <td>NaN</td>\n",
       "      <td>NaN</td>\n",
       "      <td>NaN</td>\n",
       "      <td>NaN</td>\n",
       "      <td>NaN</td>\n",
       "    </tr>\n",
       "    <tr>\n",
       "      <th>92</th>\n",
       "      <td>NaN</td>\n",
       "      <td>NaN</td>\n",
       "      <td>NaN</td>\n",
       "      <td>NaN</td>\n",
       "      <td>NaN</td>\n",
       "    </tr>\n",
       "    <tr>\n",
       "      <th>96</th>\n",
       "      <td>NaN</td>\n",
       "      <td>NaN</td>\n",
       "      <td>NaN</td>\n",
       "      <td>NaN</td>\n",
       "      <td>NaN</td>\n",
       "    </tr>\n",
       "    <tr>\n",
       "      <th>...</th>\n",
       "      <td>...</td>\n",
       "      <td>...</td>\n",
       "      <td>...</td>\n",
       "      <td>...</td>\n",
       "      <td>...</td>\n",
       "    </tr>\n",
       "    <tr>\n",
       "      <th>1433</th>\n",
       "      <td>NaN</td>\n",
       "      <td>NaN</td>\n",
       "      <td>NaN</td>\n",
       "      <td>NaN</td>\n",
       "      <td>NaN</td>\n",
       "    </tr>\n",
       "    <tr>\n",
       "      <th>1449</th>\n",
       "      <td>NaN</td>\n",
       "      <td>NaN</td>\n",
       "      <td>NaN</td>\n",
       "      <td>NaN</td>\n",
       "      <td>NaN</td>\n",
       "    </tr>\n",
       "    <tr>\n",
       "      <th>1453</th>\n",
       "      <td>NaN</td>\n",
       "      <td>NaN</td>\n",
       "      <td>NaN</td>\n",
       "      <td>NaN</td>\n",
       "      <td>NaN</td>\n",
       "    </tr>\n",
       "    <tr>\n",
       "      <th>1454</th>\n",
       "      <td>NaN</td>\n",
       "      <td>NaN</td>\n",
       "      <td>NaN</td>\n",
       "      <td>NaN</td>\n",
       "      <td>NaN</td>\n",
       "    </tr>\n",
       "    <tr>\n",
       "      <th>1457</th>\n",
       "      <td>NaN</td>\n",
       "      <td>NaN</td>\n",
       "      <td>NaN</td>\n",
       "      <td>NaN</td>\n",
       "      <td>NaN</td>\n",
       "    </tr>\n",
       "  </tbody>\n",
       "</table>\n",
       "<p>76 rows × 5 columns</p>\n",
       "</div>"
      ],
      "text/plain": [
       "     GarageType  GarageYrBlt GarageFinish GarageQual GarageCond\n",
       "53          NaN          NaN          NaN        NaN        NaN\n",
       "71          NaN          NaN          NaN        NaN        NaN\n",
       "79          NaN          NaN          NaN        NaN        NaN\n",
       "92          NaN          NaN          NaN        NaN        NaN\n",
       "96          NaN          NaN          NaN        NaN        NaN\n",
       "...         ...          ...          ...        ...        ...\n",
       "1433        NaN          NaN          NaN        NaN        NaN\n",
       "1449        NaN          NaN          NaN        NaN        NaN\n",
       "1453        NaN          NaN          NaN        NaN        NaN\n",
       "1454        NaN          NaN          NaN        NaN        NaN\n",
       "1457        NaN          NaN          NaN        NaN        NaN\n",
       "\n",
       "[76 rows x 5 columns]"
      ]
     },
     "execution_count": 281,
     "metadata": {},
     "output_type": "execute_result"
    }
   ],
   "source": [
    "# Analisando a condição de GarageQual e GarageCond serem nulos\n",
    "teste.loc[teste.GarageType.isnull(),col_garagem[[0,1,2,5,6]]]"
   ]
  },
  {
   "cell_type": "code",
   "execution_count": 282,
   "id": "a01ad3db",
   "metadata": {},
   "outputs": [],
   "source": [
    "# E substituir esses valores por -1\n",
    "teste.loc[teste.GarageType.isnull(),col_garagem[[0,1,2,5,6]]] =-1"
   ]
  },
  {
   "cell_type": "markdown",
   "id": "d812a967",
   "metadata": {},
   "source": [
    "- Agora vamos entender as colunas com tudo vazio mas GarageType = \"Detchd\""
   ]
  },
  {
   "cell_type": "code",
   "execution_count": 283,
   "id": "669e3be4",
   "metadata": {},
   "outputs": [
    {
     "data": {
      "text/html": [
       "<div>\n",
       "<style scoped>\n",
       "    .dataframe tbody tr th:only-of-type {\n",
       "        vertical-align: middle;\n",
       "    }\n",
       "\n",
       "    .dataframe tbody tr th {\n",
       "        vertical-align: top;\n",
       "    }\n",
       "\n",
       "    .dataframe thead th {\n",
       "        text-align: right;\n",
       "    }\n",
       "</style>\n",
       "<table border=\"1\" class=\"dataframe\">\n",
       "  <thead>\n",
       "    <tr style=\"text-align: right;\">\n",
       "      <th></th>\n",
       "      <th>GarageType</th>\n",
       "      <th>GarageYrBlt</th>\n",
       "      <th>GarageFinish</th>\n",
       "      <th>GarageCars</th>\n",
       "      <th>GarageArea</th>\n",
       "      <th>GarageQual</th>\n",
       "      <th>GarageCond</th>\n",
       "    </tr>\n",
       "  </thead>\n",
       "  <tbody>\n",
       "    <tr>\n",
       "      <th>666</th>\n",
       "      <td>Detchd</td>\n",
       "      <td>NaN</td>\n",
       "      <td>NaN</td>\n",
       "      <td>1.0</td>\n",
       "      <td>360.0</td>\n",
       "      <td>NaN</td>\n",
       "      <td>NaN</td>\n",
       "    </tr>\n",
       "    <tr>\n",
       "      <th>1116</th>\n",
       "      <td>Detchd</td>\n",
       "      <td>NaN</td>\n",
       "      <td>NaN</td>\n",
       "      <td>NaN</td>\n",
       "      <td>NaN</td>\n",
       "      <td>NaN</td>\n",
       "      <td>NaN</td>\n",
       "    </tr>\n",
       "  </tbody>\n",
       "</table>\n",
       "</div>"
      ],
      "text/plain": [
       "     GarageType  GarageYrBlt GarageFinish  GarageCars  GarageArea GarageQual  \\\n",
       "666      Detchd          NaN          NaN         1.0       360.0        NaN   \n",
       "1116     Detchd          NaN          NaN         NaN         NaN        NaN   \n",
       "\n",
       "     GarageCond  \n",
       "666         NaN  \n",
       "1116        NaN  "
      ]
     },
     "execution_count": 283,
     "metadata": {},
     "output_type": "execute_result"
    }
   ],
   "source": [
    "# Entendendo essas colunas\n",
    "teste.loc[teste.GarageCond.isnull(),col_garagem]"
   ]
  },
  {
   "cell_type": "markdown",
   "id": "b845ae7d",
   "metadata": {},
   "source": [
    "- Analisando a coluna GarageYrBlt"
   ]
  },
  {
   "cell_type": "code",
   "execution_count": 284,
   "id": "638413f4",
   "metadata": {},
   "outputs": [
    {
     "data": {
      "text/plain": [
       "GarageYrBlt    1.000000\n",
       "YearBuilt      0.615951\n",
       "GarageArea     0.494670\n",
       "Name: GarageYrBlt, dtype: float64"
      ]
     },
     "execution_count": 284,
     "metadata": {},
     "output_type": "execute_result"
    }
   ],
   "source": [
    "# Vamos verificar os valores quando GarageType == \"Detchd\"\n",
    "teste2=teste.loc[(teste.GarageType=='Detchd')& (teste.YearBuilt!=-1)]\n",
    "teste2.corr()['GarageYrBlt'].sort_values(ascending=False).head(3)"
   ]
  },
  {
   "cell_type": "code",
   "execution_count": 285,
   "id": "4b1e7fcb",
   "metadata": {},
   "outputs": [
    {
     "data": {
      "image/png": "[encoded data removed]",
      "text/plain": [
       "<Figure size 640x480 with 1 Axes>"
      ]
     },
     "metadata": {},
     "output_type": "display_data"
    }
   ],
   "source": [
    "# Visualizando essa correlação\n",
    "# plot\n",
    "fig, ax = plt.subplots()\n",
    "ax.scatter(teste2.GarageYrBlt,teste2.YearBuilt)\n",
    "plt.show()"
   ]
  },
  {
   "cell_type": "markdown",
   "id": "a629302f",
   "metadata": {},
   "source": [
    "- É possível vermos que existe relação linear entre a construção da casa e a construção da garagem, como o esperado."
   ]
  },
  {
   "cell_type": "code",
   "execution_count": 286,
   "id": "45f9a280",
   "metadata": {},
   "outputs": [
    {
     "data": {
      "text/plain": [
       "666     1910\n",
       "1116    1923\n",
       "Name: YearBuilt, dtype: int64"
      ]
     },
     "execution_count": 286,
     "metadata": {},
     "output_type": "execute_result"
    }
   ],
   "source": [
    "# Verificando os valores de construção da casa\n",
    "teste.loc[teste.GarageCond.isnull(),'YearBuilt']"
   ]
  },
  {
   "cell_type": "code",
   "execution_count": 287,
   "id": "49eab408",
   "metadata": {},
   "outputs": [],
   "source": [
    "# Substituindo as colunas vazias pelo ano de construção da casa\n",
    "teste.loc[teste.GarageCond.isnull(),'GarageYrBlt'] = teste.loc[teste.GarageCond.isnull(),'YearBuilt']"
   ]
  },
  {
   "cell_type": "markdown",
   "id": "82d4c14f",
   "metadata": {},
   "source": [
    "- E a coluna GarageFinish"
   ]
  },
  {
   "cell_type": "code",
   "execution_count": 288,
   "id": "fab9ec42",
   "metadata": {},
   "outputs": [
    {
     "data": {
      "text/plain": [
       "'Unf'"
      ]
     },
     "execution_count": 288,
     "metadata": {},
     "output_type": "execute_result"
    }
   ],
   "source": [
    "# Vamos verificar os valores quando GarageType == \"Detchd\"\n",
    "moda_garage_finish = teste.loc[(teste.GarageType=='Detchd'),'GarageFinish'].mode()[0]\n",
    "moda_garage_finish"
   ]
  },
  {
   "cell_type": "code",
   "execution_count": 289,
   "id": "41f5adf0",
   "metadata": {},
   "outputs": [],
   "source": [
    "# Podemos substituir pelo valor mais frequente\n",
    "teste.loc[(teste.GarageType=='Detchd')&(teste.GarageFinish.isnull()),'GarageFinish'] = moda_garage_finish"
   ]
  },
  {
   "cell_type": "markdown",
   "id": "c9f6a77d",
   "metadata": {},
   "source": [
    "- Fazendo o mesmo para GarageQual e GarageCond"
   ]
  },
  {
   "cell_type": "code",
   "execution_count": 290,
   "id": "384d1330",
   "metadata": {},
   "outputs": [
    {
     "data": {
      "text/plain": [
       "GarageQual  GarageCond\n",
       "TA          TA            309\n",
       "Fa          TA             38\n",
       "            Fa             19\n",
       "TA          Fa             16\n",
       "Fa          Po              3\n",
       "Gd          Ex              1\n",
       "Po          Fa              1\n",
       "            Po              1\n",
       "TA          Gd              1\n",
       "            Po              1\n",
       "dtype: int64"
      ]
     },
     "execution_count": 290,
     "metadata": {},
     "output_type": "execute_result"
    }
   ],
   "source": [
    "# Vamos verificar os valores quando GarageType == \"Detchd\"\n",
    "teste.loc[(teste.GarageType=='Detchd'),['GarageQual','GarageCond']].value_counts()"
   ]
  },
  {
   "cell_type": "code",
   "execution_count": 291,
   "id": "6efc3cda",
   "metadata": {},
   "outputs": [],
   "source": [
    "# Podemos verificar a moda dessa coluna\n",
    "moda_GarageQual = teste.loc[(teste.GarageType == 'Detchd'),'GarageQual'].mode()[0]\n",
    "moda_GarageCond = teste.loc[(teste.GarageType == 'Detchd'),'GarageCond'].mode()[0]"
   ]
  },
  {
   "cell_type": "code",
   "execution_count": 292,
   "id": "2ae27cf6",
   "metadata": {},
   "outputs": [],
   "source": [
    "# Podemos substituir pelo valor mais frequente\n",
    "teste.loc[(teste.GarageType=='Detchd')&(teste.GarageQual.isnull()),'GarageQual'] = moda_GarageQual\n",
    "teste.loc[(teste.GarageType=='Detchd')&(teste.GarageCond.isnull()),'GarageCond'] = moda_GarageCond"
   ]
  },
  {
   "cell_type": "markdown",
   "id": "6a73edd0",
   "metadata": {},
   "source": [
    "- Para finalizar as colunas de garagem, vamos tratar GarageCars e GarageArea"
   ]
  },
  {
   "cell_type": "code",
   "execution_count": 293,
   "id": "99ce4ee1",
   "metadata": {},
   "outputs": [
    {
     "data": {
      "text/plain": [
       "GarageCars      1.519182\n",
       "GarageArea    412.202046\n",
       "dtype: float64"
      ]
     },
     "execution_count": 293,
     "metadata": {},
     "output_type": "execute_result"
    }
   ],
   "source": [
    "# Agora vamos visualizar a média desses valores quando GarageType == \"Detchd\"\n",
    "media_carros=teste.loc[(teste.GarageType=='Detchd'),['GarageCars','GarageArea']].mean()\n",
    "media_carros"
   ]
  },
  {
   "cell_type": "code",
   "execution_count": 294,
   "id": "a3044c6b",
   "metadata": {},
   "outputs": [
    {
     "data": {
      "text/plain": [
       "array([  2., 412.])"
      ]
     },
     "execution_count": 294,
     "metadata": {},
     "output_type": "execute_result"
    }
   ],
   "source": [
    "# Como Não é possível ter meio carro, vamos arredondar os valores.\n",
    "media_carros=round(media_carros,0)\n",
    "media_carros.values"
   ]
  },
  {
   "cell_type": "code",
   "execution_count": 295,
   "id": "1409e0ff",
   "metadata": {},
   "outputs": [],
   "source": [
    "# Podemos usar esses valores se a média for vazia\n",
    "teste.loc[(teste.GarageType=='Detchd'),['GarageCars','GarageArea']] =media_carros.values"
   ]
  },
  {
   "cell_type": "code",
   "execution_count": 296,
   "id": "361cb670",
   "metadata": {},
   "outputs": [
    {
     "data": {
      "text/html": [
       "<div>\n",
       "<style scoped>\n",
       "    .dataframe tbody tr th:only-of-type {\n",
       "        vertical-align: middle;\n",
       "    }\n",
       "\n",
       "    .dataframe tbody tr th {\n",
       "        vertical-align: top;\n",
       "    }\n",
       "\n",
       "    .dataframe thead th {\n",
       "        text-align: right;\n",
       "    }\n",
       "</style>\n",
       "<table border=\"1\" class=\"dataframe\">\n",
       "  <thead>\n",
       "    <tr style=\"text-align: right;\">\n",
       "      <th></th>\n",
       "      <th>Functional</th>\n",
       "      <th>Fireplaces</th>\n",
       "      <th>FireplaceQu</th>\n",
       "      <th>GarageType</th>\n",
       "      <th>GarageYrBlt</th>\n",
       "      <th>GarageFinish</th>\n",
       "      <th>GarageCars</th>\n",
       "      <th>GarageArea</th>\n",
       "      <th>GarageQual</th>\n",
       "      <th>GarageCond</th>\n",
       "      <th>PavedDrive</th>\n",
       "    </tr>\n",
       "  </thead>\n",
       "  <tbody>\n",
       "    <tr>\n",
       "      <th>666</th>\n",
       "      <td>Typ</td>\n",
       "      <td>0</td>\n",
       "      <td>-1</td>\n",
       "      <td>Detchd</td>\n",
       "      <td>1910.0</td>\n",
       "      <td>Unf</td>\n",
       "      <td>2.0</td>\n",
       "      <td>412.0</td>\n",
       "      <td>TA</td>\n",
       "      <td>TA</td>\n",
       "      <td>Y</td>\n",
       "    </tr>\n",
       "    <tr>\n",
       "      <th>1116</th>\n",
       "      <td>Typ</td>\n",
       "      <td>0</td>\n",
       "      <td>-1</td>\n",
       "      <td>Detchd</td>\n",
       "      <td>1923.0</td>\n",
       "      <td>Unf</td>\n",
       "      <td>2.0</td>\n",
       "      <td>412.0</td>\n",
       "      <td>TA</td>\n",
       "      <td>TA</td>\n",
       "      <td>Y</td>\n",
       "    </tr>\n",
       "  </tbody>\n",
       "</table>\n",
       "</div>"
      ],
      "text/plain": [
       "     Functional  Fireplaces FireplaceQu GarageType  GarageYrBlt GarageFinish  \\\n",
       "666         Typ           0          -1     Detchd       1910.0          Unf   \n",
       "1116        Typ           0          -1     Detchd       1923.0          Unf   \n",
       "\n",
       "      GarageCars  GarageArea GarageQual GarageCond PavedDrive  \n",
       "666          2.0       412.0         TA         TA          Y  \n",
       "1116         2.0       412.0         TA         TA          Y  "
      ]
     },
     "execution_count": 296,
     "metadata": {},
     "output_type": "execute_result"
    }
   ],
   "source": [
    "#Visualizando os tratamentos feitos\n",
    "teste.iloc[[666,1116],55:66]"
   ]
  },
  {
   "cell_type": "code",
   "execution_count": 297,
   "id": "cb11407f",
   "metadata": {},
   "outputs": [
    {
     "data": {
      "text/plain": [
       "BsmtHalfBath     2\n",
       "BsmtFullBath     2\n",
       "MSZoning         4\n",
       "MasVnrArea      15\n",
       "MasVnrType      16\n",
       "BsmtFinType2    42\n",
       "BsmtFinType1    42\n",
       "BsmtExposure    44\n",
       "BsmtQual        44\n",
       "BsmtCond        45\n",
       "dtype: int64"
      ]
     },
     "execution_count": 297,
     "metadata": {},
     "output_type": "execute_result"
    }
   ],
   "source": [
    "# Resumindo os valores vazios da base de teste\n",
    "teste.isnull().sum().sort_values().tail(10)"
   ]
  },
  {
   "cell_type": "markdown",
   "id": "6c7d6a5e",
   "metadata": {},
   "source": [
    "<p style='text-align: right;'><a href=\"#index\">Voltar</a></p>"
   ]
  },
  {
   "cell_type": "markdown",
   "id": "64550183",
   "metadata": {},
   "source": [
    "<a id=\"porao\"></a>\n",
    "- **E fazendo a mesma coisa para as <font color='blue'>colunas de Porão</font>**\n",
    "    - **NA: No Basement**"
   ]
  },
  {
   "cell_type": "code",
   "execution_count": 298,
   "id": "17c06923",
   "metadata": {},
   "outputs": [
    {
     "data": {
      "text/plain": [
       "Index(['BsmtQual', 'BsmtCond', 'BsmtExposure', 'BsmtFinType1', 'BsmtFinType2'], dtype='object')"
      ]
     },
     "execution_count": 298,
     "metadata": {},
     "output_type": "execute_result"
    }
   ],
   "source": [
    "# Verificando as colunas que possuem porão no nome e possuem valores vazios\n",
    "col_porao=treino.columns[treino.columns.str.contains('Bsmt') & treino.isnull().any()]\n",
    "col_porao"
   ]
  },
  {
   "cell_type": "code",
   "execution_count": 299,
   "id": "cf3799d6",
   "metadata": {},
   "outputs": [
    {
     "data": {
      "text/plain": [
       "BsmtQual  BsmtCond  BsmtExposure  BsmtFinType1  BsmtFinType2\n",
       "NaN       NaN       NaN           NaN           NaN             37\n",
       "Gd        TA        No            GLQ           NaN              1\n",
       "dtype: int64"
      ]
     },
     "execution_count": 299,
     "metadata": {},
     "output_type": "execute_result"
    }
   ],
   "source": [
    "# Analisando os valores\n",
    "treino.loc[treino.BsmtFinType2.isnull(),col_porao].value_counts(dropna=False)"
   ]
  },
  {
   "cell_type": "code",
   "execution_count": 300,
   "id": "30113c85",
   "metadata": {},
   "outputs": [
    {
     "data": {
      "text/plain": [
       "BsmtFinType2  BsmtFinSF2\n",
       "NaN           0             37\n",
       "              479            1\n",
       "dtype: int64"
      ]
     },
     "execution_count": 300,
     "metadata": {},
     "output_type": "execute_result"
    }
   ],
   "source": [
    "treino.loc[treino.BsmtFinType2.isnull(),['BsmtFinType2','BsmtFinSF2']].value_counts(dropna=False)"
   ]
  },
  {
   "cell_type": "markdown",
   "id": "dba39409",
   "metadata": {},
   "source": [
    "- Primeiro tratando o valor BsmtFinType2"
   ]
  },
  {
   "cell_type": "code",
   "execution_count": 301,
   "id": "acb5c310",
   "metadata": {},
   "outputs": [
    {
     "name": "stdout",
     "output_type": "stream",
     "text": [
      "Unf\n"
     ]
    }
   ],
   "source": [
    "# Verificando os dados na mesma condição e substituindo esse valor da moda\n",
    "moda_BsmtFinType2 = treino.BsmtFinType2.mode()[0]\n",
    "print(moda_BsmtFinType2)\n",
    "treino.loc[(treino.BsmtFinType2.isnull()) & (treino.BsmtFinSF2 != 0),['BsmtFinType2','BsmtFinSF2']] = moda_BsmtFinType2"
   ]
  },
  {
   "cell_type": "markdown",
   "id": "057d30f9",
   "metadata": {},
   "source": [
    "- Agora considerando as colunas que BsmtQual e BsmtCond são vazias"
   ]
  },
  {
   "cell_type": "code",
   "execution_count": 302,
   "id": "0b7acabc",
   "metadata": {},
   "outputs": [],
   "source": [
    "# Verificando os valores com BsmtQual vazio\n",
    "treino.loc[treino.BsmtQual.isnull(),col_porao].value_counts(dropna=False)\n",
    "treino.loc[treino.BsmtQual.isnull(),col_porao] = -1"
   ]
  },
  {
   "cell_type": "code",
   "execution_count": 303,
   "id": "04b19280",
   "metadata": {},
   "outputs": [
    {
     "data": {
      "text/plain": [
       "MasVnrType      8\n",
       "MasVnrArea      8\n",
       "BsmtExposure    1\n",
       "Electrical      1\n",
       "KitchenAbvGr    0\n",
       "dtype: int64"
      ]
     },
     "execution_count": 303,
     "metadata": {},
     "output_type": "execute_result"
    }
   ],
   "source": [
    "# Visualizando as colunas que ainda estão com valores vazios\n",
    "treino.isnull().sum().sort_values(ascending=False).head(5)"
   ]
  },
  {
   "cell_type": "markdown",
   "id": "1d9274d3",
   "metadata": {},
   "source": [
    "- E agora analisando o BsmtExposure"
   ]
  },
  {
   "cell_type": "code",
   "execution_count": 304,
   "id": "0324f6c8",
   "metadata": {},
   "outputs": [
    {
     "data": {
      "text/plain": [
       "No    953\n",
       "Av    221\n",
       "Gd    134\n",
       "Mn    114\n",
       "-1     37\n",
       "Name: BsmtExposure, dtype: int64"
      ]
     },
     "execution_count": 304,
     "metadata": {},
     "output_type": "execute_result"
    }
   ],
   "source": [
    "# Analisando os valores\n",
    "treino.BsmtExposure.value_counts()"
   ]
  },
  {
   "cell_type": "code",
   "execution_count": 305,
   "id": "18087fcc",
   "metadata": {},
   "outputs": [],
   "source": [
    "# E novamente podemos ver o valor mais frequente\n",
    "moda_BsmtExposure = treino.BsmtExposure.mode()[0]\n",
    "treino.loc[treino.BsmtExposure.isnull(),'BsmtExposure'] = moda_BsmtExposure"
   ]
  },
  {
   "cell_type": "markdown",
   "id": "edf90ed1",
   "metadata": {},
   "source": [
    "- O mesmo para **<font color='blue'>teste</font>**"
   ]
  },
  {
   "cell_type": "markdown",
   "id": "0082bbee",
   "metadata": {},
   "source": [
    "- Começando a tratar a coluna BsmtQual"
   ]
  },
  {
   "cell_type": "code",
   "execution_count": 306,
   "id": "884fffe8",
   "metadata": {},
   "outputs": [
    {
     "data": {
      "text/plain": [
       "BsmtQual  BsmtCond  BsmtExposure  BsmtFinType1  BsmtFinSF1  BsmtFinType2  BsmtFinSF2  BsmtUnfSF  TotalBsmtSF  BsmtFullBath  BsmtHalfBath\n",
       "NaN       NaN       NaN           NaN           0.0         NaN           0.0         0.0        0.0          0.0           0.0             40\n",
       "          Fa        No            Unf           0.0         Unf           0.0         173.0      173.0        0.0           0.0              1\n",
       "          TA        No            Unf           0.0         Unf           0.0         356.0      356.0        0.0           0.0              1\n",
       "          NaN       NaN           NaN           0.0         NaN           0.0         0.0        0.0          NaN           NaN              1\n",
       "                                                NaN         NaN           NaN         NaN        NaN          NaN           NaN              1\n",
       "dtype: int64"
      ]
     },
     "execution_count": 306,
     "metadata": {},
     "output_type": "execute_result"
    }
   ],
   "source": [
    "# Analisando essas linhas\n",
    "col_porao_teste = teste.columns[teste.columns.str.contains(\"Bsmt\") & (teste.isnull().any())]\n",
    "teste.loc[teste.BsmtQual.isnull(),col_porao_teste].value_counts(dropna=False)"
   ]
  },
  {
   "cell_type": "code",
   "execution_count": 307,
   "id": "adf22264",
   "metadata": {},
   "outputs": [],
   "source": [
    "# Podemos atribuir o valor da moda igual fizemos nas colunas acima\n",
    "teste.loc[(teste.BsmtQual.isnull()) & (teste.BsmtCond.notnull()),'BsmtQual'] = teste.BsmtQual.mode()[0]"
   ]
  },
  {
   "cell_type": "code",
   "execution_count": 308,
   "id": "3813d469",
   "metadata": {},
   "outputs": [
    {
     "data": {
      "text/html": [
       "<div>\n",
       "<style scoped>\n",
       "    .dataframe tbody tr th:only-of-type {\n",
       "        vertical-align: middle;\n",
       "    }\n",
       "\n",
       "    .dataframe tbody tr th {\n",
       "        vertical-align: top;\n",
       "    }\n",
       "\n",
       "    .dataframe thead th {\n",
       "        text-align: right;\n",
       "    }\n",
       "</style>\n",
       "<table border=\"1\" class=\"dataframe\">\n",
       "  <thead>\n",
       "    <tr style=\"text-align: right;\">\n",
       "      <th></th>\n",
       "      <th>BsmtQual</th>\n",
       "      <th>BsmtCond</th>\n",
       "      <th>BsmtExposure</th>\n",
       "      <th>BsmtFinType1</th>\n",
       "      <th>BsmtFinSF1</th>\n",
       "      <th>BsmtFinType2</th>\n",
       "      <th>BsmtFinSF2</th>\n",
       "      <th>BsmtUnfSF</th>\n",
       "      <th>TotalBsmtSF</th>\n",
       "      <th>Heating</th>\n",
       "    </tr>\n",
       "  </thead>\n",
       "  <tbody>\n",
       "    <tr>\n",
       "      <th>757</th>\n",
       "      <td>TA</td>\n",
       "      <td>Fa</td>\n",
       "      <td>No</td>\n",
       "      <td>Unf</td>\n",
       "      <td>0.0</td>\n",
       "      <td>Unf</td>\n",
       "      <td>0.0</td>\n",
       "      <td>173.0</td>\n",
       "      <td>173.0</td>\n",
       "      <td>GasA</td>\n",
       "    </tr>\n",
       "    <tr>\n",
       "      <th>758</th>\n",
       "      <td>TA</td>\n",
       "      <td>TA</td>\n",
       "      <td>No</td>\n",
       "      <td>Unf</td>\n",
       "      <td>0.0</td>\n",
       "      <td>Unf</td>\n",
       "      <td>0.0</td>\n",
       "      <td>356.0</td>\n",
       "      <td>356.0</td>\n",
       "      <td>GasA</td>\n",
       "    </tr>\n",
       "  </tbody>\n",
       "</table>\n",
       "</div>"
      ],
      "text/plain": [
       "    BsmtQual BsmtCond BsmtExposure BsmtFinType1  BsmtFinSF1 BsmtFinType2  \\\n",
       "757       TA       Fa           No          Unf         0.0          Unf   \n",
       "758       TA       TA           No          Unf         0.0          Unf   \n",
       "\n",
       "     BsmtFinSF2  BsmtUnfSF  TotalBsmtSF Heating  \n",
       "757         0.0      173.0        173.0    GasA  \n",
       "758         0.0      356.0        356.0    GasA  "
      ]
     },
     "execution_count": 308,
     "metadata": {},
     "output_type": "execute_result"
    }
   ],
   "source": [
    "# Visualizando essas linhas\n",
    "teste.iloc[757:759,30:40]"
   ]
  },
  {
   "cell_type": "markdown",
   "id": "3e7c19ad",
   "metadata": {},
   "source": [
    "- Agora tratando as outras colunas"
   ]
  },
  {
   "cell_type": "code",
   "execution_count": 309,
   "id": "64aeba40",
   "metadata": {},
   "outputs": [
    {
     "data": {
      "text/plain": [
       "BsmtQual  BsmtCond  BsmtExposure  BsmtFinType1  BsmtFinSF1  BsmtFinType2  BsmtFinSF2  BsmtUnfSF  TotalBsmtSF  BsmtFullBath  BsmtHalfBath\n",
       "NaN       NaN       NaN           NaN           0.0         NaN           0.0         0.0        0.0          0.0           0.0             40\n",
       "                                                                                                              NaN           NaN              1\n",
       "                                                NaN         NaN           NaN         NaN        NaN          NaN           NaN              1\n",
       "dtype: int64"
      ]
     },
     "execution_count": 309,
     "metadata": {},
     "output_type": "execute_result"
    }
   ],
   "source": [
    "# Visualizando\n",
    "teste.loc[teste.BsmtQual.isnull(),col_porao_teste].value_counts(dropna=False)"
   ]
  },
  {
   "cell_type": "code",
   "execution_count": 310,
   "id": "8a488d64",
   "metadata": {},
   "outputs": [],
   "source": [
    "# Substituindo por -1 se as duas condições forem verdadeiras\n",
    "teste.loc[teste.BsmtQual.isnull(),['BsmtFinSF1','BsmtFinSF2','BsmtUnfSF','TotalBsmtSF','BsmtFullBath','BsmtHalfBath']] = 0\n",
    "teste.loc[teste.BsmtQual.isnull(),['BsmtQual','BsmtCond','BsmtExposure','BsmtFinType1','BsmtFinType2']] = -1"
   ]
  },
  {
   "cell_type": "code",
   "execution_count": 311,
   "id": "37d96e64",
   "metadata": {},
   "outputs": [
    {
     "data": {
      "text/plain": [
       "Series([], dtype: int64)"
      ]
     },
     "execution_count": 311,
     "metadata": {},
     "output_type": "execute_result"
    }
   ],
   "source": [
    "teste.loc[teste.BsmtQual.isnull(),col_porao_teste].value_counts(dropna=False)"
   ]
  },
  {
   "cell_type": "code",
   "execution_count": 312,
   "id": "5472146b",
   "metadata": {},
   "outputs": [
    {
     "data": {
      "text/plain": [
       "MasVnrType      16\n",
       "MasVnrArea      15\n",
       "MSZoning         4\n",
       "BsmtCond         3\n",
       "Utilities        2\n",
       "BsmtExposure     2\n",
       "Functional       2\n",
       "KitchenQual      1\n",
       "Exterior2nd      1\n",
       "Exterior1st      1\n",
       "dtype: int64"
      ]
     },
     "execution_count": 312,
     "metadata": {},
     "output_type": "execute_result"
    }
   ],
   "source": [
    "teste.isnull().sum().sort_values(ascending=False).head(10)"
   ]
  },
  {
   "cell_type": "markdown",
   "id": "4deaa428",
   "metadata": {},
   "source": [
    "- Analisando o restante das colunas de porão"
   ]
  },
  {
   "cell_type": "code",
   "execution_count": 313,
   "id": "ca7b2c09",
   "metadata": {},
   "outputs": [
    {
     "data": {
      "text/plain": [
       "MasVnrType      16\n",
       "MasVnrArea      15\n",
       "MSZoning         4\n",
       "BsmtCond         3\n",
       "Utilities        2\n",
       "BsmtExposure     2\n",
       "Functional       2\n",
       "KitchenQual      1\n",
       "Exterior2nd      1\n",
       "Exterior1st      1\n",
       "dtype: int64"
      ]
     },
     "execution_count": 313,
     "metadata": {},
     "output_type": "execute_result"
    }
   ],
   "source": [
    "# Selecionando TODAS as colunas de porão\n",
    "teste.isnull().sum().sort_values(ascending=False).head(10)"
   ]
  },
  {
   "cell_type": "markdown",
   "id": "f1251ff0",
   "metadata": {},
   "source": [
    "- E começando por BsmtCond"
   ]
  },
  {
   "cell_type": "code",
   "execution_count": 314,
   "id": "7735d4fd",
   "metadata": {},
   "outputs": [
    {
     "data": {
      "text/plain": [
       "BsmtQual  BsmtCond  BsmtExposure  BsmtFinType1  BsmtFinSF1  BsmtFinType2  BsmtFinSF2  BsmtUnfSF  TotalBsmtSF  BsmtFullBath  BsmtHalfBath\n",
       "Gd        NaN       Mn            GLQ           1044.0      Rec           382.0       0.0        1426.0       1.0           0.0             1\n",
       "TA        NaN       Av            ALQ           755.0       Unf           0.0         240.0      995.0        0.0           0.0             1\n",
       "                    No            BLQ           1033.0      Unf           0.0         94.0       1127.0       0.0           1.0             1\n",
       "dtype: int64"
      ]
     },
     "execution_count": 314,
     "metadata": {},
     "output_type": "execute_result"
    }
   ],
   "source": [
    "# E visualizando BsmtCond na base\n",
    "teste.loc[teste.BsmtCond.isnull(),col_porao_teste].value_counts(dropna=False)"
   ]
  },
  {
   "cell_type": "code",
   "execution_count": 315,
   "id": "f5754e5a",
   "metadata": {},
   "outputs": [],
   "source": [
    "# Podemos usar a moda para substituir o valor\n",
    "teste.loc[teste.BsmtCond.isnull(),'BsmtCond'] = teste.BsmtCond.mode()[0]"
   ]
  },
  {
   "cell_type": "markdown",
   "id": "01605cc8",
   "metadata": {},
   "source": [
    "- Verificando BsmtHalfBath e BsmtFullBath"
   ]
  },
  {
   "cell_type": "code",
   "execution_count": 316,
   "id": "158da8c2",
   "metadata": {},
   "outputs": [
    {
     "data": {
      "text/plain": [
       "BsmtQual  BsmtCond  BsmtExposure  BsmtFinType1  BsmtFinSF1  BsmtFinType2  BsmtFinSF2  BsmtUnfSF  TotalBsmtSF  BsmtFullBath  BsmtHalfBath\n",
       "Gd        TA        NaN           Unf           0.0         Unf           0.0         725.0      725.0        0.0           0.0             1\n",
       "                                                                                      1595.0     1595.0       0.0           0.0             1\n",
       "dtype: int64"
      ]
     },
     "execution_count": 316,
     "metadata": {},
     "output_type": "execute_result"
    }
   ],
   "source": [
    "# Visualizando os valores\n",
    "teste.loc[teste.BsmtExposure.isnull(),col_porao_teste].value_counts(dropna=False)"
   ]
  },
  {
   "cell_type": "code",
   "execution_count": 317,
   "id": "f0be6c8b",
   "metadata": {},
   "outputs": [],
   "source": [
    "teste.loc[teste.BsmtCond.isnull(),'BsmtCond'] = teste.BsmtCond.mode()[0]"
   ]
  },
  {
   "cell_type": "code",
   "execution_count": 318,
   "id": "79e9c45f",
   "metadata": {},
   "outputs": [],
   "source": [
    "teste.loc[teste.BsmtExposure.isnull(),'BsmtExposure']=teste.BsmtExposure.mode()[0]"
   ]
  },
  {
   "cell_type": "markdown",
   "id": "71bc9994",
   "metadata": {},
   "source": [
    "- **Voltando para os valores nulos**"
   ]
  },
  {
   "cell_type": "code",
   "execution_count": 319,
   "id": "ef8d57c1",
   "metadata": {
    "scrolled": true
   },
   "outputs": [
    {
     "data": {
      "text/plain": [
       "MasVnrType      8\n",
       "MasVnrArea      8\n",
       "Electrical      1\n",
       "KitchenQual     0\n",
       "GarageYrBlt     0\n",
       "GarageType      0\n",
       "FireplaceQu     0\n",
       "Fireplaces      0\n",
       "Functional      0\n",
       "TotRmsAbvGrd    0\n",
       "dtype: int64"
      ]
     },
     "execution_count": 319,
     "metadata": {},
     "output_type": "execute_result"
    }
   ],
   "source": [
    "# Verificando a quantidade de valores na base de treino\n",
    "treino.isnull().sum().sort_values(ascending=False).head(10)"
   ]
  },
  {
   "cell_type": "markdown",
   "id": "7b2a2a58",
   "metadata": {},
   "source": [
    "<a id=\"restante\"></a>\n",
    "- Ainda Faltam 3 colunas:\n",
    "    - **<font color='blue'>MasVnrType</font>**: Tipo de cobertura de alvenaria\n",
    "        - **None: None**\n",
    "    - **<font color='blue'>MasVnrArea</font>**: Área de cobertura de alvenaria em pés quadrados\n",
    "        - **None: None**\n",
    "    - **<font color='blue'>Electrical system</font>**: Sistema elétrico"
   ]
  },
  {
   "cell_type": "code",
   "execution_count": 320,
   "id": "db009a64",
   "metadata": {},
   "outputs": [
    {
     "data": {
      "text/html": [
       "<div>\n",
       "<style scoped>\n",
       "    .dataframe tbody tr th:only-of-type {\n",
       "        vertical-align: middle;\n",
       "    }\n",
       "\n",
       "    .dataframe tbody tr th {\n",
       "        vertical-align: top;\n",
       "    }\n",
       "\n",
       "    .dataframe thead th {\n",
       "        text-align: right;\n",
       "    }\n",
       "</style>\n",
       "<table border=\"1\" class=\"dataframe\">\n",
       "  <thead>\n",
       "    <tr style=\"text-align: right;\">\n",
       "      <th></th>\n",
       "      <th>MasVnrType</th>\n",
       "      <th>MasVnrArea</th>\n",
       "    </tr>\n",
       "  </thead>\n",
       "  <tbody>\n",
       "    <tr>\n",
       "      <th>234</th>\n",
       "      <td>NaN</td>\n",
       "      <td>NaN</td>\n",
       "    </tr>\n",
       "    <tr>\n",
       "      <th>529</th>\n",
       "      <td>NaN</td>\n",
       "      <td>NaN</td>\n",
       "    </tr>\n",
       "    <tr>\n",
       "      <th>650</th>\n",
       "      <td>NaN</td>\n",
       "      <td>NaN</td>\n",
       "    </tr>\n",
       "    <tr>\n",
       "      <th>936</th>\n",
       "      <td>NaN</td>\n",
       "      <td>NaN</td>\n",
       "    </tr>\n",
       "    <tr>\n",
       "      <th>973</th>\n",
       "      <td>NaN</td>\n",
       "      <td>NaN</td>\n",
       "    </tr>\n",
       "    <tr>\n",
       "      <th>977</th>\n",
       "      <td>NaN</td>\n",
       "      <td>NaN</td>\n",
       "    </tr>\n",
       "    <tr>\n",
       "      <th>1243</th>\n",
       "      <td>NaN</td>\n",
       "      <td>NaN</td>\n",
       "    </tr>\n",
       "    <tr>\n",
       "      <th>1278</th>\n",
       "      <td>NaN</td>\n",
       "      <td>NaN</td>\n",
       "    </tr>\n",
       "  </tbody>\n",
       "</table>\n",
       "</div>"
      ],
      "text/plain": [
       "     MasVnrType  MasVnrArea\n",
       "234         NaN         NaN\n",
       "529         NaN         NaN\n",
       "650         NaN         NaN\n",
       "936         NaN         NaN\n",
       "973         NaN         NaN\n",
       "977         NaN         NaN\n",
       "1243        NaN         NaN\n",
       "1278        NaN         NaN"
      ]
     },
     "execution_count": 320,
     "metadata": {},
     "output_type": "execute_result"
    }
   ],
   "source": [
    "# Verificando os valores vazios nas duas primeiras colunas\n",
    "treino.loc[treino.MasVnrType.isnull(),['MasVnrType','MasVnrArea']]"
   ]
  },
  {
   "cell_type": "code",
   "execution_count": 321,
   "id": "1239c38a",
   "metadata": {},
   "outputs": [],
   "source": [
    "# Utilizando a moda para o valor dessa coluna\n",
    "treino.loc[treino.MasVnrType.isnull(),'MasVnrType']=treino.MasVnrType.mode()[0]"
   ]
  },
  {
   "cell_type": "code",
   "execution_count": 322,
   "id": "451e1d1f",
   "metadata": {},
   "outputs": [
    {
     "data": {
      "text/plain": [
       "0.0      859\n",
       "1.0        2\n",
       "288.0      1\n",
       "344.0      1\n",
       "312.0      1\n",
       "Name: MasVnrArea, dtype: int64"
      ]
     },
     "execution_count": 322,
     "metadata": {},
     "output_type": "execute_result"
    }
   ],
   "source": [
    "# Verificando os valores onde MasVnrType são \"None\"\n",
    "treino.loc[treino.MasVnrType=='None','MasVnrArea'].value_counts()"
   ]
  },
  {
   "cell_type": "code",
   "execution_count": 323,
   "id": "162729ec",
   "metadata": {},
   "outputs": [],
   "source": [
    "# E como, para MasVnrType igual a None temos que MasVnrArea é zero\n",
    "treino.loc[treino.MasVnrArea.isnull(),'MasVnrArea']=treino.MasVnrArea.mode()[0]"
   ]
  },
  {
   "cell_type": "markdown",
   "id": "2272477b",
   "metadata": {},
   "source": [
    "- **Avaliando a coluna de sistema elétrico**"
   ]
  },
  {
   "cell_type": "code",
   "execution_count": 324,
   "id": "0b2bc352",
   "metadata": {},
   "outputs": [
    {
     "data": {
      "text/plain": [
       "SBrkr    1334\n",
       "FuseA      94\n",
       "FuseF      27\n",
       "FuseP       3\n",
       "Mix         1\n",
       "Name: Electrical, dtype: int64"
      ]
     },
     "execution_count": 324,
     "metadata": {},
     "output_type": "execute_result"
    }
   ],
   "source": [
    "# Visualizando os valores em sistema elétrico\n",
    "treino.Electrical.value_counts()"
   ]
  },
  {
   "cell_type": "code",
   "execution_count": 325,
   "id": "1bc420d3",
   "metadata": {},
   "outputs": [],
   "source": [
    "# Considerando esse valor como SBrkr\n",
    "treino.loc[treino.Electrical.isnull(),'Electrical']=treino.Electrical.mode()[0]"
   ]
  },
  {
   "cell_type": "code",
   "execution_count": 326,
   "id": "e7bf67d5",
   "metadata": {},
   "outputs": [
    {
     "data": {
      "text/plain": [
       "Id             0\n",
       "CentralAir     0\n",
       "GarageYrBlt    0\n",
       "dtype: int64"
      ]
     },
     "execution_count": 326,
     "metadata": {},
     "output_type": "execute_result"
    }
   ],
   "source": [
    "# Verificando valores vazios\n",
    "treino.isnull().sum().sort_values(ascending=False).head(3)"
   ]
  },
  {
   "cell_type": "markdown",
   "id": "e7839e68",
   "metadata": {},
   "source": [
    "- Por fim, conseguimos tratar toda base de treino"
   ]
  },
  {
   "cell_type": "markdown",
   "id": "2b30f723",
   "metadata": {},
   "source": [
    "- Para a **<font color='blue'>base de teste</font>**"
   ]
  },
  {
   "cell_type": "code",
   "execution_count": 327,
   "id": "b35f604c",
   "metadata": {},
   "outputs": [
    {
     "data": {
      "text/plain": [
       "MasVnrType      16\n",
       "MasVnrArea      15\n",
       "MSZoning         4\n",
       "Utilities        2\n",
       "Functional       2\n",
       "Exterior2nd      1\n",
       "SaleType         1\n",
       "Exterior1st      1\n",
       "KitchenQual      1\n",
       "TotRmsAbvGrd     0\n",
       "dtype: int64"
      ]
     },
     "execution_count": 327,
     "metadata": {},
     "output_type": "execute_result"
    }
   ],
   "source": [
    "# Verificando os valores vazios nas duas primeiras colunas\n",
    "teste.isnull().sum().sort_values(ascending=False).head(10)"
   ]
  },
  {
   "cell_type": "markdown",
   "id": "2d299472",
   "metadata": {},
   "source": [
    "- Na base de teste temos outras colunas para tratar.\n",
    "- Vamos primeiro tratar o valor que possui MasVnrArea mas MasVnrType é vazio, utilizando os mesmos tratamentos."
   ]
  },
  {
   "cell_type": "code",
   "execution_count": 328,
   "id": "7f70f012",
   "metadata": {},
   "outputs": [
    {
     "data": {
      "text/html": [
       "<div>\n",
       "<style scoped>\n",
       "    .dataframe tbody tr th:only-of-type {\n",
       "        vertical-align: middle;\n",
       "    }\n",
       "\n",
       "    .dataframe tbody tr th {\n",
       "        vertical-align: top;\n",
       "    }\n",
       "\n",
       "    .dataframe thead th {\n",
       "        text-align: right;\n",
       "    }\n",
       "</style>\n",
       "<table border=\"1\" class=\"dataframe\">\n",
       "  <thead>\n",
       "    <tr style=\"text-align: right;\">\n",
       "      <th></th>\n",
       "      <th>MasVnrType</th>\n",
       "      <th>MasVnrArea</th>\n",
       "    </tr>\n",
       "  </thead>\n",
       "  <tbody>\n",
       "    <tr>\n",
       "      <th>231</th>\n",
       "      <td>NaN</td>\n",
       "      <td>NaN</td>\n",
       "    </tr>\n",
       "    <tr>\n",
       "      <th>246</th>\n",
       "      <td>NaN</td>\n",
       "      <td>NaN</td>\n",
       "    </tr>\n",
       "    <tr>\n",
       "      <th>422</th>\n",
       "      <td>NaN</td>\n",
       "      <td>NaN</td>\n",
       "    </tr>\n",
       "    <tr>\n",
       "      <th>532</th>\n",
       "      <td>NaN</td>\n",
       "      <td>NaN</td>\n",
       "    </tr>\n",
       "    <tr>\n",
       "      <th>544</th>\n",
       "      <td>NaN</td>\n",
       "      <td>NaN</td>\n",
       "    </tr>\n",
       "    <tr>\n",
       "      <th>581</th>\n",
       "      <td>NaN</td>\n",
       "      <td>NaN</td>\n",
       "    </tr>\n",
       "    <tr>\n",
       "      <th>851</th>\n",
       "      <td>NaN</td>\n",
       "      <td>NaN</td>\n",
       "    </tr>\n",
       "    <tr>\n",
       "      <th>865</th>\n",
       "      <td>NaN</td>\n",
       "      <td>NaN</td>\n",
       "    </tr>\n",
       "    <tr>\n",
       "      <th>880</th>\n",
       "      <td>NaN</td>\n",
       "      <td>NaN</td>\n",
       "    </tr>\n",
       "    <tr>\n",
       "      <th>889</th>\n",
       "      <td>NaN</td>\n",
       "      <td>NaN</td>\n",
       "    </tr>\n",
       "    <tr>\n",
       "      <th>908</th>\n",
       "      <td>NaN</td>\n",
       "      <td>NaN</td>\n",
       "    </tr>\n",
       "    <tr>\n",
       "      <th>1132</th>\n",
       "      <td>NaN</td>\n",
       "      <td>NaN</td>\n",
       "    </tr>\n",
       "    <tr>\n",
       "      <th>1150</th>\n",
       "      <td>NaN</td>\n",
       "      <td>198.0</td>\n",
       "    </tr>\n",
       "    <tr>\n",
       "      <th>1197</th>\n",
       "      <td>NaN</td>\n",
       "      <td>NaN</td>\n",
       "    </tr>\n",
       "    <tr>\n",
       "      <th>1226</th>\n",
       "      <td>NaN</td>\n",
       "      <td>NaN</td>\n",
       "    </tr>\n",
       "    <tr>\n",
       "      <th>1402</th>\n",
       "      <td>NaN</td>\n",
       "      <td>NaN</td>\n",
       "    </tr>\n",
       "  </tbody>\n",
       "</table>\n",
       "</div>"
      ],
      "text/plain": [
       "     MasVnrType  MasVnrArea\n",
       "231         NaN         NaN\n",
       "246         NaN         NaN\n",
       "422         NaN         NaN\n",
       "532         NaN         NaN\n",
       "544         NaN         NaN\n",
       "581         NaN         NaN\n",
       "851         NaN         NaN\n",
       "865         NaN         NaN\n",
       "880         NaN         NaN\n",
       "889         NaN         NaN\n",
       "908         NaN         NaN\n",
       "1132        NaN         NaN\n",
       "1150        NaN       198.0\n",
       "1197        NaN         NaN\n",
       "1226        NaN         NaN\n",
       "1402        NaN         NaN"
      ]
     },
     "execution_count": 328,
     "metadata": {},
     "output_type": "execute_result"
    }
   ],
   "source": [
    "# Verificando os valores mais frequentes de MasVnrType\n",
    "teste.loc[teste.MasVnrType.isnull(),['MasVnrType','MasVnrArea']]"
   ]
  },
  {
   "cell_type": "markdown",
   "id": "16ba3f46",
   "metadata": {},
   "source": [
    "- Na linha 1150 'MasVnrArea' possui área, mas não 'MasVnrType' o que pode indicar um erro na importação da base"
   ]
  },
  {
   "cell_type": "code",
   "execution_count": 329,
   "id": "14035b90",
   "metadata": {},
   "outputs": [],
   "source": [
    "#teste.loc[teste.MasVnrType>0,'MasVnrType']\n",
    "teste.loc[(teste.MasVnrType.isnull())& (teste.MasVnrArea >0),'MasVnrType'] =teste[teste.MasVnrArea>0].MasVnrType.mode()[0]"
   ]
  },
  {
   "cell_type": "markdown",
   "id": "090edc18",
   "metadata": {},
   "source": [
    "- Agora para todos os outros valores, vamos fazer o mesmo que fizemos para a base de treino"
   ]
  },
  {
   "cell_type": "code",
   "execution_count": 330,
   "id": "6074cbd7",
   "metadata": {},
   "outputs": [
    {
     "name": "stdout",
     "output_type": "stream",
     "text": [
      "None\n",
      "0.0\n"
     ]
    }
   ],
   "source": [
    "# Visualizando a moda\n",
    "print(treino.MasVnrType.mode()[0])\n",
    "print(treino.MasVnrArea.mode()[0])"
   ]
  },
  {
   "cell_type": "code",
   "execution_count": 331,
   "id": "9ac4dc95",
   "metadata": {},
   "outputs": [],
   "source": [
    "# E como, para MasVnrType igual a None temos que MasVnrArea é zero\n",
    "teste.loc[teste.MasVnrType.isnull(),['MasVnrType']]=treino.MasVnrType.mode()[0]\n",
    "teste.loc[teste.MasVnrArea.isnull(),['MasVnrArea']]=treino.MasVnrArea.mode()[0]"
   ]
  },
  {
   "cell_type": "code",
   "execution_count": 332,
   "id": "5e7df394",
   "metadata": {},
   "outputs": [
    {
     "data": {
      "text/plain": [
       "MSZoning        4\n",
       "Functional      2\n",
       "Utilities       2\n",
       "Exterior2nd     1\n",
       "SaleType        1\n",
       "Exterior1st     1\n",
       "KitchenQual     1\n",
       "KitchenAbvGr    0\n",
       "GarageYrBlt     0\n",
       "dtype: int64"
      ]
     },
     "execution_count": 332,
     "metadata": {},
     "output_type": "execute_result"
    }
   ],
   "source": [
    "# Verificando valores vazios\n",
    "teste.isnull().sum().sort_values(ascending=False).head(8)"
   ]
  },
  {
   "cell_type": "markdown",
   "id": "65da8dae",
   "metadata": {},
   "source": [
    "<p style='text-align: right;'><a href=\"#index\">Voltar</a></p>"
   ]
  },
  {
   "cell_type": "markdown",
   "id": "fc233397",
   "metadata": {},
   "source": [
    "<a id='restante_teste'></a>\n",
    "- **Analisando o restante da base de teste**\n",
    "- **Entendendo essas colunas**\n",
    "    - **<font color='blue'>MSZoning</font>**: Região onde fica a casa\n",
    "        - NA: A informação não foi adicionada na base (ausência de informação)\n",
    "    - **<font color='blue'>Functional</font>**: Funcionalidades da casa\n",
    "        - NA: A informação não foi adicionada na base (ausência de informação)\n",
    "    - **<font color='blue'>Utilities</font>**: Utilidades disponíveis\n",
    "        - NA: A informação não foi adicionada na base (ausência de informação)\n",
    "    - ..."
   ]
  },
  {
   "cell_type": "code",
   "execution_count": 333,
   "id": "89c7bfe6",
   "metadata": {},
   "outputs": [
    {
     "name": "stdout",
     "output_type": "stream",
     "text": [
      "RL         1114\n",
      "RM          242\n",
      "FV           74\n",
      "C (all)      15\n",
      "RH           10\n",
      "Name: MSZoning, dtype: int64\n"
     ]
    }
   ],
   "source": [
    "# Verificando os valores em MSZoning\n",
    "print(teste.MSZoning.value_counts())\n",
    "teste.loc[teste.MSZoning.isnull(),'MSZoning']=teste.MSZoning.mode()[0]"
   ]
  },
  {
   "cell_type": "code",
   "execution_count": 334,
   "id": "e3076eba",
   "metadata": {},
   "outputs": [
    {
     "name": "stdout",
     "output_type": "stream",
     "text": [
      "AllPub    1457\n",
      "Name: Utilities, dtype: int64\n"
     ]
    }
   ],
   "source": [
    "# Verificando os valores em Utilities\n",
    "print(teste.Utilities.value_counts())\n",
    "teste.loc[teste.Utilities.isnull(),'Utilities']=teste.Utilities.mode()[0]"
   ]
  },
  {
   "cell_type": "code",
   "execution_count": 335,
   "id": "efe3ed1f",
   "metadata": {},
   "outputs": [
    {
     "name": "stdout",
     "output_type": "stream",
     "text": [
      "Typ     1357\n",
      "Min2      36\n",
      "Min1      34\n",
      "Mod       20\n",
      "Maj1       5\n",
      "Maj2       4\n",
      "Sev        1\n",
      "Name: Functional, dtype: int64\n"
     ]
    }
   ],
   "source": [
    "# Verificando os valores em Functional\n",
    "print(teste.Functional.value_counts())\n",
    "teste.loc[teste.Functional.isnull(),'Functional']=teste.Functional.mode()[0]"
   ]
  },
  {
   "cell_type": "code",
   "execution_count": 336,
   "id": "17793c3b",
   "metadata": {},
   "outputs": [
    {
     "data": {
      "text/plain": [
       "SaleType       1\n",
       "Exterior1st    1\n",
       "Exterior2nd    1\n",
       "KitchenQual    1\n",
       "Id             0\n",
       "dtype: int64"
      ]
     },
     "execution_count": 336,
     "metadata": {},
     "output_type": "execute_result"
    }
   ],
   "source": [
    "# Visualizando as ultimas colunas\n",
    "teste.isnull().sum().sort_values(ascending=False).head(5)"
   ]
  },
  {
   "cell_type": "code",
   "execution_count": 338,
   "id": "0ff9c442",
   "metadata": {},
   "outputs": [
    {
     "name": "stdout",
     "output_type": "stream",
     "text": [
      "WD\n",
      "VinylSd\n",
      "VinylSd\n",
      "TA\n"
     ]
    }
   ],
   "source": [
    "# E substituindo esses valores\n",
    "print(teste.SaleType.mode()[0])\n",
    "teste.loc[teste.SaleType.isnull(),'SaleType']=teste.SaleType.mode()[0]\n",
    "print(teste.Exterior1st.mode()[0])\n",
    "teste.loc[teste.Exterior1st.isnull(),'Exterior1st']=teste.Exterior1st.mode()[0]\n",
    "print(teste.Exterior2nd.mode()[0])\n",
    "teste.loc[teste.Exterior2nd.isnull(),'Exterior2nd']=teste.Exterior2nd.mode()[0]\n",
    "print(teste.KitchenQual.mode()[0])\n",
    "teste.loc[teste.KitchenQual.isnull(),'KitchenQual']=teste.KitchenQual.mode()[0]"
   ]
  },
  {
   "cell_type": "code",
   "execution_count": 339,
   "id": "bb4239b7",
   "metadata": {},
   "outputs": [
    {
     "data": {
      "text/plain": [
       "Id            0\n",
       "MSSubClass    0\n",
       "GarageType    0\n",
       "dtype: int64"
      ]
     },
     "execution_count": 339,
     "metadata": {},
     "output_type": "execute_result"
    }
   ],
   "source": [
    "# Verificando valores vazios\n",
    "teste.isnull().sum().sort_values(ascending=False).head(3)"
   ]
  },
  {
   "cell_type": "markdown",
   "id": "26491179",
   "metadata": {},
   "source": [
    "- **Para finalizar, vamos exportar essas duas bases**"
   ]
  },
  {
   "cell_type": "code",
   "execution_count": 340,
   "id": "1d3df8f8",
   "metadata": {},
   "outputs": [],
   "source": [
    "# Exportando a base de treino e teste\n",
    "treino.to_csv('train_cleaning.csv',index=False)\n",
    "teste.to_csv('teste_cleaning.csv',index=False)"
   ]
  }
 ],
 "metadata": {
  "kernelspec": {
   "display_name": "Python 3 (ipykernel)",
   "language": "python",
   "name": "python3"
  },
  "language_info": {
   "codemirror_mode": {
    "name": "ipython",
    "version": 3
   },
   "file_extension": ".py",
   "mimetype": "text/x-python",
   "name": "python",
   "nbconvert_exporter": "python",
   "pygments_lexer": "ipython3",
   "version": "3.10.4"
  }
 },
 "nbformat": 4,
 "nbformat_minor": 5
}
