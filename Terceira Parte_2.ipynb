{
 "cells": [
  {
   "cell_type": "code",
   "execution_count": 66,
   "id": "ff0105e6",
   "metadata": {},
   "outputs": [],
   "source": [
    "# Importando a base\n",
    "import pandas as pd\n",
    "treino =pd.read_csv('train_3_1.csv')\n",
    "teste=pd.read_csv('test_3_1.csv',dtype={'BsmtFinSF2': 'str'})"
   ]
  },
  {
   "cell_type": "code",
   "execution_count": 67,
   "id": "b3fa211b",
   "metadata": {},
   "outputs": [
    {
     "data": {
      "text/html": [
       "<div>\n",
       "<style scoped>\n",
       "    .dataframe tbody tr th:only-of-type {\n",
       "        vertical-align: middle;\n",
       "    }\n",
       "\n",
       "    .dataframe tbody tr th {\n",
       "        vertical-align: top;\n",
       "    }\n",
       "\n",
       "    .dataframe thead th {\n",
       "        text-align: right;\n",
       "    }\n",
       "</style>\n",
       "<table border=\"1\" class=\"dataframe\">\n",
       "  <thead>\n",
       "    <tr style=\"text-align: right;\">\n",
       "      <th></th>\n",
       "      <th>Id</th>\n",
       "      <th>MSSubClass</th>\n",
       "      <th>LotFrontage</th>\n",
       "      <th>LotArea</th>\n",
       "      <th>Street</th>\n",
       "      <th>Alley</th>\n",
       "      <th>LotShape</th>\n",
       "      <th>LandContour</th>\n",
       "      <th>LotConfig</th>\n",
       "      <th>LandSlope</th>\n",
       "      <th>...</th>\n",
       "      <th>MSZoning_C (all)</th>\n",
       "      <th>MSZoning_FV</th>\n",
       "      <th>MSZoning_RH</th>\n",
       "      <th>MSZoning_RL</th>\n",
       "      <th>MSZoning_RM</th>\n",
       "      <th>GarageType_-1</th>\n",
       "      <th>GarageType_Attchd</th>\n",
       "      <th>GarageType_BuiltIn</th>\n",
       "      <th>GarageType_Detchd</th>\n",
       "      <th>GarageType_infrequent_sklearn</th>\n",
       "    </tr>\n",
       "  </thead>\n",
       "  <tbody>\n",
       "    <tr>\n",
       "      <th>0</th>\n",
       "      <td>1</td>\n",
       "      <td>60</td>\n",
       "      <td>65.0</td>\n",
       "      <td>8450</td>\n",
       "      <td>Pave</td>\n",
       "      <td>-1</td>\n",
       "      <td>Reg</td>\n",
       "      <td>Lvl</td>\n",
       "      <td>Inside</td>\n",
       "      <td>Gtl</td>\n",
       "      <td>...</td>\n",
       "      <td>0.0</td>\n",
       "      <td>0.0</td>\n",
       "      <td>0.0</td>\n",
       "      <td>1.0</td>\n",
       "      <td>0.0</td>\n",
       "      <td>0.0</td>\n",
       "      <td>1.0</td>\n",
       "      <td>0.0</td>\n",
       "      <td>0.0</td>\n",
       "      <td>0.0</td>\n",
       "    </tr>\n",
       "    <tr>\n",
       "      <th>1</th>\n",
       "      <td>2</td>\n",
       "      <td>20</td>\n",
       "      <td>80.0</td>\n",
       "      <td>9600</td>\n",
       "      <td>Pave</td>\n",
       "      <td>-1</td>\n",
       "      <td>Reg</td>\n",
       "      <td>Lvl</td>\n",
       "      <td>FR2</td>\n",
       "      <td>Gtl</td>\n",
       "      <td>...</td>\n",
       "      <td>0.0</td>\n",
       "      <td>0.0</td>\n",
       "      <td>0.0</td>\n",
       "      <td>1.0</td>\n",
       "      <td>0.0</td>\n",
       "      <td>0.0</td>\n",
       "      <td>1.0</td>\n",
       "      <td>0.0</td>\n",
       "      <td>0.0</td>\n",
       "      <td>0.0</td>\n",
       "    </tr>\n",
       "  </tbody>\n",
       "</table>\n",
       "<p>2 rows × 85 columns</p>\n",
       "</div>"
      ],
      "text/plain": [
       "   Id  MSSubClass  LotFrontage  LotArea Street Alley LotShape LandContour  \\\n",
       "0   1          60         65.0     8450   Pave    -1      Reg         Lvl   \n",
       "1   2          20         80.0     9600   Pave    -1      Reg         Lvl   \n",
       "\n",
       "  LotConfig LandSlope  ... MSZoning_C (all) MSZoning_FV MSZoning_RH  \\\n",
       "0    Inside       Gtl  ...              0.0         0.0         0.0   \n",
       "1       FR2       Gtl  ...              0.0         0.0         0.0   \n",
       "\n",
       "  MSZoning_RL MSZoning_RM  GarageType_-1  GarageType_Attchd  \\\n",
       "0         1.0         0.0            0.0                1.0   \n",
       "1         1.0         0.0            0.0                1.0   \n",
       "\n",
       "   GarageType_BuiltIn  GarageType_Detchd GarageType_infrequent_sklearn  \n",
       "0                 0.0                0.0                           0.0  \n",
       "1                 0.0                0.0                           0.0  \n",
       "\n",
       "[2 rows x 85 columns]"
      ]
     },
     "execution_count": 67,
     "metadata": {},
     "output_type": "execute_result"
    }
   ],
   "source": [
    "# Visualizando o shape das bases\n",
    "treino.head(2)"
   ]
  },
  {
   "cell_type": "markdown",
   "id": "eb9fb2c9",
   "metadata": {},
   "source": [
    "## Tratando as outras colunas que ainda estão como texto"
   ]
  },
  {
   "cell_type": "code",
   "execution_count": 68,
   "id": "11e85aa1",
   "metadata": {},
   "outputs": [
    {
     "data": {
      "text/plain": [
       "int64      36\n",
       "object     36\n",
       "float64    13\n",
       "dtype: int64"
      ]
     },
     "execution_count": 68,
     "metadata": {},
     "output_type": "execute_result"
    }
   ],
   "source": [
    "# Verificando a quantidade de colunas de cada tipo\n",
    "treino.dtypes.value_counts()"
   ]
  },
  {
   "cell_type": "code",
   "execution_count": 69,
   "id": "12d13c93",
   "metadata": {},
   "outputs": [
    {
     "data": {
      "text/plain": [
       "Index(['Street', 'Alley', 'LotShape', 'LandContour', 'LotConfig', 'LandSlope',\n",
       "       'Neighborhood', 'Condition1', 'Condition2', 'BldgType', 'HouseStyle',\n",
       "       'RoofStyle', 'RoofMatl', 'Exterior1st', 'Exterior2nd', 'MasVnrType',\n",
       "       'ExterQual', 'ExterCond', 'Foundation', 'BsmtQual', 'BsmtCond',\n",
       "       'BsmtExposure', 'BsmtFinType1', 'BsmtFinType2', 'BsmtFinSF2', 'Heating',\n",
       "       'HeatingQC', 'Electrical', 'KitchenQual', 'Functional', 'FireplaceQu',\n",
       "       'PoolQC', 'Fence', 'MiscFeature', 'SaleType', 'SaleCondition'],\n",
       "      dtype='object')"
      ]
     },
     "execution_count": 69,
     "metadata": {},
     "output_type": "execute_result"
    }
   ],
   "source": [
    "# Visualizando o nome das colunas não numéricas\n",
    "treino.columns[treino.dtypes.values == 'object']"
   ]
  },
  {
   "cell_type": "code",
   "execution_count": 70,
   "id": "a28d5ac3",
   "metadata": {},
   "outputs": [],
   "source": [
    "#Importando o OrdinalEncoder e o OneHotEncoder\n",
    "from sklearn.preprocessing import OrdinalEncoder\n",
    "from sklearn.preprocessing import OneHotEncoder"
   ]
  },
  {
   "cell_type": "code",
   "execution_count": 71,
   "id": "3fd5ab7f",
   "metadata": {},
   "outputs": [],
   "source": [
    "# Separando as colunas pelos índices verificando se existe ou não separação por ordem.\n",
    "colunas_ohe = [0,1,3,4,6,7,8,9,10,11,12,13,14,15,18,24,26,28,31,32,33,34]\n",
    "colunas_oe = [2,5,16,17,19,20,21,22,23,25,27,29,30]"
   ]
  },
  {
   "cell_type": "code",
   "execution_count": 72,
   "id": "a9692dd1",
   "metadata": {},
   "outputs": [
    {
     "data": {
      "text/plain": [
       "Index(['Street', 'Alley', 'LandContour', 'LotConfig', 'Neighborhood',\n",
       "       'Condition1', 'Condition2', 'BldgType', 'HouseStyle', 'RoofStyle',\n",
       "       'RoofMatl', 'Exterior1st', 'Exterior2nd', 'MasVnrType', 'Foundation',\n",
       "       'BsmtFinSF2', 'HeatingQC', 'KitchenQual', 'PoolQC', 'Fence',\n",
       "       'MiscFeature', 'SaleType'],\n",
       "      dtype='object')"
      ]
     },
     "execution_count": 72,
     "metadata": {},
     "output_type": "execute_result"
    }
   ],
   "source": [
    "#Visualizando as colunas que serão utilizadas o OneHotEncoder\n",
    "cols_ohe = treino.columns[treino.dtypes.values == 'object'][colunas_ohe]\n",
    "cols_ohe"
   ]
  },
  {
   "cell_type": "code",
   "execution_count": 73,
   "id": "d5e2da6e",
   "metadata": {},
   "outputs": [
    {
     "data": {
      "text/plain": [
       "Index(['LotShape', 'LandSlope', 'ExterQual', 'ExterCond', 'BsmtQual',\n",
       "       'BsmtCond', 'BsmtExposure', 'BsmtFinType1', 'BsmtFinType2', 'Heating',\n",
       "       'Electrical', 'Functional', 'FireplaceQu'],\n",
       "      dtype='object')"
      ]
     },
     "execution_count": 73,
     "metadata": {},
     "output_type": "execute_result"
    }
   ],
   "source": [
    "#Visualizando as colunas que serão utilizadas o OrdinalEncoder\n",
    "cols_oe = treino.columns[treino.dtypes.values == 'object'][colunas_oe]\n",
    "cols_oe"
   ]
  },
  {
   "cell_type": "markdown",
   "id": "01abf451",
   "metadata": {},
   "source": [
    "### OneHotEncoder\n",
    "- Treino"
   ]
  },
  {
   "cell_type": "code",
   "execution_count": 74,
   "id": "54c87df5",
   "metadata": {},
   "outputs": [],
   "source": [
    "# Criando o encoder \n",
    "ohe = OneHotEncoder(handle_unknown='infrequent_if_exist',\n",
    "                   min_frequency=50,\n",
    "                   drop='if_binary',\n",
    "                   dtype='int64'\n",
    "                   )"
   ]
  },
  {
   "cell_type": "code",
   "execution_count": 75,
   "id": "56c1a099",
   "metadata": {},
   "outputs": [],
   "source": [
    "#Selecionando a base do ohe e Fazando o fit\n",
    "dados_ohe = treino[cols_ohe]\n",
    "ohe = ohe.fit(dados_ohe)"
   ]
  },
  {
   "cell_type": "code",
   "execution_count": 76,
   "id": "b0b8f81b",
   "metadata": {},
   "outputs": [],
   "source": [
    "# Selecionando a base do ohe e juntando o DataFrame criado com a base.\n",
    "ohe_df = pd.DataFrame(ohe.transform(dados_ohe).toarray(),\n",
    "                     columns=ohe.get_feature_names_out())\n",
    "treino = pd.concat([treino,ohe_df],axis=1)"
   ]
  },
  {
   "cell_type": "code",
   "execution_count": 77,
   "id": "aed4aa4d",
   "metadata": {},
   "outputs": [
    {
     "data": {
      "text/html": [
       "<div>\n",
       "<style scoped>\n",
       "    .dataframe tbody tr th:only-of-type {\n",
       "        vertical-align: middle;\n",
       "    }\n",
       "\n",
       "    .dataframe tbody tr th {\n",
       "        vertical-align: top;\n",
       "    }\n",
       "\n",
       "    .dataframe thead th {\n",
       "        text-align: right;\n",
       "    }\n",
       "</style>\n",
       "<table border=\"1\" class=\"dataframe\">\n",
       "  <thead>\n",
       "    <tr style=\"text-align: right;\">\n",
       "      <th></th>\n",
       "      <th>Street</th>\n",
       "      <th>Alley</th>\n",
       "      <th>LandContour</th>\n",
       "      <th>LotConfig</th>\n",
       "      <th>Neighborhood</th>\n",
       "      <th>Condition1</th>\n",
       "      <th>Condition2</th>\n",
       "      <th>BldgType</th>\n",
       "      <th>HouseStyle</th>\n",
       "      <th>RoofStyle</th>\n",
       "      <th>...</th>\n",
       "      <th>Exterior2nd</th>\n",
       "      <th>MasVnrType</th>\n",
       "      <th>Foundation</th>\n",
       "      <th>BsmtFinSF2</th>\n",
       "      <th>HeatingQC</th>\n",
       "      <th>KitchenQual</th>\n",
       "      <th>PoolQC</th>\n",
       "      <th>Fence</th>\n",
       "      <th>MiscFeature</th>\n",
       "      <th>SaleType</th>\n",
       "    </tr>\n",
       "  </thead>\n",
       "  <tbody>\n",
       "    <tr>\n",
       "      <th>0</th>\n",
       "      <td>Pave</td>\n",
       "      <td>-1</td>\n",
       "      <td>Lvl</td>\n",
       "      <td>Inside</td>\n",
       "      <td>NAmes</td>\n",
       "      <td>Feedr</td>\n",
       "      <td>Norm</td>\n",
       "      <td>1Fam</td>\n",
       "      <td>1Story</td>\n",
       "      <td>Gable</td>\n",
       "      <td>...</td>\n",
       "      <td>VinylSd</td>\n",
       "      <td>None</td>\n",
       "      <td>CBlock</td>\n",
       "      <td>144.0</td>\n",
       "      <td>TA</td>\n",
       "      <td>TA</td>\n",
       "      <td>-1</td>\n",
       "      <td>MnPrv</td>\n",
       "      <td>-1</td>\n",
       "      <td>WD</td>\n",
       "    </tr>\n",
       "    <tr>\n",
       "      <th>1</th>\n",
       "      <td>Pave</td>\n",
       "      <td>-1</td>\n",
       "      <td>Lvl</td>\n",
       "      <td>Corner</td>\n",
       "      <td>NAmes</td>\n",
       "      <td>Norm</td>\n",
       "      <td>Norm</td>\n",
       "      <td>1Fam</td>\n",
       "      <td>1Story</td>\n",
       "      <td>Hip</td>\n",
       "      <td>...</td>\n",
       "      <td>Wd Sdng</td>\n",
       "      <td>BrkFace</td>\n",
       "      <td>CBlock</td>\n",
       "      <td>0.0</td>\n",
       "      <td>TA</td>\n",
       "      <td>Gd</td>\n",
       "      <td>-1</td>\n",
       "      <td>-1</td>\n",
       "      <td>Gar2</td>\n",
       "      <td>WD</td>\n",
       "    </tr>\n",
       "    <tr>\n",
       "      <th>2</th>\n",
       "      <td>Pave</td>\n",
       "      <td>-1</td>\n",
       "      <td>Lvl</td>\n",
       "      <td>Inside</td>\n",
       "      <td>Gilbert</td>\n",
       "      <td>Norm</td>\n",
       "      <td>Norm</td>\n",
       "      <td>1Fam</td>\n",
       "      <td>2Story</td>\n",
       "      <td>Gable</td>\n",
       "      <td>...</td>\n",
       "      <td>VinylSd</td>\n",
       "      <td>None</td>\n",
       "      <td>PConc</td>\n",
       "      <td>0.0</td>\n",
       "      <td>Gd</td>\n",
       "      <td>TA</td>\n",
       "      <td>-1</td>\n",
       "      <td>MnPrv</td>\n",
       "      <td>-1</td>\n",
       "      <td>WD</td>\n",
       "    </tr>\n",
       "  </tbody>\n",
       "</table>\n",
       "<p>3 rows × 22 columns</p>\n",
       "</div>"
      ],
      "text/plain": [
       "  Street Alley LandContour LotConfig Neighborhood Condition1 Condition2  \\\n",
       "0   Pave    -1         Lvl    Inside        NAmes      Feedr       Norm   \n",
       "1   Pave    -1         Lvl    Corner        NAmes       Norm       Norm   \n",
       "2   Pave    -1         Lvl    Inside      Gilbert       Norm       Norm   \n",
       "\n",
       "  BldgType HouseStyle RoofStyle  ... Exterior2nd MasVnrType Foundation  \\\n",
       "0     1Fam     1Story     Gable  ...     VinylSd       None     CBlock   \n",
       "1     1Fam     1Story       Hip  ...     Wd Sdng    BrkFace     CBlock   \n",
       "2     1Fam     2Story     Gable  ...     VinylSd       None      PConc   \n",
       "\n",
       "  BsmtFinSF2 HeatingQC KitchenQual PoolQC  Fence MiscFeature SaleType  \n",
       "0      144.0        TA          TA     -1  MnPrv          -1       WD  \n",
       "1        0.0        TA          Gd     -1     -1        Gar2       WD  \n",
       "2        0.0        Gd          TA     -1  MnPrv          -1       WD  \n",
       "\n",
       "[3 rows x 22 columns]"
      ]
     },
     "execution_count": 77,
     "metadata": {},
     "output_type": "execute_result"
    }
   ],
   "source": [
    "# Selecionando a base do ohe para Teste\n",
    "dados_ohe_teste = teste[cols_ohe]\n",
    "dados_ohe_teste.head(3)"
   ]
  },
  {
   "cell_type": "markdown",
   "id": "41634108",
   "metadata": {},
   "source": [
    "- Teste"
   ]
  },
  {
   "cell_type": "code",
   "execution_count": 78,
   "id": "e43324fe",
   "metadata": {},
   "outputs": [
    {
     "name": "stderr",
     "output_type": "stream",
     "text": [
      "C:\\Users\\Usuário\\AppData\\Local\\Programs\\Python\\Python310\\lib\\site-packages\\sklearn\\preprocessing\\_encoders.py:202: UserWarning: Found unknown categories in columns [15] during transform. These unknown categories will be encoded as all zeros\n",
      "  warnings.warn(\n"
     ]
    },
    {
     "data": {
      "text/html": [
       "<div>\n",
       "<style scoped>\n",
       "    .dataframe tbody tr th:only-of-type {\n",
       "        vertical-align: middle;\n",
       "    }\n",
       "\n",
       "    .dataframe tbody tr th {\n",
       "        vertical-align: top;\n",
       "    }\n",
       "\n",
       "    .dataframe thead th {\n",
       "        text-align: right;\n",
       "    }\n",
       "</style>\n",
       "<table border=\"1\" class=\"dataframe\">\n",
       "  <thead>\n",
       "    <tr style=\"text-align: right;\">\n",
       "      <th></th>\n",
       "      <th>Id</th>\n",
       "      <th>MSSubClass</th>\n",
       "      <th>LotFrontage</th>\n",
       "      <th>LotArea</th>\n",
       "      <th>Street</th>\n",
       "      <th>Alley</th>\n",
       "      <th>LotShape</th>\n",
       "      <th>LandContour</th>\n",
       "      <th>LotConfig</th>\n",
       "      <th>LandSlope</th>\n",
       "      <th>...</th>\n",
       "      <th>PoolQC_infrequent_sklearn</th>\n",
       "      <th>Fence_-1</th>\n",
       "      <th>Fence_GdPrv</th>\n",
       "      <th>Fence_GdWo</th>\n",
       "      <th>Fence_MnPrv</th>\n",
       "      <th>Fence_infrequent_sklearn</th>\n",
       "      <th>MiscFeature_infrequent_sklearn</th>\n",
       "      <th>SaleType_New</th>\n",
       "      <th>SaleType_WD</th>\n",
       "      <th>SaleType_infrequent_sklearn</th>\n",
       "    </tr>\n",
       "  </thead>\n",
       "  <tbody>\n",
       "    <tr>\n",
       "      <th>0</th>\n",
       "      <td>1461</td>\n",
       "      <td>20</td>\n",
       "      <td>80.0</td>\n",
       "      <td>11622</td>\n",
       "      <td>Pave</td>\n",
       "      <td>-1</td>\n",
       "      <td>Reg</td>\n",
       "      <td>Lvl</td>\n",
       "      <td>Inside</td>\n",
       "      <td>Gtl</td>\n",
       "      <td>...</td>\n",
       "      <td>0</td>\n",
       "      <td>0</td>\n",
       "      <td>0</td>\n",
       "      <td>0</td>\n",
       "      <td>1</td>\n",
       "      <td>0</td>\n",
       "      <td>0</td>\n",
       "      <td>0</td>\n",
       "      <td>1</td>\n",
       "      <td>0</td>\n",
       "    </tr>\n",
       "    <tr>\n",
       "      <th>1</th>\n",
       "      <td>1462</td>\n",
       "      <td>20</td>\n",
       "      <td>81.0</td>\n",
       "      <td>14267</td>\n",
       "      <td>Pave</td>\n",
       "      <td>-1</td>\n",
       "      <td>IR1</td>\n",
       "      <td>Lvl</td>\n",
       "      <td>Corner</td>\n",
       "      <td>Gtl</td>\n",
       "      <td>...</td>\n",
       "      <td>0</td>\n",
       "      <td>1</td>\n",
       "      <td>0</td>\n",
       "      <td>0</td>\n",
       "      <td>0</td>\n",
       "      <td>0</td>\n",
       "      <td>1</td>\n",
       "      <td>0</td>\n",
       "      <td>1</td>\n",
       "      <td>0</td>\n",
       "    </tr>\n",
       "    <tr>\n",
       "      <th>2</th>\n",
       "      <td>1463</td>\n",
       "      <td>60</td>\n",
       "      <td>74.0</td>\n",
       "      <td>13830</td>\n",
       "      <td>Pave</td>\n",
       "      <td>-1</td>\n",
       "      <td>IR1</td>\n",
       "      <td>Lvl</td>\n",
       "      <td>Inside</td>\n",
       "      <td>Gtl</td>\n",
       "      <td>...</td>\n",
       "      <td>0</td>\n",
       "      <td>0</td>\n",
       "      <td>0</td>\n",
       "      <td>0</td>\n",
       "      <td>1</td>\n",
       "      <td>0</td>\n",
       "      <td>0</td>\n",
       "      <td>0</td>\n",
       "      <td>1</td>\n",
       "      <td>0</td>\n",
       "    </tr>\n",
       "  </tbody>\n",
       "</table>\n",
       "<p>3 rows × 168 columns</p>\n",
       "</div>"
      ],
      "text/plain": [
       "     Id  MSSubClass  LotFrontage  LotArea Street Alley LotShape LandContour  \\\n",
       "0  1461          20         80.0    11622   Pave    -1      Reg         Lvl   \n",
       "1  1462          20         81.0    14267   Pave    -1      IR1         Lvl   \n",
       "2  1463          60         74.0    13830   Pave    -1      IR1         Lvl   \n",
       "\n",
       "  LotConfig LandSlope  ... PoolQC_infrequent_sklearn Fence_-1 Fence_GdPrv  \\\n",
       "0    Inside       Gtl  ...                         0        0           0   \n",
       "1    Corner       Gtl  ...                         0        1           0   \n",
       "2    Inside       Gtl  ...                         0        0           0   \n",
       "\n",
       "  Fence_GdWo Fence_MnPrv  Fence_infrequent_sklearn  \\\n",
       "0          0           1                         0   \n",
       "1          0           0                         0   \n",
       "2          0           1                         0   \n",
       "\n",
       "   MiscFeature_infrequent_sklearn  SaleType_New  SaleType_WD  \\\n",
       "0                               0             0            1   \n",
       "1                               1             0            1   \n",
       "2                               0             0            1   \n",
       "\n",
       "  SaleType_infrequent_sklearn  \n",
       "0                           0  \n",
       "1                           0  \n",
       "2                           0  \n",
       "\n",
       "[3 rows x 168 columns]"
      ]
     },
     "execution_count": 78,
     "metadata": {},
     "output_type": "execute_result"
    }
   ],
   "source": [
    "# Fazendo o ohe para teste\n",
    "ohe_df = pd.DataFrame(ohe.transform(dados_ohe_teste).toarray(),\n",
    "                     columns=ohe.get_feature_names_out())\n",
    "teste = pd.concat([teste,ohe_df],axis=1)\n",
    "teste.head(3)"
   ]
  },
  {
   "cell_type": "markdown",
   "id": "8fc0d7fc",
   "metadata": {},
   "source": [
    "### OrdinalEncoder"
   ]
  },
  {
   "cell_type": "code",
   "execution_count": 79,
   "id": "07c20165",
   "metadata": {},
   "outputs": [],
   "source": [
    "# Definindo a ordem dos valores de cada coluna do OrdinalEncoder\n",
    "dados_oe = []\n",
    "dados_oe.append(['IR3','IR2','IR1','Reg']) # LotShape\n",
    "dados_oe.append(['Gtl','Mod','Sev']) # LandSlope\n",
    "dados_oe.append(['Po','Fa','TA','Gd','Ex']) # ExterQual\n",
    "dados_oe.append(['Po','Fa','TA','Gd','Ex']) # ExterCond\n",
    "dados_oe.append(['Po','Fa','TA','Gd','Ex']) # BsmtQual\n",
    "dados_oe.append(['Po','Fa','TA','Gd','Ex']) # BsmtCond\n",
    "dados_oe.append(['No','Mn','Av','Gd']) # BsmtExposure\n",
    "dados_oe.append(['Unf','LwQ','Rec','BLQ','ALQ','GLQ']) # BsmtFinType1\n",
    "dados_oe.append(['Unf','LwQ','Rec','BLQ','ALQ','GLQ']) # BsmtFinType2\n",
    "dados_oe.append(['Po','Fa','TA','Gd','Ex']) # HeatingQC\n",
    "dados_oe.append(['Po','Fa','TA','Gd','Ex']) # KitchenQual\n",
    "dados_oe.append(['Po','Fa','TA','Gd','Ex']) # FireplaceQu\n",
    "dados_oe.append(['Po','Fa','TA','Gd','Ex']) # PoolQC"
   ]
  },
  {
   "cell_type": "markdown",
   "id": "43fb2219",
   "metadata": {},
   "source": [
    "### Treino"
   ]
  },
  {
   "cell_type": "code",
   "execution_count": 80,
   "id": "8624c217",
   "metadata": {},
   "outputs": [],
   "source": [
    "# Criando o encoder\n",
    "oe = OrdinalEncoder(categories=dados_oe,\n",
    "                     handle_unknown='use_encoded_value',\n",
    "                     unknown_value=-1,\n",
    "                     dtype='int64'                       \n",
    "                    )"
   ]
  },
  {
   "cell_type": "code",
   "execution_count": 81,
   "id": "a857bfb3",
   "metadata": {},
   "outputs": [],
   "source": [
    "# Selecionando a base do oe\n",
    "dados_oe = treino[cols_oe]\n",
    "# Fazando o fit\n",
    "oe = oe.fit(dados_oe)\n",
    "# Fazendo o transform já na base\n",
    "treino[cols_oe] = oe.transform(dados_oe)"
   ]
  },
  {
   "cell_type": "markdown",
   "id": "1e0fbecc",
   "metadata": {},
   "source": [
    "### Teste"
   ]
  },
  {
   "cell_type": "code",
   "execution_count": 82,
   "id": "cc95e16a",
   "metadata": {},
   "outputs": [
    {
     "data": {
      "text/html": [
       "<div>\n",
       "<style scoped>\n",
       "    .dataframe tbody tr th:only-of-type {\n",
       "        vertical-align: middle;\n",
       "    }\n",
       "\n",
       "    .dataframe tbody tr th {\n",
       "        vertical-align: top;\n",
       "    }\n",
       "\n",
       "    .dataframe thead th {\n",
       "        text-align: right;\n",
       "    }\n",
       "</style>\n",
       "<table border=\"1\" class=\"dataframe\">\n",
       "  <thead>\n",
       "    <tr style=\"text-align: right;\">\n",
       "      <th></th>\n",
       "      <th>LotShape</th>\n",
       "      <th>LandSlope</th>\n",
       "      <th>ExterQual</th>\n",
       "      <th>ExterCond</th>\n",
       "      <th>BsmtQual</th>\n",
       "      <th>BsmtCond</th>\n",
       "      <th>BsmtExposure</th>\n",
       "      <th>BsmtFinType1</th>\n",
       "      <th>BsmtFinType2</th>\n",
       "      <th>Heating</th>\n",
       "      <th>Electrical</th>\n",
       "      <th>Functional</th>\n",
       "      <th>FireplaceQu</th>\n",
       "    </tr>\n",
       "  </thead>\n",
       "  <tbody>\n",
       "    <tr>\n",
       "      <th>0</th>\n",
       "      <td>Reg</td>\n",
       "      <td>Gtl</td>\n",
       "      <td>TA</td>\n",
       "      <td>TA</td>\n",
       "      <td>TA</td>\n",
       "      <td>TA</td>\n",
       "      <td>No</td>\n",
       "      <td>Rec</td>\n",
       "      <td>LwQ</td>\n",
       "      <td>GasA</td>\n",
       "      <td>SBrkr</td>\n",
       "      <td>Typ</td>\n",
       "      <td>-1</td>\n",
       "    </tr>\n",
       "    <tr>\n",
       "      <th>1</th>\n",
       "      <td>IR1</td>\n",
       "      <td>Gtl</td>\n",
       "      <td>TA</td>\n",
       "      <td>TA</td>\n",
       "      <td>TA</td>\n",
       "      <td>TA</td>\n",
       "      <td>No</td>\n",
       "      <td>ALQ</td>\n",
       "      <td>Unf</td>\n",
       "      <td>GasA</td>\n",
       "      <td>SBrkr</td>\n",
       "      <td>Typ</td>\n",
       "      <td>-1</td>\n",
       "    </tr>\n",
       "    <tr>\n",
       "      <th>2</th>\n",
       "      <td>IR1</td>\n",
       "      <td>Gtl</td>\n",
       "      <td>TA</td>\n",
       "      <td>TA</td>\n",
       "      <td>Gd</td>\n",
       "      <td>TA</td>\n",
       "      <td>No</td>\n",
       "      <td>GLQ</td>\n",
       "      <td>Unf</td>\n",
       "      <td>GasA</td>\n",
       "      <td>SBrkr</td>\n",
       "      <td>Typ</td>\n",
       "      <td>TA</td>\n",
       "    </tr>\n",
       "  </tbody>\n",
       "</table>\n",
       "</div>"
      ],
      "text/plain": [
       "  LotShape LandSlope ExterQual ExterCond BsmtQual BsmtCond BsmtExposure  \\\n",
       "0      Reg       Gtl        TA        TA       TA       TA           No   \n",
       "1      IR1       Gtl        TA        TA       TA       TA           No   \n",
       "2      IR1       Gtl        TA        TA       Gd       TA           No   \n",
       "\n",
       "  BsmtFinType1 BsmtFinType2 Heating Electrical Functional FireplaceQu  \n",
       "0          Rec          LwQ    GasA      SBrkr        Typ          -1  \n",
       "1          ALQ          Unf    GasA      SBrkr        Typ          -1  \n",
       "2          GLQ          Unf    GasA      SBrkr        Typ          TA  "
      ]
     },
     "execution_count": 82,
     "metadata": {},
     "output_type": "execute_result"
    }
   ],
   "source": [
    "# Selecionando a base do oe\n",
    "dados_oe_teste = teste[cols_oe]\n",
    "dados_oe_teste.head(3)"
   ]
  },
  {
   "cell_type": "code",
   "execution_count": 83,
   "id": "83ab4771",
   "metadata": {},
   "outputs": [],
   "source": [
    "# Transformando\n",
    "\n",
    "teste[cols_oe] = oe.transform(dados_oe_teste)"
   ]
  },
  {
   "cell_type": "code",
   "execution_count": 84,
   "id": "e04062c5",
   "metadata": {},
   "outputs": [],
   "source": [
    "# Eliminando as colunas do ohe\n",
    "treino = treino.drop(cols_ohe,axis=1)\n",
    "teste = teste.drop(cols_ohe,axis=1)"
   ]
  },
  {
   "cell_type": "code",
   "execution_count": 85,
   "id": "c2d009ae",
   "metadata": {},
   "outputs": [],
   "source": [
    "# Exportando a base até esse momento\n",
    "treino.to_csv('train_3_2.csv',index=False)\n",
    "teste.to_csv('test_3_2.csv',index=False)"
   ]
  }
 ],
 "metadata": {
  "kernelspec": {
   "display_name": "Python 3 (ipykernel)",
   "language": "python",
   "name": "python3"
  },
  "language_info": {
   "codemirror_mode": {
    "name": "ipython",
    "version": 3
   },
   "file_extension": ".py",
   "mimetype": "text/x-python",
   "name": "python",
   "nbconvert_exporter": "python",
   "pygments_lexer": "ipython3",
   "version": "3.10.4"
  }
 },
 "nbformat": 4,
 "nbformat_minor": 5
}
